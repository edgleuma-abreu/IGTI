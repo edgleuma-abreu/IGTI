{
  "nbformat": 4,
  "nbformat_minor": 0,
  "metadata": {
    "colab": {
      "provenance": [],
      "collapsed_sections": [],
      "authorship_tag": "ABX9TyPPwR33f1jAwNZYp5tf5jmZ",
      "include_colab_link": true
    },
    "kernelspec": {
      "name": "python3",
      "display_name": "Python 3"
    },
    "language_info": {
      "name": "python"
    },
    "widgets": {
      "application/vnd.jupyter.widget-state+json": {
        "fd84ce81f931414e9537e3fbc455277b": {
          "model_module": "@jupyter-widgets/controls",
          "model_name": "HBoxModel",
          "model_module_version": "1.5.0",
          "state": {
            "_dom_classes": [],
            "_model_module": "@jupyter-widgets/controls",
            "_model_module_version": "1.5.0",
            "_model_name": "HBoxModel",
            "_view_count": null,
            "_view_module": "@jupyter-widgets/controls",
            "_view_module_version": "1.5.0",
            "_view_name": "HBoxView",
            "box_style": "",
            "children": [
              "IPY_MODEL_b564af783e874b48acf033c4a70d2a96",
              "IPY_MODEL_f7cc3cc96f824e1f941bc9dc2a845b84",
              "IPY_MODEL_29ca8e57ebf54f9eb9a32b53b3799caf"
            ],
            "layout": "IPY_MODEL_d36776a6e8004ef388dc0c577e6d6c4c"
          }
        },
        "b564af783e874b48acf033c4a70d2a96": {
          "model_module": "@jupyter-widgets/controls",
          "model_name": "HTMLModel",
          "model_module_version": "1.5.0",
          "state": {
            "_dom_classes": [],
            "_model_module": "@jupyter-widgets/controls",
            "_model_module_version": "1.5.0",
            "_model_name": "HTMLModel",
            "_view_count": null,
            "_view_module": "@jupyter-widgets/controls",
            "_view_module_version": "1.5.0",
            "_view_name": "HTMLView",
            "description": "",
            "description_tooltip": null,
            "layout": "IPY_MODEL_c987dd8b63064898ad0e3b98df84829b",
            "placeholder": "​",
            "style": "IPY_MODEL_3731c9fb736548b6958f300ab6e83f72",
            "value": "100%"
          }
        },
        "f7cc3cc96f824e1f941bc9dc2a845b84": {
          "model_module": "@jupyter-widgets/controls",
          "model_name": "FloatProgressModel",
          "model_module_version": "1.5.0",
          "state": {
            "_dom_classes": [],
            "_model_module": "@jupyter-widgets/controls",
            "_model_module_version": "1.5.0",
            "_model_name": "FloatProgressModel",
            "_view_count": null,
            "_view_module": "@jupyter-widgets/controls",
            "_view_module_version": "1.5.0",
            "_view_name": "ProgressView",
            "bar_style": "success",
            "description": "",
            "description_tooltip": null,
            "layout": "IPY_MODEL_c1be9700b64c4371b797a52c339d1869",
            "max": 4,
            "min": 0,
            "orientation": "horizontal",
            "style": "IPY_MODEL_e4bee825ed594b8db6a8e6cb30693db3",
            "value": 4
          }
        },
        "29ca8e57ebf54f9eb9a32b53b3799caf": {
          "model_module": "@jupyter-widgets/controls",
          "model_name": "HTMLModel",
          "model_module_version": "1.5.0",
          "state": {
            "_dom_classes": [],
            "_model_module": "@jupyter-widgets/controls",
            "_model_module_version": "1.5.0",
            "_model_name": "HTMLModel",
            "_view_count": null,
            "_view_module": "@jupyter-widgets/controls",
            "_view_module_version": "1.5.0",
            "_view_name": "HTMLView",
            "description": "",
            "description_tooltip": null,
            "layout": "IPY_MODEL_18bab3a9e8b44c7dada37c15f825f5c6",
            "placeholder": "​",
            "style": "IPY_MODEL_5705272044734eb1bee735fbce848bd2",
            "value": " 4/4 [00:06&lt;00:00,  1.34s/it]"
          }
        },
        "d36776a6e8004ef388dc0c577e6d6c4c": {
          "model_module": "@jupyter-widgets/base",
          "model_name": "LayoutModel",
          "model_module_version": "1.2.0",
          "state": {
            "_model_module": "@jupyter-widgets/base",
            "_model_module_version": "1.2.0",
            "_model_name": "LayoutModel",
            "_view_count": null,
            "_view_module": "@jupyter-widgets/base",
            "_view_module_version": "1.2.0",
            "_view_name": "LayoutView",
            "align_content": null,
            "align_items": null,
            "align_self": null,
            "border": null,
            "bottom": null,
            "display": null,
            "flex": null,
            "flex_flow": null,
            "grid_area": null,
            "grid_auto_columns": null,
            "grid_auto_flow": null,
            "grid_auto_rows": null,
            "grid_column": null,
            "grid_gap": null,
            "grid_row": null,
            "grid_template_areas": null,
            "grid_template_columns": null,
            "grid_template_rows": null,
            "height": null,
            "justify_content": null,
            "justify_items": null,
            "left": null,
            "margin": null,
            "max_height": null,
            "max_width": null,
            "min_height": null,
            "min_width": null,
            "object_fit": null,
            "object_position": null,
            "order": null,
            "overflow": null,
            "overflow_x": null,
            "overflow_y": null,
            "padding": null,
            "right": null,
            "top": null,
            "visibility": null,
            "width": null
          }
        },
        "c987dd8b63064898ad0e3b98df84829b": {
          "model_module": "@jupyter-widgets/base",
          "model_name": "LayoutModel",
          "model_module_version": "1.2.0",
          "state": {
            "_model_module": "@jupyter-widgets/base",
            "_model_module_version": "1.2.0",
            "_model_name": "LayoutModel",
            "_view_count": null,
            "_view_module": "@jupyter-widgets/base",
            "_view_module_version": "1.2.0",
            "_view_name": "LayoutView",
            "align_content": null,
            "align_items": null,
            "align_self": null,
            "border": null,
            "bottom": null,
            "display": null,
            "flex": null,
            "flex_flow": null,
            "grid_area": null,
            "grid_auto_columns": null,
            "grid_auto_flow": null,
            "grid_auto_rows": null,
            "grid_column": null,
            "grid_gap": null,
            "grid_row": null,
            "grid_template_areas": null,
            "grid_template_columns": null,
            "grid_template_rows": null,
            "height": null,
            "justify_content": null,
            "justify_items": null,
            "left": null,
            "margin": null,
            "max_height": null,
            "max_width": null,
            "min_height": null,
            "min_width": null,
            "object_fit": null,
            "object_position": null,
            "order": null,
            "overflow": null,
            "overflow_x": null,
            "overflow_y": null,
            "padding": null,
            "right": null,
            "top": null,
            "visibility": null,
            "width": null
          }
        },
        "3731c9fb736548b6958f300ab6e83f72": {
          "model_module": "@jupyter-widgets/controls",
          "model_name": "DescriptionStyleModel",
          "model_module_version": "1.5.0",
          "state": {
            "_model_module": "@jupyter-widgets/controls",
            "_model_module_version": "1.5.0",
            "_model_name": "DescriptionStyleModel",
            "_view_count": null,
            "_view_module": "@jupyter-widgets/base",
            "_view_module_version": "1.2.0",
            "_view_name": "StyleView",
            "description_width": ""
          }
        },
        "c1be9700b64c4371b797a52c339d1869": {
          "model_module": "@jupyter-widgets/base",
          "model_name": "LayoutModel",
          "model_module_version": "1.2.0",
          "state": {
            "_model_module": "@jupyter-widgets/base",
            "_model_module_version": "1.2.0",
            "_model_name": "LayoutModel",
            "_view_count": null,
            "_view_module": "@jupyter-widgets/base",
            "_view_module_version": "1.2.0",
            "_view_name": "LayoutView",
            "align_content": null,
            "align_items": null,
            "align_self": null,
            "border": null,
            "bottom": null,
            "display": null,
            "flex": null,
            "flex_flow": null,
            "grid_area": null,
            "grid_auto_columns": null,
            "grid_auto_flow": null,
            "grid_auto_rows": null,
            "grid_column": null,
            "grid_gap": null,
            "grid_row": null,
            "grid_template_areas": null,
            "grid_template_columns": null,
            "grid_template_rows": null,
            "height": null,
            "justify_content": null,
            "justify_items": null,
            "left": null,
            "margin": null,
            "max_height": null,
            "max_width": null,
            "min_height": null,
            "min_width": null,
            "object_fit": null,
            "object_position": null,
            "order": null,
            "overflow": null,
            "overflow_x": null,
            "overflow_y": null,
            "padding": null,
            "right": null,
            "top": null,
            "visibility": null,
            "width": null
          }
        },
        "e4bee825ed594b8db6a8e6cb30693db3": {
          "model_module": "@jupyter-widgets/controls",
          "model_name": "ProgressStyleModel",
          "model_module_version": "1.5.0",
          "state": {
            "_model_module": "@jupyter-widgets/controls",
            "_model_module_version": "1.5.0",
            "_model_name": "ProgressStyleModel",
            "_view_count": null,
            "_view_module": "@jupyter-widgets/base",
            "_view_module_version": "1.2.0",
            "_view_name": "StyleView",
            "bar_color": null,
            "description_width": ""
          }
        },
        "18bab3a9e8b44c7dada37c15f825f5c6": {
          "model_module": "@jupyter-widgets/base",
          "model_name": "LayoutModel",
          "model_module_version": "1.2.0",
          "state": {
            "_model_module": "@jupyter-widgets/base",
            "_model_module_version": "1.2.0",
            "_model_name": "LayoutModel",
            "_view_count": null,
            "_view_module": "@jupyter-widgets/base",
            "_view_module_version": "1.2.0",
            "_view_name": "LayoutView",
            "align_content": null,
            "align_items": null,
            "align_self": null,
            "border": null,
            "bottom": null,
            "display": null,
            "flex": null,
            "flex_flow": null,
            "grid_area": null,
            "grid_auto_columns": null,
            "grid_auto_flow": null,
            "grid_auto_rows": null,
            "grid_column": null,
            "grid_gap": null,
            "grid_row": null,
            "grid_template_areas": null,
            "grid_template_columns": null,
            "grid_template_rows": null,
            "height": null,
            "justify_content": null,
            "justify_items": null,
            "left": null,
            "margin": null,
            "max_height": null,
            "max_width": null,
            "min_height": null,
            "min_width": null,
            "object_fit": null,
            "object_position": null,
            "order": null,
            "overflow": null,
            "overflow_x": null,
            "overflow_y": null,
            "padding": null,
            "right": null,
            "top": null,
            "visibility": null,
            "width": null
          }
        },
        "5705272044734eb1bee735fbce848bd2": {
          "model_module": "@jupyter-widgets/controls",
          "model_name": "DescriptionStyleModel",
          "model_module_version": "1.5.0",
          "state": {
            "_model_module": "@jupyter-widgets/controls",
            "_model_module_version": "1.5.0",
            "_model_name": "DescriptionStyleModel",
            "_view_count": null,
            "_view_module": "@jupyter-widgets/base",
            "_view_module_version": "1.2.0",
            "_view_name": "StyleView",
            "description_width": ""
          }
        },
        "49b1e073cc9e4a20a565a29f514aeeb4": {
          "model_module": "@jupyter-widgets/controls",
          "model_name": "HBoxModel",
          "model_module_version": "1.5.0",
          "state": {
            "_dom_classes": [],
            "_model_module": "@jupyter-widgets/controls",
            "_model_module_version": "1.5.0",
            "_model_name": "HBoxModel",
            "_view_count": null,
            "_view_module": "@jupyter-widgets/controls",
            "_view_module_version": "1.5.0",
            "_view_name": "HBoxView",
            "box_style": "",
            "children": [
              "IPY_MODEL_7a546064c526484aa44f80cdfaa2f03c",
              "IPY_MODEL_8402f749178e43cfb3cb4b4ff44ee7d4",
              "IPY_MODEL_2850a6c14bbb46c391f90f91becc217c"
            ],
            "layout": "IPY_MODEL_4faf5adab11e43d692aa46c4cc7096b2"
          }
        },
        "7a546064c526484aa44f80cdfaa2f03c": {
          "model_module": "@jupyter-widgets/controls",
          "model_name": "HTMLModel",
          "model_module_version": "1.5.0",
          "state": {
            "_dom_classes": [],
            "_model_module": "@jupyter-widgets/controls",
            "_model_module_version": "1.5.0",
            "_model_name": "HTMLModel",
            "_view_count": null,
            "_view_module": "@jupyter-widgets/controls",
            "_view_module_version": "1.5.0",
            "_view_name": "HTMLView",
            "description": "",
            "description_tooltip": null,
            "layout": "IPY_MODEL_22031cc7de894161a81f52a007d9453b",
            "placeholder": "​",
            "style": "IPY_MODEL_c36fffb7bc1f4415ad2bafe91b6ea4bd",
            "value": "100%"
          }
        },
        "8402f749178e43cfb3cb4b4ff44ee7d4": {
          "model_module": "@jupyter-widgets/controls",
          "model_name": "FloatProgressModel",
          "model_module_version": "1.5.0",
          "state": {
            "_dom_classes": [],
            "_model_module": "@jupyter-widgets/controls",
            "_model_module_version": "1.5.0",
            "_model_name": "FloatProgressModel",
            "_view_count": null,
            "_view_module": "@jupyter-widgets/controls",
            "_view_module_version": "1.5.0",
            "_view_name": "ProgressView",
            "bar_style": "success",
            "description": "",
            "description_tooltip": null,
            "layout": "IPY_MODEL_d4395f4040a34c57a0da6af70b68e094",
            "max": 3,
            "min": 0,
            "orientation": "horizontal",
            "style": "IPY_MODEL_4140442a409941889e69317cbe912cc4",
            "value": 3
          }
        },
        "2850a6c14bbb46c391f90f91becc217c": {
          "model_module": "@jupyter-widgets/controls",
          "model_name": "HTMLModel",
          "model_module_version": "1.5.0",
          "state": {
            "_dom_classes": [],
            "_model_module": "@jupyter-widgets/controls",
            "_model_module_version": "1.5.0",
            "_model_name": "HTMLModel",
            "_view_count": null,
            "_view_module": "@jupyter-widgets/controls",
            "_view_module_version": "1.5.0",
            "_view_name": "HTMLView",
            "description": "",
            "description_tooltip": null,
            "layout": "IPY_MODEL_c0485a018f844e499391679987b34a68",
            "placeholder": "​",
            "style": "IPY_MODEL_e41265518b8741039ff57bf9dd1b77ff",
            "value": " 3/3 [00:03&lt;00:00,  1.01s/it]"
          }
        },
        "4faf5adab11e43d692aa46c4cc7096b2": {
          "model_module": "@jupyter-widgets/base",
          "model_name": "LayoutModel",
          "model_module_version": "1.2.0",
          "state": {
            "_model_module": "@jupyter-widgets/base",
            "_model_module_version": "1.2.0",
            "_model_name": "LayoutModel",
            "_view_count": null,
            "_view_module": "@jupyter-widgets/base",
            "_view_module_version": "1.2.0",
            "_view_name": "LayoutView",
            "align_content": null,
            "align_items": null,
            "align_self": null,
            "border": null,
            "bottom": null,
            "display": null,
            "flex": null,
            "flex_flow": null,
            "grid_area": null,
            "grid_auto_columns": null,
            "grid_auto_flow": null,
            "grid_auto_rows": null,
            "grid_column": null,
            "grid_gap": null,
            "grid_row": null,
            "grid_template_areas": null,
            "grid_template_columns": null,
            "grid_template_rows": null,
            "height": null,
            "justify_content": null,
            "justify_items": null,
            "left": null,
            "margin": null,
            "max_height": null,
            "max_width": null,
            "min_height": null,
            "min_width": null,
            "object_fit": null,
            "object_position": null,
            "order": null,
            "overflow": null,
            "overflow_x": null,
            "overflow_y": null,
            "padding": null,
            "right": null,
            "top": null,
            "visibility": null,
            "width": null
          }
        },
        "22031cc7de894161a81f52a007d9453b": {
          "model_module": "@jupyter-widgets/base",
          "model_name": "LayoutModel",
          "model_module_version": "1.2.0",
          "state": {
            "_model_module": "@jupyter-widgets/base",
            "_model_module_version": "1.2.0",
            "_model_name": "LayoutModel",
            "_view_count": null,
            "_view_module": "@jupyter-widgets/base",
            "_view_module_version": "1.2.0",
            "_view_name": "LayoutView",
            "align_content": null,
            "align_items": null,
            "align_self": null,
            "border": null,
            "bottom": null,
            "display": null,
            "flex": null,
            "flex_flow": null,
            "grid_area": null,
            "grid_auto_columns": null,
            "grid_auto_flow": null,
            "grid_auto_rows": null,
            "grid_column": null,
            "grid_gap": null,
            "grid_row": null,
            "grid_template_areas": null,
            "grid_template_columns": null,
            "grid_template_rows": null,
            "height": null,
            "justify_content": null,
            "justify_items": null,
            "left": null,
            "margin": null,
            "max_height": null,
            "max_width": null,
            "min_height": null,
            "min_width": null,
            "object_fit": null,
            "object_position": null,
            "order": null,
            "overflow": null,
            "overflow_x": null,
            "overflow_y": null,
            "padding": null,
            "right": null,
            "top": null,
            "visibility": null,
            "width": null
          }
        },
        "c36fffb7bc1f4415ad2bafe91b6ea4bd": {
          "model_module": "@jupyter-widgets/controls",
          "model_name": "DescriptionStyleModel",
          "model_module_version": "1.5.0",
          "state": {
            "_model_module": "@jupyter-widgets/controls",
            "_model_module_version": "1.5.0",
            "_model_name": "DescriptionStyleModel",
            "_view_count": null,
            "_view_module": "@jupyter-widgets/base",
            "_view_module_version": "1.2.0",
            "_view_name": "StyleView",
            "description_width": ""
          }
        },
        "d4395f4040a34c57a0da6af70b68e094": {
          "model_module": "@jupyter-widgets/base",
          "model_name": "LayoutModel",
          "model_module_version": "1.2.0",
          "state": {
            "_model_module": "@jupyter-widgets/base",
            "_model_module_version": "1.2.0",
            "_model_name": "LayoutModel",
            "_view_count": null,
            "_view_module": "@jupyter-widgets/base",
            "_view_module_version": "1.2.0",
            "_view_name": "LayoutView",
            "align_content": null,
            "align_items": null,
            "align_self": null,
            "border": null,
            "bottom": null,
            "display": null,
            "flex": null,
            "flex_flow": null,
            "grid_area": null,
            "grid_auto_columns": null,
            "grid_auto_flow": null,
            "grid_auto_rows": null,
            "grid_column": null,
            "grid_gap": null,
            "grid_row": null,
            "grid_template_areas": null,
            "grid_template_columns": null,
            "grid_template_rows": null,
            "height": null,
            "justify_content": null,
            "justify_items": null,
            "left": null,
            "margin": null,
            "max_height": null,
            "max_width": null,
            "min_height": null,
            "min_width": null,
            "object_fit": null,
            "object_position": null,
            "order": null,
            "overflow": null,
            "overflow_x": null,
            "overflow_y": null,
            "padding": null,
            "right": null,
            "top": null,
            "visibility": null,
            "width": null
          }
        },
        "4140442a409941889e69317cbe912cc4": {
          "model_module": "@jupyter-widgets/controls",
          "model_name": "ProgressStyleModel",
          "model_module_version": "1.5.0",
          "state": {
            "_model_module": "@jupyter-widgets/controls",
            "_model_module_version": "1.5.0",
            "_model_name": "ProgressStyleModel",
            "_view_count": null,
            "_view_module": "@jupyter-widgets/base",
            "_view_module_version": "1.2.0",
            "_view_name": "StyleView",
            "bar_color": null,
            "description_width": ""
          }
        },
        "c0485a018f844e499391679987b34a68": {
          "model_module": "@jupyter-widgets/base",
          "model_name": "LayoutModel",
          "model_module_version": "1.2.0",
          "state": {
            "_model_module": "@jupyter-widgets/base",
            "_model_module_version": "1.2.0",
            "_model_name": "LayoutModel",
            "_view_count": null,
            "_view_module": "@jupyter-widgets/base",
            "_view_module_version": "1.2.0",
            "_view_name": "LayoutView",
            "align_content": null,
            "align_items": null,
            "align_self": null,
            "border": null,
            "bottom": null,
            "display": null,
            "flex": null,
            "flex_flow": null,
            "grid_area": null,
            "grid_auto_columns": null,
            "grid_auto_flow": null,
            "grid_auto_rows": null,
            "grid_column": null,
            "grid_gap": null,
            "grid_row": null,
            "grid_template_areas": null,
            "grid_template_columns": null,
            "grid_template_rows": null,
            "height": null,
            "justify_content": null,
            "justify_items": null,
            "left": null,
            "margin": null,
            "max_height": null,
            "max_width": null,
            "min_height": null,
            "min_width": null,
            "object_fit": null,
            "object_position": null,
            "order": null,
            "overflow": null,
            "overflow_x": null,
            "overflow_y": null,
            "padding": null,
            "right": null,
            "top": null,
            "visibility": null,
            "width": null
          }
        },
        "e41265518b8741039ff57bf9dd1b77ff": {
          "model_module": "@jupyter-widgets/controls",
          "model_name": "DescriptionStyleModel",
          "model_module_version": "1.5.0",
          "state": {
            "_model_module": "@jupyter-widgets/controls",
            "_model_module_version": "1.5.0",
            "_model_name": "DescriptionStyleModel",
            "_view_count": null,
            "_view_module": "@jupyter-widgets/base",
            "_view_module_version": "1.2.0",
            "_view_name": "StyleView",
            "description_width": ""
          }
        }
      }
    }
  },
  "cells": [
    {
      "cell_type": "markdown",
      "metadata": {
        "id": "view-in-github",
        "colab_type": "text"
      },
      "source": [
        "<a href=\"https://colab.research.google.com/github/edgleuma-abreu/IGTI/blob/main/Projeto_Aplicado_v2.ipynb\" target=\"_parent\"><img src=\"https://colab.research.google.com/assets/colab-badge.svg\" alt=\"Open In Colab\"/></a>"
      ]
    },
    {
      "cell_type": "markdown",
      "source": [
        "**IMPORTAÇÃO DE BIBLIOTECAS**"
      ],
      "metadata": {
        "id": "U5T_DdwEBXwZ"
      }
    },
    {
      "cell_type": "code",
      "source": [
        "!pip install pmdarima"
      ],
      "metadata": {
        "id": "JktNfPFsZ25L",
        "colab": {
          "base_uri": "https://localhost:8080/"
        },
        "outputId": "9c8dcdc2-0e1e-42a4-96f7-cd868e14cb91"
      },
      "execution_count": 1,
      "outputs": [
        {
          "output_type": "stream",
          "name": "stdout",
          "text": [
            "Looking in indexes: https://pypi.org/simple, https://us-python.pkg.dev/colab-wheels/public/simple/\n",
            "Collecting pmdarima\n",
            "  Downloading pmdarima-2.0.1-cp37-cp37m-manylinux_2_17_x86_64.manylinux2014_x86_64.manylinux_2_28_x86_64.whl (1.8 MB)\n",
            "\u001b[K     |████████████████████████████████| 1.8 MB 5.1 MB/s \n",
            "\u001b[?25hRequirement already satisfied: numpy>=1.21 in /usr/local/lib/python3.7/dist-packages (from pmdarima) (1.21.6)\n",
            "Requirement already satisfied: pandas>=0.19 in /usr/local/lib/python3.7/dist-packages (from pmdarima) (1.3.5)\n",
            "Requirement already satisfied: scikit-learn>=0.22 in /usr/local/lib/python3.7/dist-packages (from pmdarima) (1.0.2)\n",
            "Requirement already satisfied: scipy>=1.3.2 in /usr/local/lib/python3.7/dist-packages (from pmdarima) (1.7.3)\n",
            "Requirement already satisfied: Cython!=0.29.18,!=0.29.31,>=0.29 in /usr/local/lib/python3.7/dist-packages (from pmdarima) (0.29.32)\n",
            "Requirement already satisfied: joblib>=0.11 in /usr/local/lib/python3.7/dist-packages (from pmdarima) (1.2.0)\n",
            "Requirement already satisfied: urllib3 in /usr/local/lib/python3.7/dist-packages (from pmdarima) (1.24.3)\n",
            "Requirement already satisfied: setuptools!=50.0.0,>=38.6.0 in /usr/local/lib/python3.7/dist-packages (from pmdarima) (57.4.0)\n",
            "Collecting statsmodels>=0.13.2\n",
            "  Downloading statsmodels-0.13.2-cp37-cp37m-manylinux_2_17_x86_64.manylinux2014_x86_64.whl (9.8 MB)\n",
            "\u001b[K     |████████████████████████████████| 9.8 MB 40.0 MB/s \n",
            "\u001b[?25hRequirement already satisfied: pytz>=2017.3 in /usr/local/lib/python3.7/dist-packages (from pandas>=0.19->pmdarima) (2022.4)\n",
            "Requirement already satisfied: python-dateutil>=2.7.3 in /usr/local/lib/python3.7/dist-packages (from pandas>=0.19->pmdarima) (2.8.2)\n",
            "Requirement already satisfied: six>=1.5 in /usr/local/lib/python3.7/dist-packages (from python-dateutil>=2.7.3->pandas>=0.19->pmdarima) (1.15.0)\n",
            "Requirement already satisfied: threadpoolctl>=2.0.0 in /usr/local/lib/python3.7/dist-packages (from scikit-learn>=0.22->pmdarima) (3.1.0)\n",
            "Requirement already satisfied: patsy>=0.5.2 in /usr/local/lib/python3.7/dist-packages (from statsmodels>=0.13.2->pmdarima) (0.5.3)\n",
            "Requirement already satisfied: packaging>=21.3 in /usr/local/lib/python3.7/dist-packages (from statsmodels>=0.13.2->pmdarima) (21.3)\n",
            "Requirement already satisfied: pyparsing!=3.0.5,>=2.0.2 in /usr/local/lib/python3.7/dist-packages (from packaging>=21.3->statsmodels>=0.13.2->pmdarima) (3.0.9)\n",
            "Installing collected packages: statsmodels, pmdarima\n",
            "  Attempting uninstall: statsmodels\n",
            "    Found existing installation: statsmodels 0.12.2\n",
            "    Uninstalling statsmodels-0.12.2:\n",
            "      Successfully uninstalled statsmodels-0.12.2\n",
            "Successfully installed pmdarima-2.0.1 statsmodels-0.13.2\n"
          ]
        }
      ]
    },
    {
      "cell_type": "code",
      "execution_count": 2,
      "metadata": {
        "id": "nR5gGKvNNoVj"
      },
      "outputs": [],
      "source": [
        "\n",
        "import numpy as np # linear algebra\n",
        "import pandas as pd # data processing, CSV file I/O (e.g. pd.read_csv)\n",
        "import random as rd # generating random numbers\n",
        "import datetime # manipulating date formats\n",
        "\n",
        "import matplotlib.pyplot as plt # basic plotting\n",
        "import seaborn as sns # for prettier plots\n",
        "\n",
        "import math\n",
        "from sklearn import metrics\n",
        "from sklearn.metrics import mean_absolute_percentage_error\n"
      ]
    },
    {
      "cell_type": "code",
      "source": [
        "# TIME SERIES\n",
        "from statsmodels.tsa.arima_model import ARIMA\n",
        "#from statsmodels.tsa.statespace.sarimax import SARIMAX\n",
        "from statsmodels.tsa.seasonal import seasonal_decompose\n",
        "\n",
        "#from pandas.plotting import autocorrelation_plot\n",
        "from statsmodels.tsa.stattools import adfuller, acf, pacf,arma_order_select_ic\n",
        "\n",
        "from statsmodels.graphics.tsaplots import plot_acf, plot_pacf\n",
        "\n",
        "import statsmodels.formula.api as smf\n",
        "import statsmodels.tsa.api as smt\n",
        "import statsmodels.api as sm\n",
        "import scipy.stats as scs\n",
        "\n",
        "# settings\n",
        "import warnings\n",
        "warnings.filterwarnings(\"ignore\")"
      ],
      "metadata": {
        "id": "nRDPjGP7B1fe"
      },
      "execution_count": 3,
      "outputs": []
    },
    {
      "cell_type": "code",
      "source": [
        "def adfuller_test(series, signif=0.05, name='', verbose=False):\n",
        "    \"\"\"Perform ADFuller to test for Stationarity of given series and print report\"\"\"\n",
        "    r = adfuller(series, autolag='AIC')\n",
        "    output = {'test_statistic':round(r[0], 4), 'pvalue':round(r[1], 4), 'n_lags':round(r[2], 4), 'n_obs':r[3]}\n",
        "    p_value = output['pvalue']\n",
        "    def adjust(val, length= 6): return str(val).ljust(length)\n",
        "\n",
        "    # Print Summary\n",
        "    print(f'    Augmented Dickey-Fuller Test on \"{name}\"', \"\\n   \", '-'*47)\n",
        "    print(f' Null Hypothesis: Data has unit root. Non-Stationary.')\n",
        "    print(f' Significance Level    = {signif}')\n",
        "    print(f' Test Statistic        = {output[\"test_statistic\"]}')\n",
        "    print(f' No. Lags Chosen       = {output[\"n_lags\"]}')\n",
        "\n",
        "    for key,val in r[4].items():\n",
        "        print(f' Critical value {adjust(key)} = {round(val, 3)}')\n",
        "\n",
        "    if p_value <= signif:\n",
        "        print(f\" => P-Value = {p_value}. Rejecting Null Hypothesis.\")\n",
        "        print(f\" => Series is Stationary.\")\n",
        "    else:\n",
        "        print(f\" => P-Value = {p_value}. Weak evidence to reject the Null Hypothesis.\")\n",
        "        print(f\" => Series is Non-Stationary.\")"
      ],
      "metadata": {
        "id": "ML2O_VL4-RHb"
      },
      "execution_count": 4,
      "outputs": []
    },
    {
      "cell_type": "code",
      "source": [
        "#Ler dados\n",
        "df =pd.read_csv(\"dataset_pa_v2.csv\", delimiter=\";\")\n",
        "\n",
        "df_mem = df[['datahora', 'mem_usage']]\n",
        "df_cpu = df[['datahora', 'cpu_usage']]"
      ],
      "metadata": {
        "id": "FuSL6tyXFv2E"
      },
      "execution_count": 5,
      "outputs": []
    },
    {
      "cell_type": "code",
      "source": [
        "df.head()\n",
        "\n",
        "#df_mem.head()\n",
        "#df_cpu.head()"
      ],
      "metadata": {
        "colab": {
          "base_uri": "https://localhost:8080/",
          "height": 206
        },
        "id": "hqj0lM0YGj4p",
        "outputId": "4487210d-0ede-4c85-84a2-41cc40a309d5"
      },
      "execution_count": 6,
      "outputs": [
        {
          "output_type": "execute_result",
          "data": {
            "text/plain": [
              "         datahora  mem_usage  cpu_usage\n",
              "0  02/10/22 14:00        223       6.37\n",
              "1  02/10/22 15:00        224       6.07\n",
              "2  02/10/22 16:00        224       6.31\n",
              "3  02/10/22 17:00        224       6.18\n",
              "4  02/10/22 18:00        224       6.28"
            ],
            "text/html": [
              "\n",
              "  <div id=\"df-f3a78a27-f5dd-4c65-be26-f50250c60a41\">\n",
              "    <div class=\"colab-df-container\">\n",
              "      <div>\n",
              "<style scoped>\n",
              "    .dataframe tbody tr th:only-of-type {\n",
              "        vertical-align: middle;\n",
              "    }\n",
              "\n",
              "    .dataframe tbody tr th {\n",
              "        vertical-align: top;\n",
              "    }\n",
              "\n",
              "    .dataframe thead th {\n",
              "        text-align: right;\n",
              "    }\n",
              "</style>\n",
              "<table border=\"1\" class=\"dataframe\">\n",
              "  <thead>\n",
              "    <tr style=\"text-align: right;\">\n",
              "      <th></th>\n",
              "      <th>datahora</th>\n",
              "      <th>mem_usage</th>\n",
              "      <th>cpu_usage</th>\n",
              "    </tr>\n",
              "  </thead>\n",
              "  <tbody>\n",
              "    <tr>\n",
              "      <th>0</th>\n",
              "      <td>02/10/22 14:00</td>\n",
              "      <td>223</td>\n",
              "      <td>6.37</td>\n",
              "    </tr>\n",
              "    <tr>\n",
              "      <th>1</th>\n",
              "      <td>02/10/22 15:00</td>\n",
              "      <td>224</td>\n",
              "      <td>6.07</td>\n",
              "    </tr>\n",
              "    <tr>\n",
              "      <th>2</th>\n",
              "      <td>02/10/22 16:00</td>\n",
              "      <td>224</td>\n",
              "      <td>6.31</td>\n",
              "    </tr>\n",
              "    <tr>\n",
              "      <th>3</th>\n",
              "      <td>02/10/22 17:00</td>\n",
              "      <td>224</td>\n",
              "      <td>6.18</td>\n",
              "    </tr>\n",
              "    <tr>\n",
              "      <th>4</th>\n",
              "      <td>02/10/22 18:00</td>\n",
              "      <td>224</td>\n",
              "      <td>6.28</td>\n",
              "    </tr>\n",
              "  </tbody>\n",
              "</table>\n",
              "</div>\n",
              "      <button class=\"colab-df-convert\" onclick=\"convertToInteractive('df-f3a78a27-f5dd-4c65-be26-f50250c60a41')\"\n",
              "              title=\"Convert this dataframe to an interactive table.\"\n",
              "              style=\"display:none;\">\n",
              "        \n",
              "  <svg xmlns=\"http://www.w3.org/2000/svg\" height=\"24px\"viewBox=\"0 0 24 24\"\n",
              "       width=\"24px\">\n",
              "    <path d=\"M0 0h24v24H0V0z\" fill=\"none\"/>\n",
              "    <path d=\"M18.56 5.44l.94 2.06.94-2.06 2.06-.94-2.06-.94-.94-2.06-.94 2.06-2.06.94zm-11 1L8.5 8.5l.94-2.06 2.06-.94-2.06-.94L8.5 2.5l-.94 2.06-2.06.94zm10 10l.94 2.06.94-2.06 2.06-.94-2.06-.94-.94-2.06-.94 2.06-2.06.94z\"/><path d=\"M17.41 7.96l-1.37-1.37c-.4-.4-.92-.59-1.43-.59-.52 0-1.04.2-1.43.59L10.3 9.45l-7.72 7.72c-.78.78-.78 2.05 0 2.83L4 21.41c.39.39.9.59 1.41.59.51 0 1.02-.2 1.41-.59l7.78-7.78 2.81-2.81c.8-.78.8-2.07 0-2.86zM5.41 20L4 18.59l7.72-7.72 1.47 1.35L5.41 20z\"/>\n",
              "  </svg>\n",
              "      </button>\n",
              "      \n",
              "  <style>\n",
              "    .colab-df-container {\n",
              "      display:flex;\n",
              "      flex-wrap:wrap;\n",
              "      gap: 12px;\n",
              "    }\n",
              "\n",
              "    .colab-df-convert {\n",
              "      background-color: #E8F0FE;\n",
              "      border: none;\n",
              "      border-radius: 50%;\n",
              "      cursor: pointer;\n",
              "      display: none;\n",
              "      fill: #1967D2;\n",
              "      height: 32px;\n",
              "      padding: 0 0 0 0;\n",
              "      width: 32px;\n",
              "    }\n",
              "\n",
              "    .colab-df-convert:hover {\n",
              "      background-color: #E2EBFA;\n",
              "      box-shadow: 0px 1px 2px rgba(60, 64, 67, 0.3), 0px 1px 3px 1px rgba(60, 64, 67, 0.15);\n",
              "      fill: #174EA6;\n",
              "    }\n",
              "\n",
              "    [theme=dark] .colab-df-convert {\n",
              "      background-color: #3B4455;\n",
              "      fill: #D2E3FC;\n",
              "    }\n",
              "\n",
              "    [theme=dark] .colab-df-convert:hover {\n",
              "      background-color: #434B5C;\n",
              "      box-shadow: 0px 1px 3px 1px rgba(0, 0, 0, 0.15);\n",
              "      filter: drop-shadow(0px 1px 2px rgba(0, 0, 0, 0.3));\n",
              "      fill: #FFFFFF;\n",
              "    }\n",
              "  </style>\n",
              "\n",
              "      <script>\n",
              "        const buttonEl =\n",
              "          document.querySelector('#df-f3a78a27-f5dd-4c65-be26-f50250c60a41 button.colab-df-convert');\n",
              "        buttonEl.style.display =\n",
              "          google.colab.kernel.accessAllowed ? 'block' : 'none';\n",
              "\n",
              "        async function convertToInteractive(key) {\n",
              "          const element = document.querySelector('#df-f3a78a27-f5dd-4c65-be26-f50250c60a41');\n",
              "          const dataTable =\n",
              "            await google.colab.kernel.invokeFunction('convertToInteractive',\n",
              "                                                     [key], {});\n",
              "          if (!dataTable) return;\n",
              "\n",
              "          const docLinkHtml = 'Like what you see? Visit the ' +\n",
              "            '<a target=\"_blank\" href=https://colab.research.google.com/notebooks/data_table.ipynb>data table notebook</a>'\n",
              "            + ' to learn more about interactive tables.';\n",
              "          element.innerHTML = '';\n",
              "          dataTable['output_type'] = 'display_data';\n",
              "          await google.colab.output.renderOutput(dataTable, element);\n",
              "          const docLink = document.createElement('div');\n",
              "          docLink.innerHTML = docLinkHtml;\n",
              "          element.appendChild(docLink);\n",
              "        }\n",
              "      </script>\n",
              "    </div>\n",
              "  </div>\n",
              "  "
            ]
          },
          "metadata": {},
          "execution_count": 6
        }
      ]
    },
    {
      "cell_type": "code",
      "source": [
        "#Tamanho do dataset\n",
        "df.shape"
      ],
      "metadata": {
        "colab": {
          "base_uri": "https://localhost:8080/"
        },
        "id": "8KaVgCF_HIOb",
        "outputId": "bbd5c971-8729-491f-befd-554d5bf880ec"
      },
      "execution_count": 7,
      "outputs": [
        {
          "output_type": "execute_result",
          "data": {
            "text/plain": [
              "(337, 3)"
            ]
          },
          "metadata": {},
          "execution_count": 7
        }
      ]
    },
    {
      "cell_type": "code",
      "source": [
        "#Verificar valores nulos\n",
        "df.isna().sum()"
      ],
      "metadata": {
        "colab": {
          "base_uri": "https://localhost:8080/"
        },
        "id": "lFaQykV8REra",
        "outputId": "00adc618-a301-47cb-9216-58ddc85ad325"
      },
      "execution_count": 8,
      "outputs": [
        {
          "output_type": "execute_result",
          "data": {
            "text/plain": [
              "datahora     0\n",
              "mem_usage    0\n",
              "cpu_usage    0\n",
              "dtype: int64"
            ]
          },
          "metadata": {},
          "execution_count": 8
        }
      ]
    },
    {
      "cell_type": "code",
      "source": [
        "df.info()"
      ],
      "metadata": {
        "colab": {
          "base_uri": "https://localhost:8080/"
        },
        "id": "ORIp-l_juawT",
        "outputId": "6410935c-020d-439d-b07e-91dd4ee68dae"
      },
      "execution_count": 9,
      "outputs": [
        {
          "output_type": "stream",
          "name": "stdout",
          "text": [
            "<class 'pandas.core.frame.DataFrame'>\n",
            "RangeIndex: 337 entries, 0 to 336\n",
            "Data columns (total 3 columns):\n",
            " #   Column     Non-Null Count  Dtype  \n",
            "---  ------     --------------  -----  \n",
            " 0   datahora   337 non-null    object \n",
            " 1   mem_usage  337 non-null    int64  \n",
            " 2   cpu_usage  337 non-null    float64\n",
            "dtypes: float64(1), int64(1), object(1)\n",
            "memory usage: 8.0+ KB\n"
          ]
        }
      ]
    },
    {
      "cell_type": "code",
      "source": [
        "#df.index = df[[\"datahora\"]].apply(pd.to_datetime, format=\"%d/%m/%y %H:%M\")\n",
        "#df_mem.index = df_mem[[\"datahora\"]].apply(pd.to_datetime, format=\"%d/%m/%y %H:%M\")\n",
        "df_cpu['datahora'] = df_cpu[[\"datahora\"]].apply(pd.to_datetime, format=\"%d/%m/%y %H:%M\")\n"
      ],
      "metadata": {
        "id": "_3lhOlnoCBaJ"
      },
      "execution_count": 10,
      "outputs": []
    },
    {
      "cell_type": "code",
      "source": [
        "df_cpu.info()"
      ],
      "metadata": {
        "colab": {
          "base_uri": "https://localhost:8080/"
        },
        "id": "_NmSNpqdUJ0a",
        "outputId": "ab040b3c-57e6-419c-deee-d9208cf3af78"
      },
      "execution_count": 11,
      "outputs": [
        {
          "output_type": "stream",
          "name": "stdout",
          "text": [
            "<class 'pandas.core.frame.DataFrame'>\n",
            "RangeIndex: 337 entries, 0 to 336\n",
            "Data columns (total 2 columns):\n",
            " #   Column     Non-Null Count  Dtype         \n",
            "---  ------     --------------  -----         \n",
            " 0   datahora   337 non-null    datetime64[ns]\n",
            " 1   cpu_usage  337 non-null    float64       \n",
            "dtypes: datetime64[ns](1), float64(1)\n",
            "memory usage: 5.4 KB\n"
          ]
        }
      ]
    },
    {
      "cell_type": "markdown",
      "source": [
        "##Verificar se as séries são estacionárias"
      ],
      "metadata": {
        "id": "shgTZKLFSUeM"
      }
    },
    {
      "cell_type": "code",
      "source": [
        "adfuller_test(df_mem['mem_usage'])"
      ],
      "metadata": {
        "colab": {
          "base_uri": "https://localhost:8080/"
        },
        "id": "JZXF35VFACRJ",
        "outputId": "46220216-cc7e-45d0-8010-9685145ca57e"
      },
      "execution_count": 12,
      "outputs": [
        {
          "output_type": "stream",
          "name": "stdout",
          "text": [
            "    Augmented Dickey-Fuller Test on \"\" \n",
            "    -----------------------------------------------\n",
            " Null Hypothesis: Data has unit root. Non-Stationary.\n",
            " Significance Level    = 0.05\n",
            " Test Statistic        = -1.8668\n",
            " No. Lags Chosen       = 5\n",
            " Critical value 1%     = -3.45\n",
            " Critical value 5%     = -2.87\n",
            " Critical value 10%    = -2.571\n",
            " => P-Value = 0.3478. Weak evidence to reject the Null Hypothesis.\n",
            " => Series is Non-Stationary.\n"
          ]
        }
      ]
    },
    {
      "cell_type": "code",
      "source": [
        "adfuller_test(df_cpu['cpu_usage'])"
      ],
      "metadata": {
        "colab": {
          "base_uri": "https://localhost:8080/"
        },
        "id": "yPyb_A-bAYwc",
        "outputId": "c8245bd3-e8f2-4d0c-be9c-aa51bbdac9f7"
      },
      "execution_count": 13,
      "outputs": [
        {
          "output_type": "stream",
          "name": "stdout",
          "text": [
            "    Augmented Dickey-Fuller Test on \"\" \n",
            "    -----------------------------------------------\n",
            " Null Hypothesis: Data has unit root. Non-Stationary.\n",
            " Significance Level    = 0.05\n",
            " Test Statistic        = -2.7565\n",
            " No. Lags Chosen       = 4\n",
            " Critical value 1%     = -3.45\n",
            " Critical value 5%     = -2.87\n",
            " Critical value 10%    = -2.571\n",
            " => P-Value = 0.0648. Weak evidence to reject the Null Hypothesis.\n",
            " => Series is Non-Stationary.\n"
          ]
        }
      ]
    },
    {
      "cell_type": "markdown",
      "source": [
        "**Ambas as séries são NÃO ESTACIONÁRIAS**"
      ],
      "metadata": {
        "id": "D8Hd8Hw0SdsM"
      }
    },
    {
      "cell_type": "markdown",
      "source": [
        "##Transformar em não estacionárias"
      ],
      "metadata": {
        "id": "PJ6eHY2TRzgu"
      }
    },
    {
      "cell_type": "code",
      "source": [
        "#Memória\n",
        "first_diff_mem = df_mem['mem_usage'].diff() # Differencing the first order\n",
        "first_diff_mem.dropna(inplace = True) # Removing problems\n",
        "\n",
        "adfuller_test(first_diff_mem)"
      ],
      "metadata": {
        "colab": {
          "base_uri": "https://localhost:8080/"
        },
        "id": "DgNKCYP7Rv0k",
        "outputId": "6eb014ae-1d81-4274-a04a-783b8023b384"
      },
      "execution_count": 14,
      "outputs": [
        {
          "output_type": "stream",
          "name": "stdout",
          "text": [
            "    Augmented Dickey-Fuller Test on \"\" \n",
            "    -----------------------------------------------\n",
            " Null Hypothesis: Data has unit root. Non-Stationary.\n",
            " Significance Level    = 0.05\n",
            " Test Statistic        = -8.4789\n",
            " No. Lags Chosen       = 4\n",
            " Critical value 1%     = -3.45\n",
            " Critical value 5%     = -2.87\n",
            " Critical value 10%    = -2.571\n",
            " => P-Value = 0.0. Rejecting Null Hypothesis.\n",
            " => Series is Stationary.\n"
          ]
        }
      ]
    },
    {
      "cell_type": "code",
      "source": [
        "#CPU\n",
        "first_diff_cpu = df_cpu['cpu_usage'].diff() # Differencing the first order\n",
        "first_diff_cpu.dropna(inplace = True) # Removing problems\n",
        "\n",
        "adfuller_test(first_diff_cpu)"
      ],
      "metadata": {
        "colab": {
          "base_uri": "https://localhost:8080/"
        },
        "id": "o5R8qpnbAqVQ",
        "outputId": "086082a8-9434-4178-916a-89d3dd2b1886"
      },
      "execution_count": 15,
      "outputs": [
        {
          "output_type": "stream",
          "name": "stdout",
          "text": [
            "    Augmented Dickey-Fuller Test on \"\" \n",
            "    -----------------------------------------------\n",
            " Null Hypothesis: Data has unit root. Non-Stationary.\n",
            " Significance Level    = 0.05\n",
            " Test Statistic        = -19.1391\n",
            " No. Lags Chosen       = 1\n",
            " Critical value 1%     = -3.45\n",
            " Critical value 5%     = -2.87\n",
            " Critical value 10%    = -2.571\n",
            " => P-Value = 0.0. Rejecting Null Hypothesis.\n",
            " => Series is Stationary.\n"
          ]
        }
      ]
    },
    {
      "cell_type": "code",
      "source": [
        "import pmdarima as pm\n",
        "from pmdarima.model_selection import train_test_split\n",
        "\n",
        "print('numpy version: %r' % np.__version__)\n",
        "print('pmdarima version: %r' % pm.__version__)\n",
        "\n",
        "\n",
        "# Load/split your data\n",
        "y = first_diff_cpu\n",
        "train, test = train_test_split(y, train_size=250)\n",
        "\n",
        "# Fit your model\n",
        "model = pm.auto_arima(train, start_p=1, start_q=1, max_p=4, max_q=4, m=12,\n",
        "                             start_P=0, seasonal=True, d=1, D=1, trace=True,\n",
        "                             error_action='ignore',  # don't want to know if an order does not work\n",
        "                             suppress_warnings=True,  # don't want convergence warnings\n",
        "                             stepwise=True)  # set to stepwise\n",
        "\n",
        "model.fit(train)\n",
        "forecast = model.predict(test.shape[0])\n"
      ],
      "metadata": {
        "colab": {
          "base_uri": "https://localhost:8080/"
        },
        "id": "BE90ZsYAiU0Y",
        "outputId": "ef492c44-4e97-4c9e-991a-2911df17d9bb"
      },
      "execution_count": 16,
      "outputs": [
        {
          "output_type": "stream",
          "name": "stdout",
          "text": [
            "numpy version: '1.21.6'\n",
            "pmdarima version: '2.0.1'\n",
            "Performing stepwise search to minimize aic\n",
            " ARIMA(1,1,1)(0,1,1)[12]             : AIC=inf, Time=2.41 sec\n",
            " ARIMA(0,1,0)(0,1,0)[12]             : AIC=867.382, Time=0.05 sec\n",
            " ARIMA(1,1,0)(1,1,0)[12]             : AIC=671.858, Time=0.23 sec\n",
            " ARIMA(0,1,1)(0,1,1)[12]             : AIC=inf, Time=1.52 sec\n",
            " ARIMA(1,1,0)(0,1,0)[12]             : AIC=734.529, Time=0.08 sec\n",
            " ARIMA(1,1,0)(2,1,0)[12]             : AIC=645.707, Time=0.58 sec\n",
            " ARIMA(1,1,0)(2,1,1)[12]             : AIC=inf, Time=1.89 sec\n",
            " ARIMA(1,1,0)(1,1,1)[12]             : AIC=inf, Time=0.74 sec\n",
            " ARIMA(0,1,0)(2,1,0)[12]             : AIC=773.957, Time=0.35 sec\n",
            " ARIMA(2,1,0)(2,1,0)[12]             : AIC=598.267, Time=0.67 sec\n",
            " ARIMA(2,1,0)(1,1,0)[12]             : AIC=621.560, Time=0.27 sec\n",
            " ARIMA(2,1,0)(2,1,1)[12]             : AIC=inf, Time=2.17 sec\n",
            " ARIMA(2,1,0)(1,1,1)[12]             : AIC=inf, Time=1.04 sec\n",
            " ARIMA(3,1,0)(2,1,0)[12]             : AIC=565.456, Time=0.74 sec\n",
            " ARIMA(3,1,0)(1,1,0)[12]             : AIC=585.342, Time=0.44 sec\n",
            " ARIMA(3,1,0)(2,1,1)[12]             : AIC=inf, Time=2.58 sec\n",
            " ARIMA(3,1,0)(1,1,1)[12]             : AIC=inf, Time=1.26 sec\n",
            " ARIMA(4,1,0)(2,1,0)[12]             : AIC=550.149, Time=1.05 sec\n",
            " ARIMA(4,1,0)(1,1,0)[12]             : AIC=565.723, Time=0.55 sec\n",
            " ARIMA(4,1,0)(2,1,1)[12]             : AIC=inf, Time=3.62 sec\n",
            " ARIMA(4,1,0)(1,1,1)[12]             : AIC=inf, Time=1.47 sec\n",
            " ARIMA(4,1,1)(2,1,0)[12]             : AIC=inf, Time=7.88 sec\n",
            " ARIMA(3,1,1)(2,1,0)[12]             : AIC=inf, Time=5.69 sec\n",
            " ARIMA(4,1,0)(2,1,0)[12] intercept   : AIC=552.147, Time=2.25 sec\n",
            "\n",
            "Best model:  ARIMA(4,1,0)(2,1,0)[12]          \n",
            "Total fit time: 39.610 seconds\n"
          ]
        }
      ]
    },
    {
      "cell_type": "code",
      "source": [
        "model.aic()"
      ],
      "metadata": {
        "colab": {
          "base_uri": "https://localhost:8080/"
        },
        "id": "vJx67Nu_d0eM",
        "outputId": "c7a0605a-2641-46e6-f5eb-75e3e56bec4b"
      },
      "execution_count": 17,
      "outputs": [
        {
          "output_type": "execute_result",
          "data": {
            "text/plain": [
              "550.1488696954746"
            ]
          },
          "metadata": {},
          "execution_count": 17
        }
      ]
    },
    {
      "cell_type": "code",
      "source": [
        "# Visualize the forecasts (blue=train, green=forecasts)\n",
        "sns.set(rc={'figure.figsize':(20,10)})\n",
        "x = np.arange(y.shape[0])\n",
        "plt.plot(x[:250], train, c='blue')\n",
        "plt.plot(x[250:], forecast, c='green')\n",
        "plt.legend (labels=['Train', 'Forecast'])\n",
        "plt.show()"
      ],
      "metadata": {
        "colab": {
          "base_uri": "https://localhost:8080/",
          "height": 596
        },
        "id": "hDTE5l05xgW8",
        "outputId": "eb458181-e871-4073-d3a8-0eba411a4fb7"
      },
      "execution_count": 18,
      "outputs": [
        {
          "output_type": "display_data",
          "data": {
            "text/plain": [
              "<Figure size 1440x720 with 1 Axes>"
            ],
            "image/png": "[encoded data removed]"
          },
          "metadata": {}
        }
      ]
    },
    {
      "cell_type": "code",
      "source": [
        "print (\"MAE: \", metrics.mean_absolute_error(test, forecast)) \n",
        "print (\"MSE: \",metrics.mean_squared_error(test, forecast))\n",
        "print (\"RMSE: \",math.sqrt(metrics.mean_squared_error(test, forecast)))\n",
        "print(\"MAPE:\", metrics.mean_absolute_percentage_error(test, forecast))\n"
      ],
      "metadata": {
        "colab": {
          "base_uri": "https://localhost:8080/"
        },
        "id": "8CQxmg-2iVWv",
        "outputId": "8e0f41e5-8518-4f85-ec65-90f5238522ba"
      },
      "execution_count": 19,
      "outputs": [
        {
          "output_type": "stream",
          "name": "stdout",
          "text": [
            "MAE:  0.7752268269524373\n",
            "MSE:  3.9321181696450638\n",
            "RMSE:  1.982956925816863\n",
            "MAPE: 1753277744293.4963\n"
          ]
        }
      ]
    },
    {
      "cell_type": "code",
      "source": [],
      "metadata": {
        "id": "NWVXPnMxiVZt"
      },
      "execution_count": null,
      "outputs": []
    },
    {
      "cell_type": "code",
      "source": [],
      "metadata": {
        "id": "6M9Mdx__Jc3a"
      },
      "execution_count": null,
      "outputs": []
    },
    {
      "cell_type": "code",
      "source": [],
      "metadata": {
        "id": "objHPp58LN1f"
      },
      "execution_count": null,
      "outputs": []
    },
    {
      "cell_type": "markdown",
      "source": [
        "#Prophet"
      ],
      "metadata": {
        "id": "LDOogHynjewg"
      }
    },
    {
      "cell_type": "code",
      "source": [
        "!pip install Prophet\n",
        "from prophet import Prophet\n"
      ],
      "metadata": {
        "colab": {
          "base_uri": "https://localhost:8080/"
        },
        "id": "vX8waUPjZt-R",
        "outputId": "3ea4cea9-2a4c-4fc7-cff6-7ab56698c2ae"
      },
      "execution_count": 20,
      "outputs": [
        {
          "output_type": "stream",
          "name": "stdout",
          "text": [
            "Looking in indexes: https://pypi.org/simple, https://us-python.pkg.dev/colab-wheels/public/simple/\n",
            "Requirement already satisfied: Prophet in /usr/local/lib/python3.7/dist-packages (1.1.1)\n",
            "Requirement already satisfied: numpy>=1.15.4 in /usr/local/lib/python3.7/dist-packages (from Prophet) (1.21.6)\n",
            "Requirement already satisfied: holidays>=0.14.2 in /usr/local/lib/python3.7/dist-packages (from Prophet) (0.16)\n",
            "Requirement already satisfied: python-dateutil>=2.8.0 in /usr/local/lib/python3.7/dist-packages (from Prophet) (2.8.2)\n",
            "Requirement already satisfied: wheel>=0.37.0 in /usr/local/lib/python3.7/dist-packages (from Prophet) (0.37.1)\n",
            "Requirement already satisfied: cmdstanpy>=1.0.4 in /usr/local/lib/python3.7/dist-packages (from Prophet) (1.0.7)\n",
            "Requirement already satisfied: tqdm>=4.36.1 in /usr/local/lib/python3.7/dist-packages (from Prophet) (4.64.1)\n",
            "Requirement already satisfied: setuptools-git>=1.2 in /usr/local/lib/python3.7/dist-packages (from Prophet) (1.2)\n",
            "Requirement already satisfied: pandas>=1.0.4 in /usr/local/lib/python3.7/dist-packages (from Prophet) (1.3.5)\n",
            "Requirement already satisfied: convertdate>=2.1.2 in /usr/local/lib/python3.7/dist-packages (from Prophet) (2.4.0)\n",
            "Requirement already satisfied: LunarCalendar>=0.0.9 in /usr/local/lib/python3.7/dist-packages (from Prophet) (0.0.9)\n",
            "Requirement already satisfied: matplotlib>=2.0.0 in /usr/local/lib/python3.7/dist-packages (from Prophet) (3.2.2)\n",
            "Requirement already satisfied: setuptools>=42 in /usr/local/lib/python3.7/dist-packages (from Prophet) (57.4.0)\n",
            "Requirement already satisfied: ujson in /usr/local/lib/python3.7/dist-packages (from cmdstanpy>=1.0.4->Prophet) (5.5.0)\n",
            "Requirement already satisfied: pymeeus<=1,>=0.3.13 in /usr/local/lib/python3.7/dist-packages (from convertdate>=2.1.2->Prophet) (0.5.11)\n",
            "Requirement already satisfied: korean-lunar-calendar in /usr/local/lib/python3.7/dist-packages (from holidays>=0.14.2->Prophet) (0.3.1)\n",
            "Requirement already satisfied: hijri-converter in /usr/local/lib/python3.7/dist-packages (from holidays>=0.14.2->Prophet) (2.2.4)\n",
            "Requirement already satisfied: ephem>=3.7.5.3 in /usr/local/lib/python3.7/dist-packages (from LunarCalendar>=0.0.9->Prophet) (4.1.3)\n",
            "Requirement already satisfied: pytz in /usr/local/lib/python3.7/dist-packages (from LunarCalendar>=0.0.9->Prophet) (2022.4)\n",
            "Requirement already satisfied: cycler>=0.10 in /usr/local/lib/python3.7/dist-packages (from matplotlib>=2.0.0->Prophet) (0.11.0)\n",
            "Requirement already satisfied: pyparsing!=2.0.4,!=2.1.2,!=2.1.6,>=2.0.1 in /usr/local/lib/python3.7/dist-packages (from matplotlib>=2.0.0->Prophet) (3.0.9)\n",
            "Requirement already satisfied: kiwisolver>=1.0.1 in /usr/local/lib/python3.7/dist-packages (from matplotlib>=2.0.0->Prophet) (1.4.4)\n",
            "Requirement already satisfied: typing-extensions in /usr/local/lib/python3.7/dist-packages (from kiwisolver>=1.0.1->matplotlib>=2.0.0->Prophet) (4.1.1)\n",
            "Requirement already satisfied: six>=1.5 in /usr/local/lib/python3.7/dist-packages (from python-dateutil>=2.8.0->Prophet) (1.15.0)\n"
          ]
        }
      ]
    },
    {
      "cell_type": "code",
      "source": [
        "#prophet reqiures a pandas df at the below config \n",
        "# ( date column named as DS and the value column as Y)\n",
        "df_cpu.columns=['ds','y']\n",
        "\n",
        "treino = df_cpu[:250]\n",
        "teste = df_cpu[250:]\n",
        "\n",
        "\n",
        "\n"
      ],
      "metadata": {
        "id": "qjOK6keoi9-t"
      },
      "execution_count": 21,
      "outputs": []
    },
    {
      "cell_type": "code",
      "source": [
        "teste"
      ],
      "metadata": {
        "colab": {
          "base_uri": "https://localhost:8080/",
          "height": 424
        },
        "id": "pD7eEOMPPvBT",
        "outputId": "035bd0c3-87a9-46d8-c620-0686b4e09a81"
      },
      "execution_count": 22,
      "outputs": [
        {
          "output_type": "execute_result",
          "data": {
            "text/plain": [
              "                     ds     y\n",
              "250 2022-10-13 00:00:00  6.67\n",
              "251 2022-10-13 01:00:00  6.37\n",
              "252 2022-10-13 02:00:00  5.95\n",
              "253 2022-10-13 03:00:00  5.79\n",
              "254 2022-10-13 04:00:00  5.75\n",
              "..                  ...   ...\n",
              "332 2022-10-16 10:00:00  5.79\n",
              "333 2022-10-16 11:00:00  5.85\n",
              "334 2022-10-16 12:00:00  5.92\n",
              "335 2022-10-16 13:00:00  6.11\n",
              "336 2022-10-16 14:00:00  5.92\n",
              "\n",
              "[87 rows x 2 columns]"
            ],
            "text/html": [
              "\n",
              "  <div id=\"df-212883c7-4b99-4701-98e7-5f938706f8e5\">\n",
              "    <div class=\"colab-df-container\">\n",
              "      <div>\n",
              "<style scoped>\n",
              "    .dataframe tbody tr th:only-of-type {\n",
              "        vertical-align: middle;\n",
              "    }\n",
              "\n",
              "    .dataframe tbody tr th {\n",
              "        vertical-align: top;\n",
              "    }\n",
              "\n",
              "    .dataframe thead th {\n",
              "        text-align: right;\n",
              "    }\n",
              "</style>\n",
              "<table border=\"1\" class=\"dataframe\">\n",
              "  <thead>\n",
              "    <tr style=\"text-align: right;\">\n",
              "      <th></th>\n",
              "      <th>ds</th>\n",
              "      <th>y</th>\n",
              "    </tr>\n",
              "  </thead>\n",
              "  <tbody>\n",
              "    <tr>\n",
              "      <th>250</th>\n",
              "      <td>2022-10-13 00:00:00</td>\n",
              "      <td>6.67</td>\n",
              "    </tr>\n",
              "    <tr>\n",
              "      <th>251</th>\n",
              "      <td>2022-10-13 01:00:00</td>\n",
              "      <td>6.37</td>\n",
              "    </tr>\n",
              "    <tr>\n",
              "      <th>252</th>\n",
              "      <td>2022-10-13 02:00:00</td>\n",
              "      <td>5.95</td>\n",
              "    </tr>\n",
              "    <tr>\n",
              "      <th>253</th>\n",
              "      <td>2022-10-13 03:00:00</td>\n",
              "      <td>5.79</td>\n",
              "    </tr>\n",
              "    <tr>\n",
              "      <th>254</th>\n",
              "      <td>2022-10-13 04:00:00</td>\n",
              "      <td>5.75</td>\n",
              "    </tr>\n",
              "    <tr>\n",
              "      <th>...</th>\n",
              "      <td>...</td>\n",
              "      <td>...</td>\n",
              "    </tr>\n",
              "    <tr>\n",
              "      <th>332</th>\n",
              "      <td>2022-10-16 10:00:00</td>\n",
              "      <td>5.79</td>\n",
              "    </tr>\n",
              "    <tr>\n",
              "      <th>333</th>\n",
              "      <td>2022-10-16 11:00:00</td>\n",
              "      <td>5.85</td>\n",
              "    </tr>\n",
              "    <tr>\n",
              "      <th>334</th>\n",
              "      <td>2022-10-16 12:00:00</td>\n",
              "      <td>5.92</td>\n",
              "    </tr>\n",
              "    <tr>\n",
              "      <th>335</th>\n",
              "      <td>2022-10-16 13:00:00</td>\n",
              "      <td>6.11</td>\n",
              "    </tr>\n",
              "    <tr>\n",
              "      <th>336</th>\n",
              "      <td>2022-10-16 14:00:00</td>\n",
              "      <td>5.92</td>\n",
              "    </tr>\n",
              "  </tbody>\n",
              "</table>\n",
              "<p>87 rows × 2 columns</p>\n",
              "</div>\n",
              "      <button class=\"colab-df-convert\" onclick=\"convertToInteractive('df-212883c7-4b99-4701-98e7-5f938706f8e5')\"\n",
              "              title=\"Convert this dataframe to an interactive table.\"\n",
              "              style=\"display:none;\">\n",
              "        \n",
              "  <svg xmlns=\"http://www.w3.org/2000/svg\" height=\"24px\"viewBox=\"0 0 24 24\"\n",
              "       width=\"24px\">\n",
              "    <path d=\"M0 0h24v24H0V0z\" fill=\"none\"/>\n",
              "    <path d=\"M18.56 5.44l.94 2.06.94-2.06 2.06-.94-2.06-.94-.94-2.06-.94 2.06-2.06.94zm-11 1L8.5 8.5l.94-2.06 2.06-.94-2.06-.94L8.5 2.5l-.94 2.06-2.06.94zm10 10l.94 2.06.94-2.06 2.06-.94-2.06-.94-.94-2.06-.94 2.06-2.06.94z\"/><path d=\"M17.41 7.96l-1.37-1.37c-.4-.4-.92-.59-1.43-.59-.52 0-1.04.2-1.43.59L10.3 9.45l-7.72 7.72c-.78.78-.78 2.05 0 2.83L4 21.41c.39.39.9.59 1.41.59.51 0 1.02-.2 1.41-.59l7.78-7.78 2.81-2.81c.8-.78.8-2.07 0-2.86zM5.41 20L4 18.59l7.72-7.72 1.47 1.35L5.41 20z\"/>\n",
              "  </svg>\n",
              "      </button>\n",
              "      \n",
              "  <style>\n",
              "    .colab-df-container {\n",
              "      display:flex;\n",
              "      flex-wrap:wrap;\n",
              "      gap: 12px;\n",
              "    }\n",
              "\n",
              "    .colab-df-convert {\n",
              "      background-color: #E8F0FE;\n",
              "      border: none;\n",
              "      border-radius: 50%;\n",
              "      cursor: pointer;\n",
              "      display: none;\n",
              "      fill: #1967D2;\n",
              "      height: 32px;\n",
              "      padding: 0 0 0 0;\n",
              "      width: 32px;\n",
              "    }\n",
              "\n",
              "    .colab-df-convert:hover {\n",
              "      background-color: #E2EBFA;\n",
              "      box-shadow: 0px 1px 2px rgba(60, 64, 67, 0.3), 0px 1px 3px 1px rgba(60, 64, 67, 0.15);\n",
              "      fill: #174EA6;\n",
              "    }\n",
              "\n",
              "    [theme=dark] .colab-df-convert {\n",
              "      background-color: #3B4455;\n",
              "      fill: #D2E3FC;\n",
              "    }\n",
              "\n",
              "    [theme=dark] .colab-df-convert:hover {\n",
              "      background-color: #434B5C;\n",
              "      box-shadow: 0px 1px 3px 1px rgba(0, 0, 0, 0.15);\n",
              "      filter: drop-shadow(0px 1px 2px rgba(0, 0, 0, 0.3));\n",
              "      fill: #FFFFFF;\n",
              "    }\n",
              "  </style>\n",
              "\n",
              "      <script>\n",
              "        const buttonEl =\n",
              "          document.querySelector('#df-212883c7-4b99-4701-98e7-5f938706f8e5 button.colab-df-convert');\n",
              "        buttonEl.style.display =\n",
              "          google.colab.kernel.accessAllowed ? 'block' : 'none';\n",
              "\n",
              "        async function convertToInteractive(key) {\n",
              "          const element = document.querySelector('#df-212883c7-4b99-4701-98e7-5f938706f8e5');\n",
              "          const dataTable =\n",
              "            await google.colab.kernel.invokeFunction('convertToInteractive',\n",
              "                                                     [key], {});\n",
              "          if (!dataTable) return;\n",
              "\n",
              "          const docLinkHtml = 'Like what you see? Visit the ' +\n",
              "            '<a target=\"_blank\" href=https://colab.research.google.com/notebooks/data_table.ipynb>data table notebook</a>'\n",
              "            + ' to learn more about interactive tables.';\n",
              "          element.innerHTML = '';\n",
              "          dataTable['output_type'] = 'display_data';\n",
              "          await google.colab.output.renderOutput(dataTable, element);\n",
              "          const docLink = document.createElement('div');\n",
              "          docLink.innerHTML = docLinkHtml;\n",
              "          element.appendChild(docLink);\n",
              "        }\n",
              "      </script>\n",
              "    </div>\n",
              "  </div>\n",
              "  "
            ]
          },
          "metadata": {},
          "execution_count": 22
        }
      ]
    },
    {
      "cell_type": "code",
      "source": [
        "m = Prophet() \n",
        "m.fit(treino) #fit the model with your dataframe"
      ],
      "metadata": {
        "colab": {
          "base_uri": "https://localhost:8080/"
        },
        "id": "nZetOo1_DAuS",
        "outputId": "fc08817a-3595-4646-f2c2-414d830a3f56"
      },
      "execution_count": 23,
      "outputs": [
        {
          "output_type": "stream",
          "name": "stderr",
          "text": [
            "INFO:prophet:Disabling yearly seasonality. Run prophet with yearly_seasonality=True to override this.\n",
            "INFO:prophet:Disabling weekly seasonality. Run prophet with weekly_seasonality=True to override this.\n",
            "DEBUG:cmdstanpy:input tempfile: /tmp/tmpujrmxx9a/7xkbjr0x.json\n",
            "DEBUG:cmdstanpy:input tempfile: /tmp/tmpujrmxx9a/zz61qii2.json\n",
            "DEBUG:cmdstanpy:idx 0\n",
            "DEBUG:cmdstanpy:running CmdStan, num_threads: None\n",
            "DEBUG:cmdstanpy:CmdStan args: ['/usr/local/lib/python3.7/dist-packages/prophet/stan_model/prophet_model.bin', 'random', 'seed=3587', 'data', 'file=/tmp/tmpujrmxx9a/7xkbjr0x.json', 'init=/tmp/tmpujrmxx9a/zz61qii2.json', 'output', 'file=/tmp/tmpujrmxx9a/prophet_modelxpi8onkh/prophet_model-20221024002622.csv', 'method=optimize', 'algorithm=lbfgs', 'iter=10000']\n",
            "00:26:22 - cmdstanpy - INFO - Chain [1] start processing\n",
            "INFO:cmdstanpy:Chain [1] start processing\n",
            "00:26:22 - cmdstanpy - INFO - Chain [1] done processing\n",
            "INFO:cmdstanpy:Chain [1] done processing\n"
          ]
        },
        {
          "output_type": "execute_result",
          "data": {
            "text/plain": [
              "<prophet.forecaster.Prophet at 0x7fb3fc11aed0>"
            ]
          },
          "metadata": {},
          "execution_count": 23
        }
      ]
    },
    {
      "cell_type": "code",
      "source": [
        "# predict for five months in the furure and MS - month start is the frequency\n",
        "modelo = m.make_future_dataframe(periods = 96, freq='H')  #equivalente\n"
      ],
      "metadata": {
        "id": "5rX0fa3kZuCS"
      },
      "execution_count": 123,
      "outputs": []
    },
    {
      "cell_type": "code",
      "source": [
        "previsao = m.predict(modelo)"
      ],
      "metadata": {
        "id": "p2GhSlAFD7WH"
      },
      "execution_count": 103,
      "outputs": []
    },
    {
      "cell_type": "code",
      "source": [
        "previsao.tail()"
      ],
      "metadata": {
        "colab": {
          "base_uri": "https://localhost:8080/",
          "height": 444
        },
        "id": "M_tP9CqmF9W8",
        "outputId": "ecb797d2-80ba-4a1a-9603-0559102fe226"
      },
      "execution_count": 104,
      "outputs": [
        {
          "output_type": "execute_result",
          "data": {
            "text/plain": [
              "                     ds     trend  yhat_lower  yhat_upper  trend_lower  \\\n",
              "341 2022-10-16 19:00:00  8.582587    8.108292    9.913901     8.047033   \n",
              "342 2022-10-16 20:00:00  8.595104    8.057125   10.022966     8.046997   \n",
              "343 2022-10-16 21:00:00  8.607622    8.021980    9.837678     8.052120   \n",
              "344 2022-10-16 22:00:00  8.620140    7.881963    9.846533     8.057694   \n",
              "345 2022-10-16 23:00:00  8.632658    7.701925    9.555092     8.060059   \n",
              "\n",
              "     trend_upper  additive_terms  additive_terms_lower  additive_terms_upper  \\\n",
              "341     9.125448        0.402616              0.402616              0.402616   \n",
              "342     9.147620        0.418373              0.418373              0.418373   \n",
              "343     9.171189        0.370925              0.370925              0.370925   \n",
              "344     9.196344        0.227650              0.227650              0.227650   \n",
              "345     9.217419       -0.009979             -0.009979             -0.009979   \n",
              "\n",
              "        daily  daily_lower  daily_upper  multiplicative_terms  \\\n",
              "341  0.402616     0.402616     0.402616                   0.0   \n",
              "342  0.418373     0.418373     0.418373                   0.0   \n",
              "343  0.370925     0.370925     0.370925                   0.0   \n",
              "344  0.227650     0.227650     0.227650                   0.0   \n",
              "345 -0.009979    -0.009979    -0.009979                   0.0   \n",
              "\n",
              "     multiplicative_terms_lower  multiplicative_terms_upper      yhat  \n",
              "341                         0.0                         0.0  8.985202  \n",
              "342                         0.0                         0.0  9.013477  \n",
              "343                         0.0                         0.0  8.978548  \n",
              "344                         0.0                         0.0  8.847790  \n",
              "345                         0.0                         0.0  8.622679  "
            ],
            "text/html": [
              "\n",
              "  <div id=\"df-5d5c2a2d-8bfb-474f-a3b2-32875508ad49\">\n",
              "    <div class=\"colab-df-container\">\n",
              "      <div>\n",
              "<style scoped>\n",
              "    .dataframe tbody tr th:only-of-type {\n",
              "        vertical-align: middle;\n",
              "    }\n",
              "\n",
              "    .dataframe tbody tr th {\n",
              "        vertical-align: top;\n",
              "    }\n",
              "\n",
              "    .dataframe thead th {\n",
              "        text-align: right;\n",
              "    }\n",
              "</style>\n",
              "<table border=\"1\" class=\"dataframe\">\n",
              "  <thead>\n",
              "    <tr style=\"text-align: right;\">\n",
              "      <th></th>\n",
              "      <th>ds</th>\n",
              "      <th>trend</th>\n",
              "      <th>yhat_lower</th>\n",
              "      <th>yhat_upper</th>\n",
              "      <th>trend_lower</th>\n",
              "      <th>trend_upper</th>\n",
              "      <th>additive_terms</th>\n",
              "      <th>additive_terms_lower</th>\n",
              "      <th>additive_terms_upper</th>\n",
              "      <th>daily</th>\n",
              "      <th>daily_lower</th>\n",
              "      <th>daily_upper</th>\n",
              "      <th>multiplicative_terms</th>\n",
              "      <th>multiplicative_terms_lower</th>\n",
              "      <th>multiplicative_terms_upper</th>\n",
              "      <th>yhat</th>\n",
              "    </tr>\n",
              "  </thead>\n",
              "  <tbody>\n",
              "    <tr>\n",
              "      <th>341</th>\n",
              "      <td>2022-10-16 19:00:00</td>\n",
              "      <td>8.582587</td>\n",
              "      <td>8.108292</td>\n",
              "      <td>9.913901</td>\n",
              "      <td>8.047033</td>\n",
              "      <td>9.125448</td>\n",
              "      <td>0.402616</td>\n",
              "      <td>0.402616</td>\n",
              "      <td>0.402616</td>\n",
              "      <td>0.402616</td>\n",
              "      <td>0.402616</td>\n",
              "      <td>0.402616</td>\n",
              "      <td>0.0</td>\n",
              "      <td>0.0</td>\n",
              "      <td>0.0</td>\n",
              "      <td>8.985202</td>\n",
              "    </tr>\n",
              "    <tr>\n",
              "      <th>342</th>\n",
              "      <td>2022-10-16 20:00:00</td>\n",
              "      <td>8.595104</td>\n",
              "      <td>8.057125</td>\n",
              "      <td>10.022966</td>\n",
              "      <td>8.046997</td>\n",
              "      <td>9.147620</td>\n",
              "      <td>0.418373</td>\n",
              "      <td>0.418373</td>\n",
              "      <td>0.418373</td>\n",
              "      <td>0.418373</td>\n",
              "      <td>0.418373</td>\n",
              "      <td>0.418373</td>\n",
              "      <td>0.0</td>\n",
              "      <td>0.0</td>\n",
              "      <td>0.0</td>\n",
              "      <td>9.013477</td>\n",
              "    </tr>\n",
              "    <tr>\n",
              "      <th>343</th>\n",
              "      <td>2022-10-16 21:00:00</td>\n",
              "      <td>8.607622</td>\n",
              "      <td>8.021980</td>\n",
              "      <td>9.837678</td>\n",
              "      <td>8.052120</td>\n",
              "      <td>9.171189</td>\n",
              "      <td>0.370925</td>\n",
              "      <td>0.370925</td>\n",
              "      <td>0.370925</td>\n",
              "      <td>0.370925</td>\n",
              "      <td>0.370925</td>\n",
              "      <td>0.370925</td>\n",
              "      <td>0.0</td>\n",
              "      <td>0.0</td>\n",
              "      <td>0.0</td>\n",
              "      <td>8.978548</td>\n",
              "    </tr>\n",
              "    <tr>\n",
              "      <th>344</th>\n",
              "      <td>2022-10-16 22:00:00</td>\n",
              "      <td>8.620140</td>\n",
              "      <td>7.881963</td>\n",
              "      <td>9.846533</td>\n",
              "      <td>8.057694</td>\n",
              "      <td>9.196344</td>\n",
              "      <td>0.227650</td>\n",
              "      <td>0.227650</td>\n",
              "      <td>0.227650</td>\n",
              "      <td>0.227650</td>\n",
              "      <td>0.227650</td>\n",
              "      <td>0.227650</td>\n",
              "      <td>0.0</td>\n",
              "      <td>0.0</td>\n",
              "      <td>0.0</td>\n",
              "      <td>8.847790</td>\n",
              "    </tr>\n",
              "    <tr>\n",
              "      <th>345</th>\n",
              "      <td>2022-10-16 23:00:00</td>\n",
              "      <td>8.632658</td>\n",
              "      <td>7.701925</td>\n",
              "      <td>9.555092</td>\n",
              "      <td>8.060059</td>\n",
              "      <td>9.217419</td>\n",
              "      <td>-0.009979</td>\n",
              "      <td>-0.009979</td>\n",
              "      <td>-0.009979</td>\n",
              "      <td>-0.009979</td>\n",
              "      <td>-0.009979</td>\n",
              "      <td>-0.009979</td>\n",
              "      <td>0.0</td>\n",
              "      <td>0.0</td>\n",
              "      <td>0.0</td>\n",
              "      <td>8.622679</td>\n",
              "    </tr>\n",
              "  </tbody>\n",
              "</table>\n",
              "</div>\n",
              "      <button class=\"colab-df-convert\" onclick=\"convertToInteractive('df-5d5c2a2d-8bfb-474f-a3b2-32875508ad49')\"\n",
              "              title=\"Convert this dataframe to an interactive table.\"\n",
              "              style=\"display:none;\">\n",
              "        \n",
              "  <svg xmlns=\"http://www.w3.org/2000/svg\" height=\"24px\"viewBox=\"0 0 24 24\"\n",
              "       width=\"24px\">\n",
              "    <path d=\"M0 0h24v24H0V0z\" fill=\"none\"/>\n",
              "    <path d=\"M18.56 5.44l.94 2.06.94-2.06 2.06-.94-2.06-.94-.94-2.06-.94 2.06-2.06.94zm-11 1L8.5 8.5l.94-2.06 2.06-.94-2.06-.94L8.5 2.5l-.94 2.06-2.06.94zm10 10l.94 2.06.94-2.06 2.06-.94-2.06-.94-.94-2.06-.94 2.06-2.06.94z\"/><path d=\"M17.41 7.96l-1.37-1.37c-.4-.4-.92-.59-1.43-.59-.52 0-1.04.2-1.43.59L10.3 9.45l-7.72 7.72c-.78.78-.78 2.05 0 2.83L4 21.41c.39.39.9.59 1.41.59.51 0 1.02-.2 1.41-.59l7.78-7.78 2.81-2.81c.8-.78.8-2.07 0-2.86zM5.41 20L4 18.59l7.72-7.72 1.47 1.35L5.41 20z\"/>\n",
              "  </svg>\n",
              "      </button>\n",
              "      \n",
              "  <style>\n",
              "    .colab-df-container {\n",
              "      display:flex;\n",
              "      flex-wrap:wrap;\n",
              "      gap: 12px;\n",
              "    }\n",
              "\n",
              "    .colab-df-convert {\n",
              "      background-color: #E8F0FE;\n",
              "      border: none;\n",
              "      border-radius: 50%;\n",
              "      cursor: pointer;\n",
              "      display: none;\n",
              "      fill: #1967D2;\n",
              "      height: 32px;\n",
              "      padding: 0 0 0 0;\n",
              "      width: 32px;\n",
              "    }\n",
              "\n",
              "    .colab-df-convert:hover {\n",
              "      background-color: #E2EBFA;\n",
              "      box-shadow: 0px 1px 2px rgba(60, 64, 67, 0.3), 0px 1px 3px 1px rgba(60, 64, 67, 0.15);\n",
              "      fill: #174EA6;\n",
              "    }\n",
              "\n",
              "    [theme=dark] .colab-df-convert {\n",
              "      background-color: #3B4455;\n",
              "      fill: #D2E3FC;\n",
              "    }\n",
              "\n",
              "    [theme=dark] .colab-df-convert:hover {\n",
              "      background-color: #434B5C;\n",
              "      box-shadow: 0px 1px 3px 1px rgba(0, 0, 0, 0.15);\n",
              "      filter: drop-shadow(0px 1px 2px rgba(0, 0, 0, 0.3));\n",
              "      fill: #FFFFFF;\n",
              "    }\n",
              "  </style>\n",
              "\n",
              "      <script>\n",
              "        const buttonEl =\n",
              "          document.querySelector('#df-5d5c2a2d-8bfb-474f-a3b2-32875508ad49 button.colab-df-convert');\n",
              "        buttonEl.style.display =\n",
              "          google.colab.kernel.accessAllowed ? 'block' : 'none';\n",
              "\n",
              "        async function convertToInteractive(key) {\n",
              "          const element = document.querySelector('#df-5d5c2a2d-8bfb-474f-a3b2-32875508ad49');\n",
              "          const dataTable =\n",
              "            await google.colab.kernel.invokeFunction('convertToInteractive',\n",
              "                                                     [key], {});\n",
              "          if (!dataTable) return;\n",
              "\n",
              "          const docLinkHtml = 'Like what you see? Visit the ' +\n",
              "            '<a target=\"_blank\" href=https://colab.research.google.com/notebooks/data_table.ipynb>data table notebook</a>'\n",
              "            + ' to learn more about interactive tables.';\n",
              "          element.innerHTML = '';\n",
              "          dataTable['output_type'] = 'display_data';\n",
              "          await google.colab.output.renderOutput(dataTable, element);\n",
              "          const docLink = document.createElement('div');\n",
              "          docLink.innerHTML = docLinkHtml;\n",
              "          element.appendChild(docLink);\n",
              "        }\n",
              "      </script>\n",
              "    </div>\n",
              "  </div>\n",
              "  "
            ]
          },
          "metadata": {},
          "execution_count": 104
        }
      ]
    },
    {
      "cell_type": "code",
      "source": [
        "m.plot(previsao)"
      ],
      "metadata": {
        "colab": {
          "base_uri": "https://localhost:8080/",
          "height": 437
        },
        "id": "Tdj_qAEgD7aK",
        "outputId": "8009220a-0259-452c-9896-43ec607e1c79"
      },
      "execution_count": null,
      "outputs": [
        {
          "output_type": "execute_result",
          "data": {
            "text/plain": [
              "<Figure size 720x432 with 1 Axes>"
            ],
            "image/png": "[encoded data removed]"
          },
          "metadata": {},
          "execution_count": 105
        }
      ]
    },
    {
      "cell_type": "code",
      "source": [
        "sns.set(rc={'figure.figsize':(10,8)})\n",
        "plt.plot(teste['ds'], teste['y'])\n",
        "plt.plot(previsao['ds'], previsao['yhat'])"
      ],
      "metadata": {
        "colab": {
          "base_uri": "https://localhost:8080/",
          "height": 502
        },
        "id": "fX1oyO_hD7da",
        "outputId": "ebc95bf9-5158-4241-b6e5-88617e712a27"
      },
      "execution_count": 124,
      "outputs": [
        {
          "output_type": "execute_result",
          "data": {
            "text/plain": [
              "[<matplotlib.lines.Line2D at 0x7fb3f6f0da90>]"
            ]
          },
          "metadata": {},
          "execution_count": 124
        },
        {
          "output_type": "display_data",
          "data": {
            "text/plain": [
              "<Figure size 720x576 with 1 Axes>"
            ],
            "image/png": "[encoded data removed]"
          },
          "metadata": {}
        }
      ]
    },
    {
      "cell_type": "code",
      "source": [
        "previsao.shape"
      ],
      "metadata": {
        "colab": {
          "base_uri": "https://localhost:8080/"
        },
        "id": "Ml2_hkzcaXWE",
        "outputId": "f3b05f40-4564-4b32-e7a0-f38a315c0f3f"
      },
      "execution_count": 107,
      "outputs": [
        {
          "output_type": "execute_result",
          "data": {
            "text/plain": [
              "(346, 16)"
            ]
          },
          "metadata": {},
          "execution_count": 107
        }
      ]
    },
    {
      "cell_type": "code",
      "source": [
        "previsao.tail()"
      ],
      "metadata": {
        "colab": {
          "base_uri": "https://localhost:8080/",
          "height": 444
        },
        "id": "NoYnIfGEabsw",
        "outputId": "9a4fd39a-a75e-45f5-e5f8-6b5569760209"
      },
      "execution_count": 61,
      "outputs": [
        {
          "output_type": "execute_result",
          "data": {
            "text/plain": [
              "                     ds     trend  yhat_lower  yhat_upper  trend_lower  \\\n",
              "413 2022-10-19 19:00:00  9.483873    8.334135   11.498456     8.025637   \n",
              "414 2022-10-19 20:00:00  9.496391    8.223984   11.539364     8.025742   \n",
              "415 2022-10-19 21:00:00  9.508909    8.230284   11.450225     8.017659   \n",
              "416 2022-10-19 22:00:00  9.521427    8.068367   11.354031     8.002737   \n",
              "417 2022-10-19 23:00:00  9.533945    7.865432   11.144663     8.004495   \n",
              "\n",
              "     trend_upper  additive_terms  additive_terms_lower  additive_terms_upper  \\\n",
              "413    10.948748        0.402616              0.402616              0.402616   \n",
              "414    10.970004        0.418373              0.418373              0.418373   \n",
              "415    10.996491        0.370925              0.370925              0.370925   \n",
              "416    11.028619        0.227650              0.227650              0.227650   \n",
              "417    11.060366       -0.009979             -0.009979             -0.009979   \n",
              "\n",
              "        daily  daily_lower  daily_upper  multiplicative_terms  \\\n",
              "413  0.402616     0.402616     0.402616                   0.0   \n",
              "414  0.418373     0.418373     0.418373                   0.0   \n",
              "415  0.370925     0.370925     0.370925                   0.0   \n",
              "416  0.227650     0.227650     0.227650                   0.0   \n",
              "417 -0.009979    -0.009979    -0.009979                   0.0   \n",
              "\n",
              "     multiplicative_terms_lower  multiplicative_terms_upper      yhat  \n",
              "413                         0.0                         0.0  9.886489  \n",
              "414                         0.0                         0.0  9.914764  \n",
              "415                         0.0                         0.0  9.879834  \n",
              "416                         0.0                         0.0  9.749077  \n",
              "417                         0.0                         0.0  9.523965  "
            ],
            "text/html": [
              "\n",
              "  <div id=\"df-208a3957-4396-4cf3-9fda-2be41e32cbb3\">\n",
              "    <div class=\"colab-df-container\">\n",
              "      <div>\n",
              "<style scoped>\n",
              "    .dataframe tbody tr th:only-of-type {\n",
              "        vertical-align: middle;\n",
              "    }\n",
              "\n",
              "    .dataframe tbody tr th {\n",
              "        vertical-align: top;\n",
              "    }\n",
              "\n",
              "    .dataframe thead th {\n",
              "        text-align: right;\n",
              "    }\n",
              "</style>\n",
              "<table border=\"1\" class=\"dataframe\">\n",
              "  <thead>\n",
              "    <tr style=\"text-align: right;\">\n",
              "      <th></th>\n",
              "      <th>ds</th>\n",
              "      <th>trend</th>\n",
              "      <th>yhat_lower</th>\n",
              "      <th>yhat_upper</th>\n",
              "      <th>trend_lower</th>\n",
              "      <th>trend_upper</th>\n",
              "      <th>additive_terms</th>\n",
              "      <th>additive_terms_lower</th>\n",
              "      <th>additive_terms_upper</th>\n",
              "      <th>daily</th>\n",
              "      <th>daily_lower</th>\n",
              "      <th>daily_upper</th>\n",
              "      <th>multiplicative_terms</th>\n",
              "      <th>multiplicative_terms_lower</th>\n",
              "      <th>multiplicative_terms_upper</th>\n",
              "      <th>yhat</th>\n",
              "    </tr>\n",
              "  </thead>\n",
              "  <tbody>\n",
              "    <tr>\n",
              "      <th>413</th>\n",
              "      <td>2022-10-19 19:00:00</td>\n",
              "      <td>9.483873</td>\n",
              "      <td>8.334135</td>\n",
              "      <td>11.498456</td>\n",
              "      <td>8.025637</td>\n",
              "      <td>10.948748</td>\n",
              "      <td>0.402616</td>\n",
              "      <td>0.402616</td>\n",
              "      <td>0.402616</td>\n",
              "      <td>0.402616</td>\n",
              "      <td>0.402616</td>\n",
              "      <td>0.402616</td>\n",
              "      <td>0.0</td>\n",
              "      <td>0.0</td>\n",
              "      <td>0.0</td>\n",
              "      <td>9.886489</td>\n",
              "    </tr>\n",
              "    <tr>\n",
              "      <th>414</th>\n",
              "      <td>2022-10-19 20:00:00</td>\n",
              "      <td>9.496391</td>\n",
              "      <td>8.223984</td>\n",
              "      <td>11.539364</td>\n",
              "      <td>8.025742</td>\n",
              "      <td>10.970004</td>\n",
              "      <td>0.418373</td>\n",
              "      <td>0.418373</td>\n",
              "      <td>0.418373</td>\n",
              "      <td>0.418373</td>\n",
              "      <td>0.418373</td>\n",
              "      <td>0.418373</td>\n",
              "      <td>0.0</td>\n",
              "      <td>0.0</td>\n",
              "      <td>0.0</td>\n",
              "      <td>9.914764</td>\n",
              "    </tr>\n",
              "    <tr>\n",
              "      <th>415</th>\n",
              "      <td>2022-10-19 21:00:00</td>\n",
              "      <td>9.508909</td>\n",
              "      <td>8.230284</td>\n",
              "      <td>11.450225</td>\n",
              "      <td>8.017659</td>\n",
              "      <td>10.996491</td>\n",
              "      <td>0.370925</td>\n",
              "      <td>0.370925</td>\n",
              "      <td>0.370925</td>\n",
              "      <td>0.370925</td>\n",
              "      <td>0.370925</td>\n",
              "      <td>0.370925</td>\n",
              "      <td>0.0</td>\n",
              "      <td>0.0</td>\n",
              "      <td>0.0</td>\n",
              "      <td>9.879834</td>\n",
              "    </tr>\n",
              "    <tr>\n",
              "      <th>416</th>\n",
              "      <td>2022-10-19 22:00:00</td>\n",
              "      <td>9.521427</td>\n",
              "      <td>8.068367</td>\n",
              "      <td>11.354031</td>\n",
              "      <td>8.002737</td>\n",
              "      <td>11.028619</td>\n",
              "      <td>0.227650</td>\n",
              "      <td>0.227650</td>\n",
              "      <td>0.227650</td>\n",
              "      <td>0.227650</td>\n",
              "      <td>0.227650</td>\n",
              "      <td>0.227650</td>\n",
              "      <td>0.0</td>\n",
              "      <td>0.0</td>\n",
              "      <td>0.0</td>\n",
              "      <td>9.749077</td>\n",
              "    </tr>\n",
              "    <tr>\n",
              "      <th>417</th>\n",
              "      <td>2022-10-19 23:00:00</td>\n",
              "      <td>9.533945</td>\n",
              "      <td>7.865432</td>\n",
              "      <td>11.144663</td>\n",
              "      <td>8.004495</td>\n",
              "      <td>11.060366</td>\n",
              "      <td>-0.009979</td>\n",
              "      <td>-0.009979</td>\n",
              "      <td>-0.009979</td>\n",
              "      <td>-0.009979</td>\n",
              "      <td>-0.009979</td>\n",
              "      <td>-0.009979</td>\n",
              "      <td>0.0</td>\n",
              "      <td>0.0</td>\n",
              "      <td>0.0</td>\n",
              "      <td>9.523965</td>\n",
              "    </tr>\n",
              "  </tbody>\n",
              "</table>\n",
              "</div>\n",
              "      <button class=\"colab-df-convert\" onclick=\"convertToInteractive('df-208a3957-4396-4cf3-9fda-2be41e32cbb3')\"\n",
              "              title=\"Convert this dataframe to an interactive table.\"\n",
              "              style=\"display:none;\">\n",
              "        \n",
              "  <svg xmlns=\"http://www.w3.org/2000/svg\" height=\"24px\"viewBox=\"0 0 24 24\"\n",
              "       width=\"24px\">\n",
              "    <path d=\"M0 0h24v24H0V0z\" fill=\"none\"/>\n",
              "    <path d=\"M18.56 5.44l.94 2.06.94-2.06 2.06-.94-2.06-.94-.94-2.06-.94 2.06-2.06.94zm-11 1L8.5 8.5l.94-2.06 2.06-.94-2.06-.94L8.5 2.5l-.94 2.06-2.06.94zm10 10l.94 2.06.94-2.06 2.06-.94-2.06-.94-.94-2.06-.94 2.06-2.06.94z\"/><path d=\"M17.41 7.96l-1.37-1.37c-.4-.4-.92-.59-1.43-.59-.52 0-1.04.2-1.43.59L10.3 9.45l-7.72 7.72c-.78.78-.78 2.05 0 2.83L4 21.41c.39.39.9.59 1.41.59.51 0 1.02-.2 1.41-.59l7.78-7.78 2.81-2.81c.8-.78.8-2.07 0-2.86zM5.41 20L4 18.59l7.72-7.72 1.47 1.35L5.41 20z\"/>\n",
              "  </svg>\n",
              "      </button>\n",
              "      \n",
              "  <style>\n",
              "    .colab-df-container {\n",
              "      display:flex;\n",
              "      flex-wrap:wrap;\n",
              "      gap: 12px;\n",
              "    }\n",
              "\n",
              "    .colab-df-convert {\n",
              "      background-color: #E8F0FE;\n",
              "      border: none;\n",
              "      border-radius: 50%;\n",
              "      cursor: pointer;\n",
              "      display: none;\n",
              "      fill: #1967D2;\n",
              "      height: 32px;\n",
              "      padding: 0 0 0 0;\n",
              "      width: 32px;\n",
              "    }\n",
              "\n",
              "    .colab-df-convert:hover {\n",
              "      background-color: #E2EBFA;\n",
              "      box-shadow: 0px 1px 2px rgba(60, 64, 67, 0.3), 0px 1px 3px 1px rgba(60, 64, 67, 0.15);\n",
              "      fill: #174EA6;\n",
              "    }\n",
              "\n",
              "    [theme=dark] .colab-df-convert {\n",
              "      background-color: #3B4455;\n",
              "      fill: #D2E3FC;\n",
              "    }\n",
              "\n",
              "    [theme=dark] .colab-df-convert:hover {\n",
              "      background-color: #434B5C;\n",
              "      box-shadow: 0px 1px 3px 1px rgba(0, 0, 0, 0.15);\n",
              "      filter: drop-shadow(0px 1px 2px rgba(0, 0, 0, 0.3));\n",
              "      fill: #FFFFFF;\n",
              "    }\n",
              "  </style>\n",
              "\n",
              "      <script>\n",
              "        const buttonEl =\n",
              "          document.querySelector('#df-208a3957-4396-4cf3-9fda-2be41e32cbb3 button.colab-df-convert');\n",
              "        buttonEl.style.display =\n",
              "          google.colab.kernel.accessAllowed ? 'block' : 'none';\n",
              "\n",
              "        async function convertToInteractive(key) {\n",
              "          const element = document.querySelector('#df-208a3957-4396-4cf3-9fda-2be41e32cbb3');\n",
              "          const dataTable =\n",
              "            await google.colab.kernel.invokeFunction('convertToInteractive',\n",
              "                                                     [key], {});\n",
              "          if (!dataTable) return;\n",
              "\n",
              "          const docLinkHtml = 'Like what you see? Visit the ' +\n",
              "            '<a target=\"_blank\" href=https://colab.research.google.com/notebooks/data_table.ipynb>data table notebook</a>'\n",
              "            + ' to learn more about interactive tables.';\n",
              "          element.innerHTML = '';\n",
              "          dataTable['output_type'] = 'display_data';\n",
              "          await google.colab.output.renderOutput(dataTable, element);\n",
              "          const docLink = document.createElement('div');\n",
              "          docLink.innerHTML = docLinkHtml;\n",
              "          element.appendChild(docLink);\n",
              "        }\n",
              "      </script>\n",
              "    </div>\n",
              "  </div>\n",
              "  "
            ]
          },
          "metadata": {},
          "execution_count": 61
        }
      ]
    },
    {
      "cell_type": "code",
      "source": [
        "\n",
        "# Python\n",
        "from prophet.diagnostics import cross_validation\n",
        "df_cv = cross_validation(m, initial='1 hour', period='24 hours', horizon = '168 hours')"
      ],
      "metadata": {
        "colab": {
          "base_uri": "https://localhost:8080/",
          "height": 746,
          "referenced_widgets": [
            "fd84ce81f931414e9537e3fbc455277b",
            "b564af783e874b48acf033c4a70d2a96",
            "f7cc3cc96f824e1f941bc9dc2a845b84",
            "29ca8e57ebf54f9eb9a32b53b3799caf",
            "d36776a6e8004ef388dc0c577e6d6c4c",
            "c987dd8b63064898ad0e3b98df84829b",
            "3731c9fb736548b6958f300ab6e83f72",
            "c1be9700b64c4371b797a52c339d1869",
            "e4bee825ed594b8db6a8e6cb30693db3",
            "18bab3a9e8b44c7dada37c15f825f5c6",
            "5705272044734eb1bee735fbce848bd2"
          ]
        },
        "id": "kM4mj4UxlOkP",
        "outputId": "18653b2a-1a3c-4aea-8712-4bbc6c5609c4"
      },
      "execution_count": 115,
      "outputs": [
        {
          "output_type": "stream",
          "name": "stderr",
          "text": [
            "INFO:prophet:Making 4 forecasts with cutoffs between 2022-10-02 23:00:00 and 2022-10-05 23:00:00\n",
            "WARNING:prophet:Seasonality has period of 1 days which is larger than initial window. Consider increasing initial.\n"
          ]
        },
        {
          "output_type": "display_data",
          "data": {
            "text/plain": [
              "  0%|          | 0/4 [00:00<?, ?it/s]"
            ],
            "application/vnd.jupyter.widget-view+json": {
              "version_major": 2,
              "version_minor": 0,
              "model_id": "fd84ce81f931414e9537e3fbc455277b"
            }
          },
          "metadata": {}
        },
        {
          "output_type": "stream",
          "name": "stderr",
          "text": [
            "INFO:prophet:n_changepoints greater than number of observations. Using 7.\n",
            "DEBUG:cmdstanpy:input tempfile: /tmp/tmpujrmxx9a/b0fjevez.json\n",
            "DEBUG:cmdstanpy:input tempfile: /tmp/tmpujrmxx9a/ftgnv3cz.json\n",
            "DEBUG:cmdstanpy:idx 0\n",
            "DEBUG:cmdstanpy:running CmdStan, num_threads: None\n",
            "DEBUG:cmdstanpy:CmdStan args: ['/usr/local/lib/python3.7/dist-packages/prophet/stan_model/prophet_model.bin', 'random', 'seed=7564', 'data', 'file=/tmp/tmpujrmxx9a/b0fjevez.json', 'init=/tmp/tmpujrmxx9a/ftgnv3cz.json', 'output', 'file=/tmp/tmpujrmxx9a/prophet_model3iu07hli/prophet_model-20221024012726.csv', 'method=optimize', 'algorithm=newton', 'iter=10000']\n",
            "01:27:26 - cmdstanpy - INFO - Chain [1] start processing\n",
            "INFO:cmdstanpy:Chain [1] start processing\n",
            "01:27:26 - cmdstanpy - INFO - Chain [1] done processing\n",
            "INFO:cmdstanpy:Chain [1] done processing\n",
            "DEBUG:cmdstanpy:input tempfile: /tmp/tmpujrmxx9a/zt_g6lz1.json\n",
            "DEBUG:cmdstanpy:input tempfile: /tmp/tmpujrmxx9a/klcqjrba.json\n",
            "DEBUG:cmdstanpy:idx 0\n",
            "DEBUG:cmdstanpy:running CmdStan, num_threads: None\n",
            "DEBUG:cmdstanpy:CmdStan args: ['/usr/local/lib/python3.7/dist-packages/prophet/stan_model/prophet_model.bin', 'random', 'seed=29862', 'data', 'file=/tmp/tmpujrmxx9a/zt_g6lz1.json', 'init=/tmp/tmpujrmxx9a/klcqjrba.json', 'output', 'file=/tmp/tmpujrmxx9a/prophet_modelm7yur4az/prophet_model-20221024012728.csv', 'method=optimize', 'algorithm=newton', 'iter=10000']\n",
            "01:27:28 - cmdstanpy - INFO - Chain [1] start processing\n",
            "INFO:cmdstanpy:Chain [1] start processing\n",
            "01:27:29 - cmdstanpy - INFO - Chain [1] done processing\n",
            "INFO:cmdstanpy:Chain [1] done processing\n",
            "DEBUG:cmdstanpy:input tempfile: /tmp/tmpujrmxx9a/q4lyp8wx.json\n",
            "DEBUG:cmdstanpy:input tempfile: /tmp/tmpujrmxx9a/q1d6lqd3.json\n",
            "DEBUG:cmdstanpy:idx 0\n",
            "DEBUG:cmdstanpy:running CmdStan, num_threads: None\n",
            "DEBUG:cmdstanpy:CmdStan args: ['/usr/local/lib/python3.7/dist-packages/prophet/stan_model/prophet_model.bin', 'random', 'seed=4342', 'data', 'file=/tmp/tmpujrmxx9a/q4lyp8wx.json', 'init=/tmp/tmpujrmxx9a/q1d6lqd3.json', 'output', 'file=/tmp/tmpujrmxx9a/prophet_modelub_9y_3l/prophet_model-20221024012729.csv', 'method=optimize', 'algorithm=newton', 'iter=10000']\n",
            "01:27:29 - cmdstanpy - INFO - Chain [1] start processing\n",
            "INFO:cmdstanpy:Chain [1] start processing\n",
            "01:27:30 - cmdstanpy - INFO - Chain [1] done processing\n",
            "INFO:cmdstanpy:Chain [1] done processing\n",
            "DEBUG:cmdstanpy:input tempfile: /tmp/tmpujrmxx9a/k063mrts.json\n",
            "DEBUG:cmdstanpy:input tempfile: /tmp/tmpujrmxx9a/c2l8bjsl.json\n",
            "DEBUG:cmdstanpy:idx 0\n",
            "DEBUG:cmdstanpy:running CmdStan, num_threads: None\n",
            "DEBUG:cmdstanpy:CmdStan args: ['/usr/local/lib/python3.7/dist-packages/prophet/stan_model/prophet_model.bin', 'random', 'seed=72389', 'data', 'file=/tmp/tmpujrmxx9a/k063mrts.json', 'init=/tmp/tmpujrmxx9a/c2l8bjsl.json', 'output', 'file=/tmp/tmpujrmxx9a/prophet_modelz98vps28/prophet_model-20221024012730.csv', 'method=optimize', 'algorithm=newton', 'iter=10000']\n",
            "01:27:30 - cmdstanpy - INFO - Chain [1] start processing\n",
            "INFO:cmdstanpy:Chain [1] start processing\n",
            "01:27:31 - cmdstanpy - INFO - Chain [1] done processing\n",
            "INFO:cmdstanpy:Chain [1] done processing\n"
          ]
        }
      ]
    },
    {
      "cell_type": "code",
      "source": [
        "df_cv.tail()\n"
      ],
      "metadata": {
        "colab": {
          "base_uri": "https://localhost:8080/",
          "height": 206
        },
        "id": "1xN9X1AZlWKV",
        "outputId": "e741e4e2-17d3-4c6e-bd02-43337eb9b026"
      },
      "execution_count": 117,
      "outputs": [
        {
          "output_type": "execute_result",
          "data": {
            "text/plain": [
              "                     ds       yhat  yhat_lower  yhat_upper     y  \\\n",
              "667 2022-10-12 19:00:00  11.363894   10.767843   11.994808  7.06   \n",
              "668 2022-10-12 20:00:00  11.368855   10.769240   11.944516  6.98   \n",
              "669 2022-10-12 21:00:00  11.453594   10.859249   12.030310  7.01   \n",
              "670 2022-10-12 22:00:00  11.461013   10.793864   12.028098  7.08   \n",
              "671 2022-10-12 23:00:00  11.274566   10.671983   11.897380  7.04   \n",
              "\n",
              "                 cutoff  \n",
              "667 2022-10-05 23:00:00  \n",
              "668 2022-10-05 23:00:00  \n",
              "669 2022-10-05 23:00:00  \n",
              "670 2022-10-05 23:00:00  \n",
              "671 2022-10-05 23:00:00  "
            ],
            "text/html": [
              "\n",
              "  <div id=\"df-abf55dd7-408c-42a9-8453-297aed759be0\">\n",
              "    <div class=\"colab-df-container\">\n",
              "      <div>\n",
              "<style scoped>\n",
              "    .dataframe tbody tr th:only-of-type {\n",
              "        vertical-align: middle;\n",
              "    }\n",
              "\n",
              "    .dataframe tbody tr th {\n",
              "        vertical-align: top;\n",
              "    }\n",
              "\n",
              "    .dataframe thead th {\n",
              "        text-align: right;\n",
              "    }\n",
              "</style>\n",
              "<table border=\"1\" class=\"dataframe\">\n",
              "  <thead>\n",
              "    <tr style=\"text-align: right;\">\n",
              "      <th></th>\n",
              "      <th>ds</th>\n",
              "      <th>yhat</th>\n",
              "      <th>yhat_lower</th>\n",
              "      <th>yhat_upper</th>\n",
              "      <th>y</th>\n",
              "      <th>cutoff</th>\n",
              "    </tr>\n",
              "  </thead>\n",
              "  <tbody>\n",
              "    <tr>\n",
              "      <th>667</th>\n",
              "      <td>2022-10-12 19:00:00</td>\n",
              "      <td>11.363894</td>\n",
              "      <td>10.767843</td>\n",
              "      <td>11.994808</td>\n",
              "      <td>7.06</td>\n",
              "      <td>2022-10-05 23:00:00</td>\n",
              "    </tr>\n",
              "    <tr>\n",
              "      <th>668</th>\n",
              "      <td>2022-10-12 20:00:00</td>\n",
              "      <td>11.368855</td>\n",
              "      <td>10.769240</td>\n",
              "      <td>11.944516</td>\n",
              "      <td>6.98</td>\n",
              "      <td>2022-10-05 23:00:00</td>\n",
              "    </tr>\n",
              "    <tr>\n",
              "      <th>669</th>\n",
              "      <td>2022-10-12 21:00:00</td>\n",
              "      <td>11.453594</td>\n",
              "      <td>10.859249</td>\n",
              "      <td>12.030310</td>\n",
              "      <td>7.01</td>\n",
              "      <td>2022-10-05 23:00:00</td>\n",
              "    </tr>\n",
              "    <tr>\n",
              "      <th>670</th>\n",
              "      <td>2022-10-12 22:00:00</td>\n",
              "      <td>11.461013</td>\n",
              "      <td>10.793864</td>\n",
              "      <td>12.028098</td>\n",
              "      <td>7.08</td>\n",
              "      <td>2022-10-05 23:00:00</td>\n",
              "    </tr>\n",
              "    <tr>\n",
              "      <th>671</th>\n",
              "      <td>2022-10-12 23:00:00</td>\n",
              "      <td>11.274566</td>\n",
              "      <td>10.671983</td>\n",
              "      <td>11.897380</td>\n",
              "      <td>7.04</td>\n",
              "      <td>2022-10-05 23:00:00</td>\n",
              "    </tr>\n",
              "  </tbody>\n",
              "</table>\n",
              "</div>\n",
              "      <button class=\"colab-df-convert\" onclick=\"convertToInteractive('df-abf55dd7-408c-42a9-8453-297aed759be0')\"\n",
              "              title=\"Convert this dataframe to an interactive table.\"\n",
              "              style=\"display:none;\">\n",
              "        \n",
              "  <svg xmlns=\"http://www.w3.org/2000/svg\" height=\"24px\"viewBox=\"0 0 24 24\"\n",
              "       width=\"24px\">\n",
              "    <path d=\"M0 0h24v24H0V0z\" fill=\"none\"/>\n",
              "    <path d=\"M18.56 5.44l.94 2.06.94-2.06 2.06-.94-2.06-.94-.94-2.06-.94 2.06-2.06.94zm-11 1L8.5 8.5l.94-2.06 2.06-.94-2.06-.94L8.5 2.5l-.94 2.06-2.06.94zm10 10l.94 2.06.94-2.06 2.06-.94-2.06-.94-.94-2.06-.94 2.06-2.06.94z\"/><path d=\"M17.41 7.96l-1.37-1.37c-.4-.4-.92-.59-1.43-.59-.52 0-1.04.2-1.43.59L10.3 9.45l-7.72 7.72c-.78.78-.78 2.05 0 2.83L4 21.41c.39.39.9.59 1.41.59.51 0 1.02-.2 1.41-.59l7.78-7.78 2.81-2.81c.8-.78.8-2.07 0-2.86zM5.41 20L4 18.59l7.72-7.72 1.47 1.35L5.41 20z\"/>\n",
              "  </svg>\n",
              "      </button>\n",
              "      \n",
              "  <style>\n",
              "    .colab-df-container {\n",
              "      display:flex;\n",
              "      flex-wrap:wrap;\n",
              "      gap: 12px;\n",
              "    }\n",
              "\n",
              "    .colab-df-convert {\n",
              "      background-color: #E8F0FE;\n",
              "      border: none;\n",
              "      border-radius: 50%;\n",
              "      cursor: pointer;\n",
              "      display: none;\n",
              "      fill: #1967D2;\n",
              "      height: 32px;\n",
              "      padding: 0 0 0 0;\n",
              "      width: 32px;\n",
              "    }\n",
              "\n",
              "    .colab-df-convert:hover {\n",
              "      background-color: #E2EBFA;\n",
              "      box-shadow: 0px 1px 2px rgba(60, 64, 67, 0.3), 0px 1px 3px 1px rgba(60, 64, 67, 0.15);\n",
              "      fill: #174EA6;\n",
              "    }\n",
              "\n",
              "    [theme=dark] .colab-df-convert {\n",
              "      background-color: #3B4455;\n",
              "      fill: #D2E3FC;\n",
              "    }\n",
              "\n",
              "    [theme=dark] .colab-df-convert:hover {\n",
              "      background-color: #434B5C;\n",
              "      box-shadow: 0px 1px 3px 1px rgba(0, 0, 0, 0.15);\n",
              "      filter: drop-shadow(0px 1px 2px rgba(0, 0, 0, 0.3));\n",
              "      fill: #FFFFFF;\n",
              "    }\n",
              "  </style>\n",
              "\n",
              "      <script>\n",
              "        const buttonEl =\n",
              "          document.querySelector('#df-abf55dd7-408c-42a9-8453-297aed759be0 button.colab-df-convert');\n",
              "        buttonEl.style.display =\n",
              "          google.colab.kernel.accessAllowed ? 'block' : 'none';\n",
              "\n",
              "        async function convertToInteractive(key) {\n",
              "          const element = document.querySelector('#df-abf55dd7-408c-42a9-8453-297aed759be0');\n",
              "          const dataTable =\n",
              "            await google.colab.kernel.invokeFunction('convertToInteractive',\n",
              "                                                     [key], {});\n",
              "          if (!dataTable) return;\n",
              "\n",
              "          const docLinkHtml = 'Like what you see? Visit the ' +\n",
              "            '<a target=\"_blank\" href=https://colab.research.google.com/notebooks/data_table.ipynb>data table notebook</a>'\n",
              "            + ' to learn more about interactive tables.';\n",
              "          element.innerHTML = '';\n",
              "          dataTable['output_type'] = 'display_data';\n",
              "          await google.colab.output.renderOutput(dataTable, element);\n",
              "          const docLink = document.createElement('div');\n",
              "          docLink.innerHTML = docLinkHtml;\n",
              "          element.appendChild(docLink);\n",
              "        }\n",
              "      </script>\n",
              "    </div>\n",
              "  </div>\n",
              "  "
            ]
          },
          "metadata": {},
          "execution_count": 117
        }
      ]
    },
    {
      "cell_type": "code",
      "source": [
        "cutoffs = pd.to_datetime(['2022-10-03 00:00:00', '2022-10-4 00:00:00', '2022-10-05 23:00:00'])\n",
        "df_cv2 = cross_validation(m, cutoffs=cutoffs, horizon='168 hours')"
      ],
      "metadata": {
        "colab": {
          "base_uri": "https://localhost:8080/",
          "height": 572,
          "referenced_widgets": [
            "49b1e073cc9e4a20a565a29f514aeeb4",
            "7a546064c526484aa44f80cdfaa2f03c",
            "8402f749178e43cfb3cb4b4ff44ee7d4",
            "2850a6c14bbb46c391f90f91becc217c",
            "4faf5adab11e43d692aa46c4cc7096b2",
            "22031cc7de894161a81f52a007d9453b",
            "c36fffb7bc1f4415ad2bafe91b6ea4bd",
            "d4395f4040a34c57a0da6af70b68e094",
            "4140442a409941889e69317cbe912cc4",
            "c0485a018f844e499391679987b34a68",
            "e41265518b8741039ff57bf9dd1b77ff"
          ]
        },
        "id": "yMNzB4EIlWUq",
        "outputId": "4739074c-0bb2-483c-c636-b060104fa198"
      },
      "execution_count": 121,
      "outputs": [
        {
          "output_type": "stream",
          "name": "stderr",
          "text": [
            "WARNING:prophet:Seasonality has period of 1 days which is larger than initial window. Consider increasing initial.\n"
          ]
        },
        {
          "output_type": "display_data",
          "data": {
            "text/plain": [
              "  0%|          | 0/3 [00:00<?, ?it/s]"
            ],
            "application/vnd.jupyter.widget-view+json": {
              "version_major": 2,
              "version_minor": 0,
              "model_id": "49b1e073cc9e4a20a565a29f514aeeb4"
            }
          },
          "metadata": {}
        },
        {
          "output_type": "stream",
          "name": "stderr",
          "text": [
            "INFO:prophet:n_changepoints greater than number of observations. Using 7.\n",
            "DEBUG:cmdstanpy:input tempfile: /tmp/tmpujrmxx9a/73qkxjw5.json\n",
            "DEBUG:cmdstanpy:input tempfile: /tmp/tmpujrmxx9a/z9ttgi6_.json\n",
            "DEBUG:cmdstanpy:idx 0\n",
            "DEBUG:cmdstanpy:running CmdStan, num_threads: None\n",
            "DEBUG:cmdstanpy:CmdStan args: ['/usr/local/lib/python3.7/dist-packages/prophet/stan_model/prophet_model.bin', 'random', 'seed=75198', 'data', 'file=/tmp/tmpujrmxx9a/73qkxjw5.json', 'init=/tmp/tmpujrmxx9a/z9ttgi6_.json', 'output', 'file=/tmp/tmpujrmxx9a/prophet_model0mcndeur/prophet_model-20221024020200.csv', 'method=optimize', 'algorithm=newton', 'iter=10000']\n",
            "02:02:00 - cmdstanpy - INFO - Chain [1] start processing\n",
            "INFO:cmdstanpy:Chain [1] start processing\n",
            "02:02:00 - cmdstanpy - INFO - Chain [1] done processing\n",
            "INFO:cmdstanpy:Chain [1] done processing\n",
            "DEBUG:cmdstanpy:input tempfile: /tmp/tmpujrmxx9a/u_sqr437.json\n",
            "DEBUG:cmdstanpy:input tempfile: /tmp/tmpujrmxx9a/m_dkdugu.json\n",
            "DEBUG:cmdstanpy:idx 0\n",
            "DEBUG:cmdstanpy:running CmdStan, num_threads: None\n",
            "DEBUG:cmdstanpy:CmdStan args: ['/usr/local/lib/python3.7/dist-packages/prophet/stan_model/prophet_model.bin', 'random', 'seed=70046', 'data', 'file=/tmp/tmpujrmxx9a/u_sqr437.json', 'init=/tmp/tmpujrmxx9a/m_dkdugu.json', 'output', 'file=/tmp/tmpujrmxx9a/prophet_modela14uzbo6/prophet_model-20221024020201.csv', 'method=optimize', 'algorithm=newton', 'iter=10000']\n",
            "02:02:01 - cmdstanpy - INFO - Chain [1] start processing\n",
            "INFO:cmdstanpy:Chain [1] start processing\n",
            "02:02:01 - cmdstanpy - INFO - Chain [1] done processing\n",
            "INFO:cmdstanpy:Chain [1] done processing\n",
            "DEBUG:cmdstanpy:input tempfile: /tmp/tmpujrmxx9a/oanddv2f.json\n",
            "DEBUG:cmdstanpy:input tempfile: /tmp/tmpujrmxx9a/y0_3_11y.json\n",
            "DEBUG:cmdstanpy:idx 0\n",
            "DEBUG:cmdstanpy:running CmdStan, num_threads: None\n",
            "DEBUG:cmdstanpy:CmdStan args: ['/usr/local/lib/python3.7/dist-packages/prophet/stan_model/prophet_model.bin', 'random', 'seed=65869', 'data', 'file=/tmp/tmpujrmxx9a/oanddv2f.json', 'init=/tmp/tmpujrmxx9a/y0_3_11y.json', 'output', 'file=/tmp/tmpujrmxx9a/prophet_model_orlqjyu/prophet_model-20221024020202.csv', 'method=optimize', 'algorithm=newton', 'iter=10000']\n",
            "02:02:02 - cmdstanpy - INFO - Chain [1] start processing\n",
            "INFO:cmdstanpy:Chain [1] start processing\n",
            "02:02:02 - cmdstanpy - INFO - Chain [1] done processing\n",
            "INFO:cmdstanpy:Chain [1] done processing\n"
          ]
        }
      ]
    },
    {
      "cell_type": "code",
      "source": [
        "from prophet.diagnostics import performance_metrics\n",
        "df_p = performance_metrics(df_cv)\n",
        "df_p.head(150)"
      ],
      "metadata": {
        "colab": {
          "base_uri": "https://localhost:8080/",
          "height": 424
        },
        "id": "vGxklH_FlWcm",
        "outputId": "070ce463-7655-442a-e5b9-74792c01d628"
      },
      "execution_count": 122,
      "outputs": [
        {
          "output_type": "execute_result",
          "data": {
            "text/plain": [
              "            horizon         mse       rmse        mae      mape     mdape  \\\n",
              "0   0 days 17:00:00  103.137699  10.155673   4.327302  0.681674  0.112270   \n",
              "1   0 days 18:00:00  103.438606  10.170477   4.385314  0.688162  0.116859   \n",
              "2   0 days 19:00:00  103.577455  10.177301   4.403597  0.687984  0.116859   \n",
              "3   0 days 20:00:00  103.142196  10.155895   4.362336  0.676266  0.112270   \n",
              "4   0 days 21:00:00  102.403218  10.119448   4.317972  0.662867  0.116859   \n",
              "..              ...         ...        ...        ...       ...       ...   \n",
              "145 6 days 18:00:00  649.901827  25.493172  14.486594  2.376628  0.833394   \n",
              "146 6 days 19:00:00  660.763633  25.705323  14.653953  2.393858  0.720688   \n",
              "147 6 days 20:00:00  673.928163  25.960126  14.788917  2.403390  0.720688   \n",
              "148 6 days 21:00:00  688.886955  26.246656  15.021752  2.426269  0.681140   \n",
              "149 6 days 22:00:00  700.833322  26.473257  15.209531  2.438949  0.652626   \n",
              "\n",
              "        smape  coverage  \n",
              "0    0.359838  0.126866  \n",
              "1    0.363041  0.104478  \n",
              "2    0.354548  0.104478  \n",
              "3    0.330320  0.119403  \n",
              "4    0.308911  0.119403  \n",
              "..        ...       ...  \n",
              "145  0.673718  0.250000  \n",
              "146  0.674790  0.250000  \n",
              "147  0.667861  0.250000  \n",
              "148  0.668402  0.250000  \n",
              "149  0.668850  0.250000  \n",
              "\n",
              "[150 rows x 8 columns]"
            ],
            "text/html": [
              "\n",
              "  <div id=\"df-4c819842-bffe-47ef-8518-66184f8757ac\">\n",
              "    <div class=\"colab-df-container\">\n",
              "      <div>\n",
              "<style scoped>\n",
              "    .dataframe tbody tr th:only-of-type {\n",
              "        vertical-align: middle;\n",
              "    }\n",
              "\n",
              "    .dataframe tbody tr th {\n",
              "        vertical-align: top;\n",
              "    }\n",
              "\n",
              "    .dataframe thead th {\n",
              "        text-align: right;\n",
              "    }\n",
              "</style>\n",
              "<table border=\"1\" class=\"dataframe\">\n",
              "  <thead>\n",
              "    <tr style=\"text-align: right;\">\n",
              "      <th></th>\n",
              "      <th>horizon</th>\n",
              "      <th>mse</th>\n",
              "      <th>rmse</th>\n",
              "      <th>mae</th>\n",
              "      <th>mape</th>\n",
              "      <th>mdape</th>\n",
              "      <th>smape</th>\n",
              "      <th>coverage</th>\n",
              "    </tr>\n",
              "  </thead>\n",
              "  <tbody>\n",
              "    <tr>\n",
              "      <th>0</th>\n",
              "      <td>0 days 17:00:00</td>\n",
              "      <td>103.137699</td>\n",
              "      <td>10.155673</td>\n",
              "      <td>4.327302</td>\n",
              "      <td>0.681674</td>\n",
              "      <td>0.112270</td>\n",
              "      <td>0.359838</td>\n",
              "      <td>0.126866</td>\n",
              "    </tr>\n",
              "    <tr>\n",
              "      <th>1</th>\n",
              "      <td>0 days 18:00:00</td>\n",
              "      <td>103.438606</td>\n",
              "      <td>10.170477</td>\n",
              "      <td>4.385314</td>\n",
              "      <td>0.688162</td>\n",
              "      <td>0.116859</td>\n",
              "      <td>0.363041</td>\n",
              "      <td>0.104478</td>\n",
              "    </tr>\n",
              "    <tr>\n",
              "      <th>2</th>\n",
              "      <td>0 days 19:00:00</td>\n",
              "      <td>103.577455</td>\n",
              "      <td>10.177301</td>\n",
              "      <td>4.403597</td>\n",
              "      <td>0.687984</td>\n",
              "      <td>0.116859</td>\n",
              "      <td>0.354548</td>\n",
              "      <td>0.104478</td>\n",
              "    </tr>\n",
              "    <tr>\n",
              "      <th>3</th>\n",
              "      <td>0 days 20:00:00</td>\n",
              "      <td>103.142196</td>\n",
              "      <td>10.155895</td>\n",
              "      <td>4.362336</td>\n",
              "      <td>0.676266</td>\n",
              "      <td>0.112270</td>\n",
              "      <td>0.330320</td>\n",
              "      <td>0.119403</td>\n",
              "    </tr>\n",
              "    <tr>\n",
              "      <th>4</th>\n",
              "      <td>0 days 21:00:00</td>\n",
              "      <td>102.403218</td>\n",
              "      <td>10.119448</td>\n",
              "      <td>4.317972</td>\n",
              "      <td>0.662867</td>\n",
              "      <td>0.116859</td>\n",
              "      <td>0.308911</td>\n",
              "      <td>0.119403</td>\n",
              "    </tr>\n",
              "    <tr>\n",
              "      <th>...</th>\n",
              "      <td>...</td>\n",
              "      <td>...</td>\n",
              "      <td>...</td>\n",
              "      <td>...</td>\n",
              "      <td>...</td>\n",
              "      <td>...</td>\n",
              "      <td>...</td>\n",
              "      <td>...</td>\n",
              "    </tr>\n",
              "    <tr>\n",
              "      <th>145</th>\n",
              "      <td>6 days 18:00:00</td>\n",
              "      <td>649.901827</td>\n",
              "      <td>25.493172</td>\n",
              "      <td>14.486594</td>\n",
              "      <td>2.376628</td>\n",
              "      <td>0.833394</td>\n",
              "      <td>0.673718</td>\n",
              "      <td>0.250000</td>\n",
              "    </tr>\n",
              "    <tr>\n",
              "      <th>146</th>\n",
              "      <td>6 days 19:00:00</td>\n",
              "      <td>660.763633</td>\n",
              "      <td>25.705323</td>\n",
              "      <td>14.653953</td>\n",
              "      <td>2.393858</td>\n",
              "      <td>0.720688</td>\n",
              "      <td>0.674790</td>\n",
              "      <td>0.250000</td>\n",
              "    </tr>\n",
              "    <tr>\n",
              "      <th>147</th>\n",
              "      <td>6 days 20:00:00</td>\n",
              "      <td>673.928163</td>\n",
              "      <td>25.960126</td>\n",
              "      <td>14.788917</td>\n",
              "      <td>2.403390</td>\n",
              "      <td>0.720688</td>\n",
              "      <td>0.667861</td>\n",
              "      <td>0.250000</td>\n",
              "    </tr>\n",
              "    <tr>\n",
              "      <th>148</th>\n",
              "      <td>6 days 21:00:00</td>\n",
              "      <td>688.886955</td>\n",
              "      <td>26.246656</td>\n",
              "      <td>15.021752</td>\n",
              "      <td>2.426269</td>\n",
              "      <td>0.681140</td>\n",
              "      <td>0.668402</td>\n",
              "      <td>0.250000</td>\n",
              "    </tr>\n",
              "    <tr>\n",
              "      <th>149</th>\n",
              "      <td>6 days 22:00:00</td>\n",
              "      <td>700.833322</td>\n",
              "      <td>26.473257</td>\n",
              "      <td>15.209531</td>\n",
              "      <td>2.438949</td>\n",
              "      <td>0.652626</td>\n",
              "      <td>0.668850</td>\n",
              "      <td>0.250000</td>\n",
              "    </tr>\n",
              "  </tbody>\n",
              "</table>\n",
              "<p>150 rows × 8 columns</p>\n",
              "</div>\n",
              "      <button class=\"colab-df-convert\" onclick=\"convertToInteractive('df-4c819842-bffe-47ef-8518-66184f8757ac')\"\n",
              "              title=\"Convert this dataframe to an interactive table.\"\n",
              "              style=\"display:none;\">\n",
              "        \n",
              "  <svg xmlns=\"http://www.w3.org/2000/svg\" height=\"24px\"viewBox=\"0 0 24 24\"\n",
              "       width=\"24px\">\n",
              "    <path d=\"M0 0h24v24H0V0z\" fill=\"none\"/>\n",
              "    <path d=\"M18.56 5.44l.94 2.06.94-2.06 2.06-.94-2.06-.94-.94-2.06-.94 2.06-2.06.94zm-11 1L8.5 8.5l.94-2.06 2.06-.94-2.06-.94L8.5 2.5l-.94 2.06-2.06.94zm10 10l.94 2.06.94-2.06 2.06-.94-2.06-.94-.94-2.06-.94 2.06-2.06.94z\"/><path d=\"M17.41 7.96l-1.37-1.37c-.4-.4-.92-.59-1.43-.59-.52 0-1.04.2-1.43.59L10.3 9.45l-7.72 7.72c-.78.78-.78 2.05 0 2.83L4 21.41c.39.39.9.59 1.41.59.51 0 1.02-.2 1.41-.59l7.78-7.78 2.81-2.81c.8-.78.8-2.07 0-2.86zM5.41 20L4 18.59l7.72-7.72 1.47 1.35L5.41 20z\"/>\n",
              "  </svg>\n",
              "      </button>\n",
              "      \n",
              "  <style>\n",
              "    .colab-df-container {\n",
              "      display:flex;\n",
              "      flex-wrap:wrap;\n",
              "      gap: 12px;\n",
              "    }\n",
              "\n",
              "    .colab-df-convert {\n",
              "      background-color: #E8F0FE;\n",
              "      border: none;\n",
              "      border-radius: 50%;\n",
              "      cursor: pointer;\n",
              "      display: none;\n",
              "      fill: #1967D2;\n",
              "      height: 32px;\n",
              "      padding: 0 0 0 0;\n",
              "      width: 32px;\n",
              "    }\n",
              "\n",
              "    .colab-df-convert:hover {\n",
              "      background-color: #E2EBFA;\n",
              "      box-shadow: 0px 1px 2px rgba(60, 64, 67, 0.3), 0px 1px 3px 1px rgba(60, 64, 67, 0.15);\n",
              "      fill: #174EA6;\n",
              "    }\n",
              "\n",
              "    [theme=dark] .colab-df-convert {\n",
              "      background-color: #3B4455;\n",
              "      fill: #D2E3FC;\n",
              "    }\n",
              "\n",
              "    [theme=dark] .colab-df-convert:hover {\n",
              "      background-color: #434B5C;\n",
              "      box-shadow: 0px 1px 3px 1px rgba(0, 0, 0, 0.15);\n",
              "      filter: drop-shadow(0px 1px 2px rgba(0, 0, 0, 0.3));\n",
              "      fill: #FFFFFF;\n",
              "    }\n",
              "  </style>\n",
              "\n",
              "      <script>\n",
              "        const buttonEl =\n",
              "          document.querySelector('#df-4c819842-bffe-47ef-8518-66184f8757ac button.colab-df-convert');\n",
              "        buttonEl.style.display =\n",
              "          google.colab.kernel.accessAllowed ? 'block' : 'none';\n",
              "\n",
              "        async function convertToInteractive(key) {\n",
              "          const element = document.querySelector('#df-4c819842-bffe-47ef-8518-66184f8757ac');\n",
              "          const dataTable =\n",
              "            await google.colab.kernel.invokeFunction('convertToInteractive',\n",
              "                                                     [key], {});\n",
              "          if (!dataTable) return;\n",
              "\n",
              "          const docLinkHtml = 'Like what you see? Visit the ' +\n",
              "            '<a target=\"_blank\" href=https://colab.research.google.com/notebooks/data_table.ipynb>data table notebook</a>'\n",
              "            + ' to learn more about interactive tables.';\n",
              "          element.innerHTML = '';\n",
              "          dataTable['output_type'] = 'display_data';\n",
              "          await google.colab.output.renderOutput(dataTable, element);\n",
              "          const docLink = document.createElement('div');\n",
              "          docLink.innerHTML = docLinkHtml;\n",
              "          element.appendChild(docLink);\n",
              "        }\n",
              "      </script>\n",
              "    </div>\n",
              "  </div>\n",
              "  "
            ]
          },
          "metadata": {},
          "execution_count": 122
        }
      ]
    },
    {
      "cell_type": "code",
      "source": [
        "# print(\"MAE: \", metrics.mean_absolute_error(teste, previsao)) \n",
        "# print(\"MSE: \",metrics.mean_squared_error(teste, previsao))\n",
        "# print(\"RMSE: \",math.sqrt(metrics.mean_squared_error(teste, previsao)))\n",
        "# print(\"MAPE:\", metrics.mean_absolute_percentage_error(teste, previsao))"
      ],
      "metadata": {
        "colab": {
          "base_uri": "https://localhost:8080/",
          "height": 363
        },
        "id": "8j2Un2QQjHmV",
        "outputId": "6ffdebdb-9214-4e02-8f99-bdde9afcb8c3"
      },
      "execution_count": 108,
      "outputs": [
        {
          "output_type": "error",
          "ename": "ValueError",
          "evalue": "ignored",
          "traceback": [
            "\u001b[0;31m---------------------------------------------------------------------------\u001b[0m",
            "\u001b[0;31mValueError\u001b[0m                                Traceback (most recent call last)",
            "\u001b[0;32m<ipython-input-108-3523ffb6353d>\u001b[0m in \u001b[0;36m<module>\u001b[0;34m\u001b[0m\n\u001b[0;32m----> 1\u001b[0;31m \u001b[0mprint\u001b[0m\u001b[0;34m(\u001b[0m\u001b[0;34m\"MAE: \"\u001b[0m\u001b[0;34m,\u001b[0m \u001b[0mmetrics\u001b[0m\u001b[0;34m.\u001b[0m\u001b[0mmean_absolute_error\u001b[0m\u001b[0;34m(\u001b[0m\u001b[0mteste\u001b[0m\u001b[0;34m,\u001b[0m \u001b[0mprevisao\u001b[0m\u001b[0;34m)\u001b[0m\u001b[0;34m)\u001b[0m\u001b[0;34m\u001b[0m\u001b[0;34m\u001b[0m\u001b[0m\n\u001b[0m\u001b[1;32m      2\u001b[0m \u001b[0mprint\u001b[0m\u001b[0;34m(\u001b[0m\u001b[0;34m\"MSE: \"\u001b[0m\u001b[0;34m,\u001b[0m\u001b[0mmetrics\u001b[0m\u001b[0;34m.\u001b[0m\u001b[0mmean_squared_error\u001b[0m\u001b[0;34m(\u001b[0m\u001b[0mteste\u001b[0m\u001b[0;34m,\u001b[0m \u001b[0mprevisao\u001b[0m\u001b[0;34m)\u001b[0m\u001b[0;34m)\u001b[0m\u001b[0;34m\u001b[0m\u001b[0;34m\u001b[0m\u001b[0m\n\u001b[1;32m      3\u001b[0m \u001b[0mprint\u001b[0m\u001b[0;34m(\u001b[0m\u001b[0;34m\"RMSE: \"\u001b[0m\u001b[0;34m,\u001b[0m\u001b[0mmath\u001b[0m\u001b[0;34m.\u001b[0m\u001b[0msqrt\u001b[0m\u001b[0;34m(\u001b[0m\u001b[0mmetrics\u001b[0m\u001b[0;34m.\u001b[0m\u001b[0mmean_squared_error\u001b[0m\u001b[0;34m(\u001b[0m\u001b[0mteste\u001b[0m\u001b[0;34m,\u001b[0m \u001b[0mprevisao\u001b[0m\u001b[0;34m)\u001b[0m\u001b[0;34m)\u001b[0m\u001b[0;34m)\u001b[0m\u001b[0;34m\u001b[0m\u001b[0;34m\u001b[0m\u001b[0m\n\u001b[1;32m      4\u001b[0m \u001b[0mprint\u001b[0m\u001b[0;34m(\u001b[0m\u001b[0;34m\"MAPE:\"\u001b[0m\u001b[0;34m,\u001b[0m \u001b[0mmetrics\u001b[0m\u001b[0;34m.\u001b[0m\u001b[0mmean_absolute_percentage_error\u001b[0m\u001b[0;34m(\u001b[0m\u001b[0mteste\u001b[0m\u001b[0;34m,\u001b[0m \u001b[0mprevisao\u001b[0m\u001b[0;34m)\u001b[0m\u001b[0;34m)\u001b[0m\u001b[0;34m\u001b[0m\u001b[0;34m\u001b[0m\u001b[0m\n",
            "\u001b[0;32m/usr/local/lib/python3.7/dist-packages/sklearn/metrics/_regression.py\u001b[0m in \u001b[0;36mmean_absolute_error\u001b[0;34m(y_true, y_pred, sample_weight, multioutput)\u001b[0m\n\u001b[1;32m    190\u001b[0m     \"\"\"\n\u001b[1;32m    191\u001b[0m     y_type, y_true, y_pred, multioutput = _check_reg_targets(\n\u001b[0;32m--> 192\u001b[0;31m         \u001b[0my_true\u001b[0m\u001b[0;34m,\u001b[0m \u001b[0my_pred\u001b[0m\u001b[0;34m,\u001b[0m \u001b[0mmultioutput\u001b[0m\u001b[0;34m\u001b[0m\u001b[0;34m\u001b[0m\u001b[0m\n\u001b[0m\u001b[1;32m    193\u001b[0m     )\n\u001b[1;32m    194\u001b[0m     \u001b[0mcheck_consistent_length\u001b[0m\u001b[0;34m(\u001b[0m\u001b[0my_true\u001b[0m\u001b[0;34m,\u001b[0m \u001b[0my_pred\u001b[0m\u001b[0;34m,\u001b[0m \u001b[0msample_weight\u001b[0m\u001b[0;34m)\u001b[0m\u001b[0;34m\u001b[0m\u001b[0;34m\u001b[0m\u001b[0m\n",
            "\u001b[0;32m/usr/local/lib/python3.7/dist-packages/sklearn/metrics/_regression.py\u001b[0m in \u001b[0;36m_check_reg_targets\u001b[0;34m(y_true, y_pred, multioutput, dtype)\u001b[0m\n\u001b[1;32m     92\u001b[0m         \u001b[0mthe\u001b[0m \u001b[0mdtype\u001b[0m \u001b[0margument\u001b[0m \u001b[0mpassed\u001b[0m \u001b[0mto\u001b[0m \u001b[0mcheck_array\u001b[0m\u001b[0;34m.\u001b[0m\u001b[0;34m\u001b[0m\u001b[0;34m\u001b[0m\u001b[0m\n\u001b[1;32m     93\u001b[0m     \"\"\"\n\u001b[0;32m---> 94\u001b[0;31m     \u001b[0mcheck_consistent_length\u001b[0m\u001b[0;34m(\u001b[0m\u001b[0my_true\u001b[0m\u001b[0;34m,\u001b[0m \u001b[0my_pred\u001b[0m\u001b[0;34m)\u001b[0m\u001b[0;34m\u001b[0m\u001b[0;34m\u001b[0m\u001b[0m\n\u001b[0m\u001b[1;32m     95\u001b[0m     \u001b[0my_true\u001b[0m \u001b[0;34m=\u001b[0m \u001b[0mcheck_array\u001b[0m\u001b[0;34m(\u001b[0m\u001b[0my_true\u001b[0m\u001b[0;34m,\u001b[0m \u001b[0mensure_2d\u001b[0m\u001b[0;34m=\u001b[0m\u001b[0;32mFalse\u001b[0m\u001b[0;34m,\u001b[0m \u001b[0mdtype\u001b[0m\u001b[0;34m=\u001b[0m\u001b[0mdtype\u001b[0m\u001b[0;34m)\u001b[0m\u001b[0;34m\u001b[0m\u001b[0;34m\u001b[0m\u001b[0m\n\u001b[1;32m     96\u001b[0m     \u001b[0my_pred\u001b[0m \u001b[0;34m=\u001b[0m \u001b[0mcheck_array\u001b[0m\u001b[0;34m(\u001b[0m\u001b[0my_pred\u001b[0m\u001b[0;34m,\u001b[0m \u001b[0mensure_2d\u001b[0m\u001b[0;34m=\u001b[0m\u001b[0;32mFalse\u001b[0m\u001b[0;34m,\u001b[0m \u001b[0mdtype\u001b[0m\u001b[0;34m=\u001b[0m\u001b[0mdtype\u001b[0m\u001b[0;34m)\u001b[0m\u001b[0;34m\u001b[0m\u001b[0;34m\u001b[0m\u001b[0m\n",
            "\u001b[0;32m/usr/local/lib/python3.7/dist-packages/sklearn/utils/validation.py\u001b[0m in \u001b[0;36mcheck_consistent_length\u001b[0;34m(*arrays)\u001b[0m\n\u001b[1;32m    332\u001b[0m         raise ValueError(\n\u001b[1;32m    333\u001b[0m             \u001b[0;34m\"Found input variables with inconsistent numbers of samples: %r\"\u001b[0m\u001b[0;34m\u001b[0m\u001b[0;34m\u001b[0m\u001b[0m\n\u001b[0;32m--> 334\u001b[0;31m             \u001b[0;34m%\u001b[0m \u001b[0;34m[\u001b[0m\u001b[0mint\u001b[0m\u001b[0;34m(\u001b[0m\u001b[0ml\u001b[0m\u001b[0;34m)\u001b[0m \u001b[0;32mfor\u001b[0m \u001b[0ml\u001b[0m \u001b[0;32min\u001b[0m \u001b[0mlengths\u001b[0m\u001b[0;34m]\u001b[0m\u001b[0;34m\u001b[0m\u001b[0;34m\u001b[0m\u001b[0m\n\u001b[0m\u001b[1;32m    335\u001b[0m         )\n\u001b[1;32m    336\u001b[0m \u001b[0;34m\u001b[0m\u001b[0m\n",
            "\u001b[0;31mValueError\u001b[0m: Found input variables with inconsistent numbers of samples: [87, 346]"
          ]
        }
      ]
    },
    {
      "cell_type": "code",
      "source": [
        "#metricas = previsao"
      ],
      "metadata": {
        "id": "bl2fBb9IeIYc"
      },
      "execution_count": 72,
      "outputs": []
    },
    {
      "cell_type": "code",
      "source": [
        "#metricas = pd.DataFrame({\"datahora\" : metricas[-168:]['ds'], \"Pred\" : metricas[-168:][\"yhat\"]})"
      ],
      "metadata": {
        "id": "znuvfBpieL9r"
      },
      "execution_count": 73,
      "outputs": []
    },
    {
      "cell_type": "code",
      "source": [
        "#metricas = metricas.set_index(\"datahora\")"
      ],
      "metadata": {
        "id": "Ctzs0ZlYeMQu"
      },
      "execution_count": 74,
      "outputs": []
    },
    {
      "cell_type": "code",
      "source": [
        "#metricas.index.freq = \"H\""
      ],
      "metadata": {
        "id": "4LCcL8LeeMUX"
      },
      "execution_count": 75,
      "outputs": []
    },
    {
      "cell_type": "code",
      "source": [
        "#metricas"
      ],
      "metadata": {
        "colab": {
          "base_uri": "https://localhost:8080/",
          "height": 455
        },
        "id": "ERHMIKJFeMXj",
        "outputId": "a1322867-1eec-4c6a-9bf3-169ba5185b72"
      },
      "execution_count": 76,
      "outputs": [
        {
          "output_type": "execute_result",
          "data": {
            "text/plain": [
              "                         Pred\n",
              "datahora                     \n",
              "2022-10-13 00:00:00  7.143587\n",
              "2022-10-13 01:00:00  6.879422\n",
              "2022-10-13 02:00:00  6.687489\n",
              "2022-10-13 03:00:00  6.598609\n",
              "2022-10-13 04:00:00  6.614445\n",
              "...                       ...\n",
              "2022-10-19 19:00:00  9.886489\n",
              "2022-10-19 20:00:00  9.914764\n",
              "2022-10-19 21:00:00  9.879834\n",
              "2022-10-19 22:00:00  9.749077\n",
              "2022-10-19 23:00:00  9.523965\n",
              "\n",
              "[168 rows x 1 columns]"
            ],
            "text/html": [
              "\n",
              "  <div id=\"df-d70a0503-c3c7-4762-b948-ebb72a6c3053\">\n",
              "    <div class=\"colab-df-container\">\n",
              "      <div>\n",
              "<style scoped>\n",
              "    .dataframe tbody tr th:only-of-type {\n",
              "        vertical-align: middle;\n",
              "    }\n",
              "\n",
              "    .dataframe tbody tr th {\n",
              "        vertical-align: top;\n",
              "    }\n",
              "\n",
              "    .dataframe thead th {\n",
              "        text-align: right;\n",
              "    }\n",
              "</style>\n",
              "<table border=\"1\" class=\"dataframe\">\n",
              "  <thead>\n",
              "    <tr style=\"text-align: right;\">\n",
              "      <th></th>\n",
              "      <th>Pred</th>\n",
              "    </tr>\n",
              "    <tr>\n",
              "      <th>datahora</th>\n",
              "      <th></th>\n",
              "    </tr>\n",
              "  </thead>\n",
              "  <tbody>\n",
              "    <tr>\n",
              "      <th>2022-10-13 00:00:00</th>\n",
              "      <td>7.143587</td>\n",
              "    </tr>\n",
              "    <tr>\n",
              "      <th>2022-10-13 01:00:00</th>\n",
              "      <td>6.879422</td>\n",
              "    </tr>\n",
              "    <tr>\n",
              "      <th>2022-10-13 02:00:00</th>\n",
              "      <td>6.687489</td>\n",
              "    </tr>\n",
              "    <tr>\n",
              "      <th>2022-10-13 03:00:00</th>\n",
              "      <td>6.598609</td>\n",
              "    </tr>\n",
              "    <tr>\n",
              "      <th>2022-10-13 04:00:00</th>\n",
              "      <td>6.614445</td>\n",
              "    </tr>\n",
              "    <tr>\n",
              "      <th>...</th>\n",
              "      <td>...</td>\n",
              "    </tr>\n",
              "    <tr>\n",
              "      <th>2022-10-19 19:00:00</th>\n",
              "      <td>9.886489</td>\n",
              "    </tr>\n",
              "    <tr>\n",
              "      <th>2022-10-19 20:00:00</th>\n",
              "      <td>9.914764</td>\n",
              "    </tr>\n",
              "    <tr>\n",
              "      <th>2022-10-19 21:00:00</th>\n",
              "      <td>9.879834</td>\n",
              "    </tr>\n",
              "    <tr>\n",
              "      <th>2022-10-19 22:00:00</th>\n",
              "      <td>9.749077</td>\n",
              "    </tr>\n",
              "    <tr>\n",
              "      <th>2022-10-19 23:00:00</th>\n",
              "      <td>9.523965</td>\n",
              "    </tr>\n",
              "  </tbody>\n",
              "</table>\n",
              "<p>168 rows × 1 columns</p>\n",
              "</div>\n",
              "      <button class=\"colab-df-convert\" onclick=\"convertToInteractive('df-d70a0503-c3c7-4762-b948-ebb72a6c3053')\"\n",
              "              title=\"Convert this dataframe to an interactive table.\"\n",
              "              style=\"display:none;\">\n",
              "        \n",
              "  <svg xmlns=\"http://www.w3.org/2000/svg\" height=\"24px\"viewBox=\"0 0 24 24\"\n",
              "       width=\"24px\">\n",
              "    <path d=\"M0 0h24v24H0V0z\" fill=\"none\"/>\n",
              "    <path d=\"M18.56 5.44l.94 2.06.94-2.06 2.06-.94-2.06-.94-.94-2.06-.94 2.06-2.06.94zm-11 1L8.5 8.5l.94-2.06 2.06-.94-2.06-.94L8.5 2.5l-.94 2.06-2.06.94zm10 10l.94 2.06.94-2.06 2.06-.94-2.06-.94-.94-2.06-.94 2.06-2.06.94z\"/><path d=\"M17.41 7.96l-1.37-1.37c-.4-.4-.92-.59-1.43-.59-.52 0-1.04.2-1.43.59L10.3 9.45l-7.72 7.72c-.78.78-.78 2.05 0 2.83L4 21.41c.39.39.9.59 1.41.59.51 0 1.02-.2 1.41-.59l7.78-7.78 2.81-2.81c.8-.78.8-2.07 0-2.86zM5.41 20L4 18.59l7.72-7.72 1.47 1.35L5.41 20z\"/>\n",
              "  </svg>\n",
              "      </button>\n",
              "      \n",
              "  <style>\n",
              "    .colab-df-container {\n",
              "      display:flex;\n",
              "      flex-wrap:wrap;\n",
              "      gap: 12px;\n",
              "    }\n",
              "\n",
              "    .colab-df-convert {\n",
              "      background-color: #E8F0FE;\n",
              "      border: none;\n",
              "      border-radius: 50%;\n",
              "      cursor: pointer;\n",
              "      display: none;\n",
              "      fill: #1967D2;\n",
              "      height: 32px;\n",
              "      padding: 0 0 0 0;\n",
              "      width: 32px;\n",
              "    }\n",
              "\n",
              "    .colab-df-convert:hover {\n",
              "      background-color: #E2EBFA;\n",
              "      box-shadow: 0px 1px 2px rgba(60, 64, 67, 0.3), 0px 1px 3px 1px rgba(60, 64, 67, 0.15);\n",
              "      fill: #174EA6;\n",
              "    }\n",
              "\n",
              "    [theme=dark] .colab-df-convert {\n",
              "      background-color: #3B4455;\n",
              "      fill: #D2E3FC;\n",
              "    }\n",
              "\n",
              "    [theme=dark] .colab-df-convert:hover {\n",
              "      background-color: #434B5C;\n",
              "      box-shadow: 0px 1px 3px 1px rgba(0, 0, 0, 0.15);\n",
              "      filter: drop-shadow(0px 1px 2px rgba(0, 0, 0, 0.3));\n",
              "      fill: #FFFFFF;\n",
              "    }\n",
              "  </style>\n",
              "\n",
              "      <script>\n",
              "        const buttonEl =\n",
              "          document.querySelector('#df-d70a0503-c3c7-4762-b948-ebb72a6c3053 button.colab-df-convert');\n",
              "        buttonEl.style.display =\n",
              "          google.colab.kernel.accessAllowed ? 'block' : 'none';\n",
              "\n",
              "        async function convertToInteractive(key) {\n",
              "          const element = document.querySelector('#df-d70a0503-c3c7-4762-b948-ebb72a6c3053');\n",
              "          const dataTable =\n",
              "            await google.colab.kernel.invokeFunction('convertToInteractive',\n",
              "                                                     [key], {});\n",
              "          if (!dataTable) return;\n",
              "\n",
              "          const docLinkHtml = 'Like what you see? Visit the ' +\n",
              "            '<a target=\"_blank\" href=https://colab.research.google.com/notebooks/data_table.ipynb>data table notebook</a>'\n",
              "            + ' to learn more about interactive tables.';\n",
              "          element.innerHTML = '';\n",
              "          dataTable['output_type'] = 'display_data';\n",
              "          await google.colab.output.renderOutput(dataTable, element);\n",
              "          const docLink = document.createElement('div');\n",
              "          docLink.innerHTML = docLinkHtml;\n",
              "          element.appendChild(docLink);\n",
              "        }\n",
              "      </script>\n",
              "    </div>\n",
              "  </div>\n",
              "  "
            ]
          },
          "metadata": {},
          "execution_count": 76
        }
      ]
    },
    {
      "cell_type": "code",
      "source": [
        "#test_data[\"Prophet_Predictions\"] = metricas['Pred'].values"
      ],
      "metadata": {
        "colab": {
          "base_uri": "https://localhost:8080/",
          "height": 165
        },
        "id": "Paj0n25-fYeV",
        "outputId": "7387cc0c-5952-404e-da66-037d54ee0172"
      },
      "execution_count": 77,
      "outputs": [
        {
          "output_type": "error",
          "ename": "NameError",
          "evalue": "ignored",
          "traceback": [
            "\u001b[0;31m---------------------------------------------------------------------------\u001b[0m",
            "\u001b[0;31mNameError\u001b[0m                                 Traceback (most recent call last)",
            "\u001b[0;32m<ipython-input-77-3fda3559c485>\u001b[0m in \u001b[0;36m<module>\u001b[0;34m\u001b[0m\n\u001b[0;32m----> 1\u001b[0;31m \u001b[0mtest_data\u001b[0m\u001b[0;34m[\u001b[0m\u001b[0;34m\"Prophet_Predictions\"\u001b[0m\u001b[0;34m]\u001b[0m \u001b[0;34m=\u001b[0m \u001b[0mmetricas\u001b[0m\u001b[0;34m[\u001b[0m\u001b[0;34m'Pred'\u001b[0m\u001b[0;34m]\u001b[0m\u001b[0;34m.\u001b[0m\u001b[0mvalues\u001b[0m\u001b[0;34m\u001b[0m\u001b[0;34m\u001b[0m\u001b[0m\n\u001b[0m",
            "\u001b[0;31mNameError\u001b[0m: name 'test_data' is not defined"
          ]
        }
      ]
    },
    {
      "cell_type": "code",
      "source": [
        "#metricas['Pred'].values"
      ],
      "metadata": {
        "id": "A58G7hm5gCEj"
      },
      "execution_count": null,
      "outputs": []
    },
    {
      "cell_type": "code",
      "source": [],
      "metadata": {
        "colab": {
          "base_uri": "https://localhost:8080/",
          "height": 380
        },
        "id": "Br0yOWYIgKDS",
        "outputId": "189e3b1d-20dc-4c4e-fc29-46ae8c156cc1"
      },
      "execution_count": 90,
      "outputs": [
        {
          "output_type": "error",
          "ename": "ValueError",
          "evalue": "ignored",
          "traceback": [
            "\u001b[0;31m---------------------------------------------------------------------------\u001b[0m",
            "\u001b[0;31mValueError\u001b[0m                                Traceback (most recent call last)",
            "\u001b[0;32m<ipython-input-90-87e2fa36e22f>\u001b[0m in \u001b[0;36m<module>\u001b[0;34m\u001b[0m\n\u001b[0;32m----> 1\u001b[0;31m \u001b[0mprophet_error\u001b[0m \u001b[0;34m=\u001b[0m \u001b[0mmetrics\u001b[0m\u001b[0;34m.\u001b[0m\u001b[0mmean_squared_error\u001b[0m\u001b[0;34m(\u001b[0m\u001b[0mteste\u001b[0m\u001b[0;34m[\u001b[0m\u001b[0;34m'y'\u001b[0m\u001b[0;34m]\u001b[0m\u001b[0;34m,\u001b[0m \u001b[0mprevisao\u001b[0m\u001b[0;34m[\u001b[0m\u001b[0;34m'yhat'\u001b[0m\u001b[0;34m]\u001b[0m\u001b[0;34m)\u001b[0m\u001b[0;34m\u001b[0m\u001b[0;34m\u001b[0m\u001b[0m\n\u001b[0m\u001b[1;32m      2\u001b[0m \u001b[0mprophet_mse_error\u001b[0m \u001b[0;34m=\u001b[0m \u001b[0mprophet_rmse_error\u001b[0m\u001b[0;34m**\u001b[0m\u001b[0;36m2\u001b[0m\u001b[0;34m\u001b[0m\u001b[0;34m\u001b[0m\u001b[0m\n\u001b[1;32m      3\u001b[0m \u001b[0mmean_value\u001b[0m \u001b[0;34m=\u001b[0m \u001b[0mdf\u001b[0m\u001b[0;34m[\u001b[0m\u001b[0;34m'Monthly beer production'\u001b[0m\u001b[0;34m]\u001b[0m\u001b[0;34m.\u001b[0m\u001b[0mmean\u001b[0m\u001b[0;34m(\u001b[0m\u001b[0;34m)\u001b[0m\u001b[0;34m\u001b[0m\u001b[0;34m\u001b[0m\u001b[0m\n\u001b[1;32m      4\u001b[0m \u001b[0;34m\u001b[0m\u001b[0m\n\u001b[1;32m      5\u001b[0m \u001b[0mprint\u001b[0m\u001b[0;34m(\u001b[0m\u001b[0;34mf'MSE Error: {prophet_mse_error}\\nRMSE Error: {prophet_rmse_error}\\nMean: {mean_value}'\u001b[0m\u001b[0;34m)\u001b[0m\u001b[0;34m\u001b[0m\u001b[0;34m\u001b[0m\u001b[0m\n",
            "\u001b[0;32m/usr/local/lib/python3.7/dist-packages/sklearn/metrics/_regression.py\u001b[0m in \u001b[0;36mmean_squared_error\u001b[0;34m(y_true, y_pred, sample_weight, multioutput, squared)\u001b[0m\n\u001b[1;32m    437\u001b[0m     \"\"\"\n\u001b[1;32m    438\u001b[0m     y_type, y_true, y_pred, multioutput = _check_reg_targets(\n\u001b[0;32m--> 439\u001b[0;31m         \u001b[0my_true\u001b[0m\u001b[0;34m,\u001b[0m \u001b[0my_pred\u001b[0m\u001b[0;34m,\u001b[0m \u001b[0mmultioutput\u001b[0m\u001b[0;34m\u001b[0m\u001b[0;34m\u001b[0m\u001b[0m\n\u001b[0m\u001b[1;32m    440\u001b[0m     )\n\u001b[1;32m    441\u001b[0m     \u001b[0mcheck_consistent_length\u001b[0m\u001b[0;34m(\u001b[0m\u001b[0my_true\u001b[0m\u001b[0;34m,\u001b[0m \u001b[0my_pred\u001b[0m\u001b[0;34m,\u001b[0m \u001b[0msample_weight\u001b[0m\u001b[0;34m)\u001b[0m\u001b[0;34m\u001b[0m\u001b[0;34m\u001b[0m\u001b[0m\n",
            "\u001b[0;32m/usr/local/lib/python3.7/dist-packages/sklearn/metrics/_regression.py\u001b[0m in \u001b[0;36m_check_reg_targets\u001b[0;34m(y_true, y_pred, multioutput, dtype)\u001b[0m\n\u001b[1;32m     92\u001b[0m         \u001b[0mthe\u001b[0m \u001b[0mdtype\u001b[0m \u001b[0margument\u001b[0m \u001b[0mpassed\u001b[0m \u001b[0mto\u001b[0m \u001b[0mcheck_array\u001b[0m\u001b[0;34m.\u001b[0m\u001b[0;34m\u001b[0m\u001b[0;34m\u001b[0m\u001b[0m\n\u001b[1;32m     93\u001b[0m     \"\"\"\n\u001b[0;32m---> 94\u001b[0;31m     \u001b[0mcheck_consistent_length\u001b[0m\u001b[0;34m(\u001b[0m\u001b[0my_true\u001b[0m\u001b[0;34m,\u001b[0m \u001b[0my_pred\u001b[0m\u001b[0;34m)\u001b[0m\u001b[0;34m\u001b[0m\u001b[0;34m\u001b[0m\u001b[0m\n\u001b[0m\u001b[1;32m     95\u001b[0m     \u001b[0my_true\u001b[0m \u001b[0;34m=\u001b[0m \u001b[0mcheck_array\u001b[0m\u001b[0;34m(\u001b[0m\u001b[0my_true\u001b[0m\u001b[0;34m,\u001b[0m \u001b[0mensure_2d\u001b[0m\u001b[0;34m=\u001b[0m\u001b[0;32mFalse\u001b[0m\u001b[0;34m,\u001b[0m \u001b[0mdtype\u001b[0m\u001b[0;34m=\u001b[0m\u001b[0mdtype\u001b[0m\u001b[0;34m)\u001b[0m\u001b[0;34m\u001b[0m\u001b[0;34m\u001b[0m\u001b[0m\n\u001b[1;32m     96\u001b[0m     \u001b[0my_pred\u001b[0m \u001b[0;34m=\u001b[0m \u001b[0mcheck_array\u001b[0m\u001b[0;34m(\u001b[0m\u001b[0my_pred\u001b[0m\u001b[0;34m,\u001b[0m \u001b[0mensure_2d\u001b[0m\u001b[0;34m=\u001b[0m\u001b[0;32mFalse\u001b[0m\u001b[0;34m,\u001b[0m \u001b[0mdtype\u001b[0m\u001b[0;34m=\u001b[0m\u001b[0mdtype\u001b[0m\u001b[0;34m)\u001b[0m\u001b[0;34m\u001b[0m\u001b[0;34m\u001b[0m\u001b[0m\n",
            "\u001b[0;32m/usr/local/lib/python3.7/dist-packages/sklearn/utils/validation.py\u001b[0m in \u001b[0;36mcheck_consistent_length\u001b[0;34m(*arrays)\u001b[0m\n\u001b[1;32m    332\u001b[0m         raise ValueError(\n\u001b[1;32m    333\u001b[0m             \u001b[0;34m\"Found input variables with inconsistent numbers of samples: %r\"\u001b[0m\u001b[0;34m\u001b[0m\u001b[0;34m\u001b[0m\u001b[0m\n\u001b[0;32m--> 334\u001b[0;31m             \u001b[0;34m%\u001b[0m \u001b[0;34m[\u001b[0m\u001b[0mint\u001b[0m\u001b[0;34m(\u001b[0m\u001b[0ml\u001b[0m\u001b[0;34m)\u001b[0m \u001b[0;32mfor\u001b[0m \u001b[0ml\u001b[0m \u001b[0;32min\u001b[0m \u001b[0mlengths\u001b[0m\u001b[0;34m]\u001b[0m\u001b[0;34m\u001b[0m\u001b[0;34m\u001b[0m\u001b[0m\n\u001b[0m\u001b[1;32m    335\u001b[0m         )\n\u001b[1;32m    336\u001b[0m \u001b[0;34m\u001b[0m\u001b[0m\n",
            "\u001b[0;31mValueError\u001b[0m: Found input variables with inconsistent numbers of samples: [87, 346]"
          ]
        }
      ]
    },
    {
      "cell_type": "code",
      "source": [],
      "metadata": {
        "id": "0FLfI_E3D7hi",
        "colab": {
          "base_uri": "https://localhost:8080/",
          "height": 363
        },
        "outputId": "2d6c89e4-5004-49a1-a0fe-6494777d1f13"
      },
      "execution_count": 101,
      "outputs": [
        {
          "output_type": "error",
          "ename": "ValueError",
          "evalue": "ignored",
          "traceback": [
            "\u001b[0;31m---------------------------------------------------------------------------\u001b[0m",
            "\u001b[0;31mValueError\u001b[0m                                Traceback (most recent call last)",
            "\u001b[0;32m<ipython-input-101-153c26de4786>\u001b[0m in \u001b[0;36m<module>\u001b[0;34m\u001b[0m\n\u001b[0;32m----> 1\u001b[0;31m \u001b[0mprint\u001b[0m \u001b[0;34m(\u001b[0m\u001b[0;34m\"MAE: \"\u001b[0m\u001b[0;34m,\u001b[0m \u001b[0mmetrics\u001b[0m\u001b[0;34m.\u001b[0m\u001b[0mmean_absolute_error\u001b[0m\u001b[0;34m(\u001b[0m\u001b[0mteste\u001b[0m\u001b[0;34m,\u001b[0m \u001b[0mprevisao\u001b[0m\u001b[0;34m)\u001b[0m\u001b[0;34m)\u001b[0m\u001b[0;34m\u001b[0m\u001b[0;34m\u001b[0m\u001b[0m\n\u001b[0m\u001b[1;32m      2\u001b[0m \u001b[0mprint\u001b[0m \u001b[0;34m(\u001b[0m\u001b[0;34m\"MSE: \"\u001b[0m\u001b[0;34m,\u001b[0m\u001b[0mmetrics\u001b[0m\u001b[0;34m.\u001b[0m\u001b[0mmean_squared_error\u001b[0m\u001b[0;34m(\u001b[0m\u001b[0mteste\u001b[0m\u001b[0;34m,\u001b[0m \u001b[0mprevisao\u001b[0m\u001b[0;34m)\u001b[0m\u001b[0;34m)\u001b[0m\u001b[0;34m\u001b[0m\u001b[0;34m\u001b[0m\u001b[0m\n\u001b[1;32m      3\u001b[0m \u001b[0mprint\u001b[0m \u001b[0;34m(\u001b[0m\u001b[0;34m\"RMSE: \"\u001b[0m\u001b[0;34m,\u001b[0m\u001b[0mmath\u001b[0m\u001b[0;34m.\u001b[0m\u001b[0msqrt\u001b[0m\u001b[0;34m(\u001b[0m\u001b[0mmetrics\u001b[0m\u001b[0;34m.\u001b[0m\u001b[0mmean_squared_error\u001b[0m\u001b[0;34m(\u001b[0m\u001b[0mteste\u001b[0m\u001b[0;34m,\u001b[0m \u001b[0mprevisao\u001b[0m\u001b[0;34m)\u001b[0m\u001b[0;34m)\u001b[0m\u001b[0;34m)\u001b[0m\u001b[0;34m\u001b[0m\u001b[0;34m\u001b[0m\u001b[0m\n\u001b[1;32m      4\u001b[0m \u001b[0mprint\u001b[0m\u001b[0;34m(\u001b[0m\u001b[0;34m\"MAPE:\"\u001b[0m\u001b[0;34m,\u001b[0m \u001b[0mmetrics\u001b[0m\u001b[0;34m.\u001b[0m\u001b[0mmean_absolute_percentage_error\u001b[0m\u001b[0;34m(\u001b[0m\u001b[0mteste\u001b[0m\u001b[0;34m,\u001b[0m \u001b[0mprevisao\u001b[0m\u001b[0;34m)\u001b[0m\u001b[0;34m)\u001b[0m\u001b[0;34m\u001b[0m\u001b[0;34m\u001b[0m\u001b[0m\n",
            "\u001b[0;32m/usr/local/lib/python3.7/dist-packages/sklearn/metrics/_regression.py\u001b[0m in \u001b[0;36mmean_absolute_error\u001b[0;34m(y_true, y_pred, sample_weight, multioutput)\u001b[0m\n\u001b[1;32m    190\u001b[0m     \"\"\"\n\u001b[1;32m    191\u001b[0m     y_type, y_true, y_pred, multioutput = _check_reg_targets(\n\u001b[0;32m--> 192\u001b[0;31m         \u001b[0my_true\u001b[0m\u001b[0;34m,\u001b[0m \u001b[0my_pred\u001b[0m\u001b[0;34m,\u001b[0m \u001b[0mmultioutput\u001b[0m\u001b[0;34m\u001b[0m\u001b[0;34m\u001b[0m\u001b[0m\n\u001b[0m\u001b[1;32m    193\u001b[0m     )\n\u001b[1;32m    194\u001b[0m     \u001b[0mcheck_consistent_length\u001b[0m\u001b[0;34m(\u001b[0m\u001b[0my_true\u001b[0m\u001b[0;34m,\u001b[0m \u001b[0my_pred\u001b[0m\u001b[0;34m,\u001b[0m \u001b[0msample_weight\u001b[0m\u001b[0;34m)\u001b[0m\u001b[0;34m\u001b[0m\u001b[0;34m\u001b[0m\u001b[0m\n",
            "\u001b[0;32m/usr/local/lib/python3.7/dist-packages/sklearn/metrics/_regression.py\u001b[0m in \u001b[0;36m_check_reg_targets\u001b[0;34m(y_true, y_pred, multioutput, dtype)\u001b[0m\n\u001b[1;32m     92\u001b[0m         \u001b[0mthe\u001b[0m \u001b[0mdtype\u001b[0m \u001b[0margument\u001b[0m \u001b[0mpassed\u001b[0m \u001b[0mto\u001b[0m \u001b[0mcheck_array\u001b[0m\u001b[0;34m.\u001b[0m\u001b[0;34m\u001b[0m\u001b[0;34m\u001b[0m\u001b[0m\n\u001b[1;32m     93\u001b[0m     \"\"\"\n\u001b[0;32m---> 94\u001b[0;31m     \u001b[0mcheck_consistent_length\u001b[0m\u001b[0;34m(\u001b[0m\u001b[0my_true\u001b[0m\u001b[0;34m,\u001b[0m \u001b[0my_pred\u001b[0m\u001b[0;34m)\u001b[0m\u001b[0;34m\u001b[0m\u001b[0;34m\u001b[0m\u001b[0m\n\u001b[0m\u001b[1;32m     95\u001b[0m     \u001b[0my_true\u001b[0m \u001b[0;34m=\u001b[0m \u001b[0mcheck_array\u001b[0m\u001b[0;34m(\u001b[0m\u001b[0my_true\u001b[0m\u001b[0;34m,\u001b[0m \u001b[0mensure_2d\u001b[0m\u001b[0;34m=\u001b[0m\u001b[0;32mFalse\u001b[0m\u001b[0;34m,\u001b[0m \u001b[0mdtype\u001b[0m\u001b[0;34m=\u001b[0m\u001b[0mdtype\u001b[0m\u001b[0;34m)\u001b[0m\u001b[0;34m\u001b[0m\u001b[0;34m\u001b[0m\u001b[0m\n\u001b[1;32m     96\u001b[0m     \u001b[0my_pred\u001b[0m \u001b[0;34m=\u001b[0m \u001b[0mcheck_array\u001b[0m\u001b[0;34m(\u001b[0m\u001b[0my_pred\u001b[0m\u001b[0;34m,\u001b[0m \u001b[0mensure_2d\u001b[0m\u001b[0;34m=\u001b[0m\u001b[0;32mFalse\u001b[0m\u001b[0;34m,\u001b[0m \u001b[0mdtype\u001b[0m\u001b[0;34m=\u001b[0m\u001b[0mdtype\u001b[0m\u001b[0;34m)\u001b[0m\u001b[0;34m\u001b[0m\u001b[0;34m\u001b[0m\u001b[0m\n",
            "\u001b[0;32m/usr/local/lib/python3.7/dist-packages/sklearn/utils/validation.py\u001b[0m in \u001b[0;36mcheck_consistent_length\u001b[0;34m(*arrays)\u001b[0m\n\u001b[1;32m    332\u001b[0m         raise ValueError(\n\u001b[1;32m    333\u001b[0m             \u001b[0;34m\"Found input variables with inconsistent numbers of samples: %r\"\u001b[0m\u001b[0;34m\u001b[0m\u001b[0;34m\u001b[0m\u001b[0m\n\u001b[0;32m--> 334\u001b[0;31m             \u001b[0;34m%\u001b[0m \u001b[0;34m[\u001b[0m\u001b[0mint\u001b[0m\u001b[0;34m(\u001b[0m\u001b[0ml\u001b[0m\u001b[0;34m)\u001b[0m \u001b[0;32mfor\u001b[0m \u001b[0ml\u001b[0m \u001b[0;32min\u001b[0m \u001b[0mlengths\u001b[0m\u001b[0;34m]\u001b[0m\u001b[0;34m\u001b[0m\u001b[0;34m\u001b[0m\u001b[0m\n\u001b[0m\u001b[1;32m    335\u001b[0m         )\n\u001b[1;32m    336\u001b[0m \u001b[0;34m\u001b[0m\u001b[0m\n",
            "\u001b[0;31mValueError\u001b[0m: Found input variables with inconsistent numbers of samples: [87, 346]"
          ]
        }
      ]
    },
    {
      "cell_type": "code",
      "source": [],
      "metadata": {
        "id": "3Z8eBKCoD7lY"
      },
      "execution_count": null,
      "outputs": []
    },
    {
      "cell_type": "code",
      "source": [],
      "metadata": {
        "id": "WAkbcd3xD5-q"
      },
      "execution_count": null,
      "outputs": []
    },
    {
      "cell_type": "code",
      "source": [
        "\n",
        "plot_components_plotly(m, previsao)"
      ],
      "metadata": {
        "id": "fXhGcAQ4D6Ci"
      },
      "execution_count": null,
      "outputs": []
    },
    {
      "cell_type": "code",
      "source": [
        "m.plot_components(previsao)"
      ],
      "metadata": {
        "id": "6JWMutn45MvE",
        "colab": {
          "base_uri": "https://localhost:8080/",
          "height": 857
        },
        "outputId": "f6f4c10a-0d30-458f-b850-6112725140f7"
      },
      "execution_count": 95,
      "outputs": [
        {
          "output_type": "execute_result",
          "data": {
            "text/plain": [
              "<Figure size 648x432 with 2 Axes>"
            ],
            "image/png": "[encoded data removed]"
          },
          "metadata": {},
          "execution_count": 95
        },
        {
          "output_type": "display_data",
          "data": {
            "text/plain": [
              "<Figure size 648x432 with 2 Axes>"
            ],
            "image/png": "[encoded data removed]"
          },
          "metadata": {}
        }
      ]
    },
    {
      "cell_type": "code",
      "source": [
        "from prophet.plot import plot_plotly, plot_components_plotly\n",
        "\n",
        "plot_plotly(m, previsao)"
      ],
      "metadata": {
        "id": "Se2BdZPK0lvc",
        "colab": {
          "base_uri": "https://localhost:8080/",
          "height": 617
        },
        "outputId": "b10c42e6-9226-423b-ea62-cf830113d22d"
      },
      "execution_count": 98,
      "outputs": [
        {
          "output_type": "display_data",
          "data": {
            "text/html": [
              "<html>\n",
              "<head><meta charset=\"utf-8\" /></head>\n",
              "<body>\n",
              "    <div>            <script src=\"https://cdnjs.cloudflare.com/ajax/libs/mathjax/2.7.5/MathJax.js?config=TeX-AMS-MML_SVG\"></script><script type=\"text/javascript\">if (window.MathJax) {MathJax.Hub.Config({SVG: {font: \"STIX-Web\"}});}</script>                <script type=\"text/javascript\">window.PlotlyConfig = {MathJaxConfig: 'local'};</script>\n",
              "        <script src=\"https://cdn.plot.ly/plotly-2.8.3.min.js\"></script>                <div id=\"e6115ca0-aa24-4c3b-b6d3-cb395266ee5e\" class=\"plotly-graph-div\" style=\"height:600px; width:900px;\"></div>            <script type=\"text/javascript\">                                    window.PLOTLYENV=window.PLOTLYENV || {};                                    if (document.getElementById(\"e6115ca0-aa24-4c3b-b6d3-cb395266ee5e\")) {                    Plotly.newPlot(                        \"e6115ca0-aa24-4c3b-b6d3-cb395266ee5e\",                        [{\"marker\":{\"color\":\"black\",\"size\":4},\"mode\":\"markers\",\"name\":\"Actual\",\"x\":[\"2022-10-02T14:00:00\",\"2022-10-02T15:00:00\",\"2022-10-02T16:00:00\",\"2022-10-02T17:00:00\",\"2022-10-02T18:00:00\",\"2022-10-02T19:00:00\",\"2022-10-02T20:00:00\",\"2022-10-02T21:00:00\",\"2022-10-02T22:00:00\",\"2022-10-02T23:00:00\",\"2022-10-03T00:00:00\",\"2022-10-03T01:00:00\",\"2022-10-03T02:00:00\",\"2022-10-03T03:00:00\",\"2022-10-03T04:00:00\",\"2022-10-03T05:00:00\",\"2022-10-03T06:00:00\",\"2022-10-03T07:00:00\",\"2022-10-03T08:00:00\",\"2022-10-03T09:00:00\",\"2022-10-03T10:00:00\",\"2022-10-03T11:00:00\",\"2022-10-03T12:00:00\",\"2022-10-03T13:00:00\",\"2022-10-03T14:00:00\",\"2022-10-03T15:00:00\",\"2022-10-03T16:00:00\",\"2022-10-03T17:00:00\",\"2022-10-03T18:00:00\",\"2022-10-03T19:00:00\",\"2022-10-03T20:00:00\",\"2022-10-03T21:00:00\",\"2022-10-03T22:00:00\",\"2022-10-03T23:00:00\",\"2022-10-04T00:00:00\",\"2022-10-04T01:00:00\",\"2022-10-04T02:00:00\",\"2022-10-04T03:00:00\",\"2022-10-04T04:00:00\",\"2022-10-04T05:00:00\",\"2022-10-04T06:00:00\",\"2022-10-04T07:00:00\",\"2022-10-04T08:00:00\",\"2022-10-04T09:00:00\",\"2022-10-04T10:00:00\",\"2022-10-04T11:00:00\",\"2022-10-04T12:00:00\",\"2022-10-04T13:00:00\",\"2022-10-04T14:00:00\",\"2022-10-04T15:00:00\",\"2022-10-04T16:00:00\",\"2022-10-04T17:00:00\",\"2022-10-04T18:00:00\",\"2022-10-04T19:00:00\",\"2022-10-04T20:00:00\",\"2022-10-04T21:00:00\",\"2022-10-04T22:00:00\",\"2022-10-04T23:00:00\",\"2022-10-05T00:00:00\",\"2022-10-05T01:00:00\",\"2022-10-05T02:00:00\",\"2022-10-05T03:00:00\",\"2022-10-05T04:00:00\",\"2022-10-05T05:00:00\",\"2022-10-05T06:00:00\",\"2022-10-05T07:00:00\",\"2022-10-05T08:00:00\",\"2022-10-05T09:00:00\",\"2022-10-05T10:00:00\",\"2022-10-05T11:00:00\",\"2022-10-05T12:00:00\",\"2022-10-05T13:00:00\",\"2022-10-05T14:00:00\",\"2022-10-05T15:00:00\",\"2022-10-05T16:00:00\",\"2022-10-05T17:00:00\",\"2022-10-05T18:00:00\",\"2022-10-05T19:00:00\",\"2022-10-05T20:00:00\",\"2022-10-05T21:00:00\",\"2022-10-05T22:00:00\",\"2022-10-05T23:00:00\",\"2022-10-06T00:00:00\",\"2022-10-06T01:00:00\",\"2022-10-06T02:00:00\",\"2022-10-06T03:00:00\",\"2022-10-06T04:00:00\",\"2022-10-06T05:00:00\",\"2022-10-06T06:00:00\",\"2022-10-06T07:00:00\",\"2022-10-06T08:00:00\",\"2022-10-06T09:00:00\",\"2022-10-06T10:00:00\",\"2022-10-06T11:00:00\",\"2022-10-06T12:00:00\",\"2022-10-06T13:00:00\",\"2022-10-06T14:00:00\",\"2022-10-06T15:00:00\",\"2022-10-06T16:00:00\",\"2022-10-06T17:00:00\",\"2022-10-06T18:00:00\",\"2022-10-06T19:00:00\",\"2022-10-06T20:00:00\",\"2022-10-06T21:00:00\",\"2022-10-06T22:00:00\",\"2022-10-06T23:00:00\",\"2022-10-07T00:00:00\",\"2022-10-07T01:00:00\",\"2022-10-07T02:00:00\",\"2022-10-07T03:00:00\",\"2022-10-07T04:00:00\",\"2022-10-07T05:00:00\",\"2022-10-07T06:00:00\",\"2022-10-07T07:00:00\",\"2022-10-07T08:00:00\",\"2022-10-07T09:00:00\",\"2022-10-07T10:00:00\",\"2022-10-07T11:00:00\",\"2022-10-07T12:00:00\",\"2022-10-07T13:00:00\",\"2022-10-07T14:00:00\",\"2022-10-07T15:00:00\",\"2022-10-07T16:00:00\",\"2022-10-07T17:00:00\",\"2022-10-07T18:00:00\",\"2022-10-07T19:00:00\",\"2022-10-07T20:00:00\",\"2022-10-07T21:00:00\",\"2022-10-07T22:00:00\",\"2022-10-07T23:00:00\",\"2022-10-08T00:00:00\",\"2022-10-08T01:00:00\",\"2022-10-08T02:00:00\",\"2022-10-08T03:00:00\",\"2022-10-08T04:00:00\",\"2022-10-08T05:00:00\",\"2022-10-08T06:00:00\",\"2022-10-08T07:00:00\",\"2022-10-08T08:00:00\",\"2022-10-08T09:00:00\",\"2022-10-08T10:00:00\",\"2022-10-08T11:00:00\",\"2022-10-08T12:00:00\",\"2022-10-08T13:00:00\",\"2022-10-08T14:00:00\",\"2022-10-08T15:00:00\",\"2022-10-08T16:00:00\",\"2022-10-08T17:00:00\",\"2022-10-08T18:00:00\",\"2022-10-08T19:00:00\",\"2022-10-08T20:00:00\",\"2022-10-08T21:00:00\",\"2022-10-08T22:00:00\",\"2022-10-08T23:00:00\",\"2022-10-09T00:00:00\",\"2022-10-09T01:00:00\",\"2022-10-09T02:00:00\",\"2022-10-09T03:00:00\",\"2022-10-09T04:00:00\",\"2022-10-09T05:00:00\",\"2022-10-09T06:00:00\",\"2022-10-09T07:00:00\",\"2022-10-09T08:00:00\",\"2022-10-09T09:00:00\",\"2022-10-09T10:00:00\",\"2022-10-09T11:00:00\",\"2022-10-09T12:00:00\",\"2022-10-09T13:00:00\",\"2022-10-09T14:00:00\",\"2022-10-09T15:00:00\",\"2022-10-09T16:00:00\",\"2022-10-09T17:00:00\",\"2022-10-09T18:00:00\",\"2022-10-09T19:00:00\",\"2022-10-09T20:00:00\",\"2022-10-09T21:00:00\",\"2022-10-09T22:00:00\",\"2022-10-09T23:00:00\",\"2022-10-10T00:00:00\",\"2022-10-10T01:00:00\",\"2022-10-10T02:00:00\",\"2022-10-10T03:00:00\",\"2022-10-10T04:00:00\",\"2022-10-10T05:00:00\",\"2022-10-10T06:00:00\",\"2022-10-10T07:00:00\",\"2022-10-10T08:00:00\",\"2022-10-10T09:00:00\",\"2022-10-10T10:00:00\",\"2022-10-10T11:00:00\",\"2022-10-10T12:00:00\",\"2022-10-10T13:00:00\",\"2022-10-10T14:00:00\",\"2022-10-10T15:00:00\",\"2022-10-10T16:00:00\",\"2022-10-10T17:00:00\",\"2022-10-10T18:00:00\",\"2022-10-10T19:00:00\",\"2022-10-10T20:00:00\",\"2022-10-10T21:00:00\",\"2022-10-10T22:00:00\",\"2022-10-10T23:00:00\",\"2022-10-11T00:00:00\",\"2022-10-11T01:00:00\",\"2022-10-11T02:00:00\",\"2022-10-11T03:00:00\",\"2022-10-11T04:00:00\",\"2022-10-11T05:00:00\",\"2022-10-11T06:00:00\",\"2022-10-11T07:00:00\",\"2022-10-11T08:00:00\",\"2022-10-11T09:00:00\",\"2022-10-11T10:00:00\",\"2022-10-11T11:00:00\",\"2022-10-11T12:00:00\",\"2022-10-11T13:00:00\",\"2022-10-11T14:00:00\",\"2022-10-11T15:00:00\",\"2022-10-11T16:00:00\",\"2022-10-11T17:00:00\",\"2022-10-11T18:00:00\",\"2022-10-11T19:00:00\",\"2022-10-11T20:00:00\",\"2022-10-11T21:00:00\",\"2022-10-11T22:00:00\",\"2022-10-11T23:00:00\",\"2022-10-12T00:00:00\",\"2022-10-12T01:00:00\",\"2022-10-12T02:00:00\",\"2022-10-12T03:00:00\",\"2022-10-12T04:00:00\",\"2022-10-12T05:00:00\",\"2022-10-12T06:00:00\",\"2022-10-12T07:00:00\",\"2022-10-12T08:00:00\",\"2022-10-12T09:00:00\",\"2022-10-12T10:00:00\",\"2022-10-12T11:00:00\",\"2022-10-12T12:00:00\",\"2022-10-12T13:00:00\",\"2022-10-12T14:00:00\",\"2022-10-12T15:00:00\",\"2022-10-12T16:00:00\",\"2022-10-12T17:00:00\",\"2022-10-12T18:00:00\",\"2022-10-12T19:00:00\",\"2022-10-12T20:00:00\",\"2022-10-12T21:00:00\",\"2022-10-12T22:00:00\",\"2022-10-12T23:00:00\"],\"y\":[6.37,6.07,6.31,6.18,6.28,6.16,6.3,6.21,6.14,5.94,6.06,5.66,5.47,5.28,5.23,5.23,5.27,5.54,5.88,6.85,6.91,7.04,7.05,6.93,7.18,6.91,7.18,7.38,6.86,7.15,6.94,7.4,6.98,6.63,6.11,5.84,5.55,5.82,5.66,5.69,6.14,6.39,6.95,6.94,7.1,7.09,7.03,7.3,7.07,7.4,7.5,7.37,7.12,7.0,6.84,6.86,6.88,6.95,6.48,6.5,6.49,6.18,6.06,10.1,7.35,7.83,7.78,8.36,7.92,8.18,7.64,7.4,7.58,8.09,7.99,7.81,7.55,7.01,7.68,7.57,7.89,7.08,6.66,6.15,5.75,5.69,5.72,5.66,6.01,6.51,7.3,7.98,7.86,7.64,7.58,8.03,7.59,7.41,7.52,7.55,7.57,7.42,7.26,7.0,7.42,7.21,6.85,6.17,6.39,6.2,6.12,5.97,5.95,6.65,6.77,7.17,7.08,7.37,7.7,7.85,7.38,7.33,7.27,7.12,7.17,7.28,6.92,6.57,7.47,7.05,6.75,6.24,6.08,5.97,5.93,6.05,5.84,6.26,6.37,6.67,6.78,6.83,6.84,6.89,6.86,6.74,6.73,6.61,6.71,6.61,6.51,6.47,6.75,6.49,6.28,5.88,5.66,5.71,5.47,5.46,5.44,5.6,5.8,6.03,6.32,6.48,6.53,6.42,6.46,6.3,6.23,6.27,6.29,6.36,6.34,6.34,6.32,6.24,5.86,5.64,5.49,5.35,5.31,5.33,5.37,6.04,6.25,6.6,6.78,6.86,6.97,7.01,6.96,6.92,6.88,6.88,6.86,12.4,8.02,7.64,7.4,7.22,6.83,6.28,6.67,6.32,6.23,6.33,6.51,6.74,7.06,7.25,7.63,7.94,7.75,9.42,8.28,7.99,8.04,7.84,7.83,8.06,8.45,8.42,8.08,7.54,7.19,6.8,6.69,6.46,6.59,6.8,6.23,6.49,6.82,7.05,7.25,7.33,7.4,7.34,7.66,7.1,7.29,7.05,7.02,7.06,6.98,7.01,7.08,7.04],\"type\":\"scatter\"},{\"hoverinfo\":\"skip\",\"line\":{\"width\":0},\"mode\":\"lines\",\"x\":[\"2022-10-02T14:00:00\",\"2022-10-02T15:00:00\",\"2022-10-02T16:00:00\",\"2022-10-02T17:00:00\",\"2022-10-02T18:00:00\",\"2022-10-02T19:00:00\",\"2022-10-02T20:00:00\",\"2022-10-02T21:00:00\",\"2022-10-02T22:00:00\",\"2022-10-02T23:00:00\",\"2022-10-03T00:00:00\",\"2022-10-03T01:00:00\",\"2022-10-03T02:00:00\",\"2022-10-03T03:00:00\",\"2022-10-03T04:00:00\",\"2022-10-03T05:00:00\",\"2022-10-03T06:00:00\",\"2022-10-03T07:00:00\",\"2022-10-03T08:00:00\",\"2022-10-03T09:00:00\",\"2022-10-03T10:00:00\",\"2022-10-03T11:00:00\",\"2022-10-03T12:00:00\",\"2022-10-03T13:00:00\",\"2022-10-03T14:00:00\",\"2022-10-03T15:00:00\",\"2022-10-03T16:00:00\",\"2022-10-03T17:00:00\",\"2022-10-03T18:00:00\",\"2022-10-03T19:00:00\",\"2022-10-03T20:00:00\",\"2022-10-03T21:00:00\",\"2022-10-03T22:00:00\",\"2022-10-03T23:00:00\",\"2022-10-04T00:00:00\",\"2022-10-04T01:00:00\",\"2022-10-04T02:00:00\",\"2022-10-04T03:00:00\",\"2022-10-04T04:00:00\",\"2022-10-04T05:00:00\",\"2022-10-04T06:00:00\",\"2022-10-04T07:00:00\",\"2022-10-04T08:00:00\",\"2022-10-04T09:00:00\",\"2022-10-04T10:00:00\",\"2022-10-04T11:00:00\",\"2022-10-04T12:00:00\",\"2022-10-04T13:00:00\",\"2022-10-04T14:00:00\",\"2022-10-04T15:00:00\",\"2022-10-04T16:00:00\",\"2022-10-04T17:00:00\",\"2022-10-04T18:00:00\",\"2022-10-04T19:00:00\",\"2022-10-04T20:00:00\",\"2022-10-04T21:00:00\",\"2022-10-04T22:00:00\",\"2022-10-04T23:00:00\",\"2022-10-05T00:00:00\",\"2022-10-05T01:00:00\",\"2022-10-05T02:00:00\",\"2022-10-05T03:00:00\",\"2022-10-05T04:00:00\",\"2022-10-05T05:00:00\",\"2022-10-05T06:00:00\",\"2022-10-05T07:00:00\",\"2022-10-05T08:00:00\",\"2022-10-05T09:00:00\",\"2022-10-05T10:00:00\",\"2022-10-05T11:00:00\",\"2022-10-05T12:00:00\",\"2022-10-05T13:00:00\",\"2022-10-05T14:00:00\",\"2022-10-05T15:00:00\",\"2022-10-05T16:00:00\",\"2022-10-05T17:00:00\",\"2022-10-05T18:00:00\",\"2022-10-05T19:00:00\",\"2022-10-05T20:00:00\",\"2022-10-05T21:00:00\",\"2022-10-05T22:00:00\",\"2022-10-05T23:00:00\",\"2022-10-06T00:00:00\",\"2022-10-06T01:00:00\",\"2022-10-06T02:00:00\",\"2022-10-06T03:00:00\",\"2022-10-06T04:00:00\",\"2022-10-06T05:00:00\",\"2022-10-06T06:00:00\",\"2022-10-06T07:00:00\",\"2022-10-06T08:00:00\",\"2022-10-06T09:00:00\",\"2022-10-06T10:00:00\",\"2022-10-06T11:00:00\",\"2022-10-06T12:00:00\",\"2022-10-06T13:00:00\",\"2022-10-06T14:00:00\",\"2022-10-06T15:00:00\",\"2022-10-06T16:00:00\",\"2022-10-06T17:00:00\",\"2022-10-06T18:00:00\",\"2022-10-06T19:00:00\",\"2022-10-06T20:00:00\",\"2022-10-06T21:00:00\",\"2022-10-06T22:00:00\",\"2022-10-06T23:00:00\",\"2022-10-07T00:00:00\",\"2022-10-07T01:00:00\",\"2022-10-07T02:00:00\",\"2022-10-07T03:00:00\",\"2022-10-07T04:00:00\",\"2022-10-07T05:00:00\",\"2022-10-07T06:00:00\",\"2022-10-07T07:00:00\",\"2022-10-07T08:00:00\",\"2022-10-07T09:00:00\",\"2022-10-07T10:00:00\",\"2022-10-07T11:00:00\",\"2022-10-07T12:00:00\",\"2022-10-07T13:00:00\",\"2022-10-07T14:00:00\",\"2022-10-07T15:00:00\",\"2022-10-07T16:00:00\",\"2022-10-07T17:00:00\",\"2022-10-07T18:00:00\",\"2022-10-07T19:00:00\",\"2022-10-07T20:00:00\",\"2022-10-07T21:00:00\",\"2022-10-07T22:00:00\",\"2022-10-07T23:00:00\",\"2022-10-08T00:00:00\",\"2022-10-08T01:00:00\",\"2022-10-08T02:00:00\",\"2022-10-08T03:00:00\",\"2022-10-08T04:00:00\",\"2022-10-08T05:00:00\",\"2022-10-08T06:00:00\",\"2022-10-08T07:00:00\",\"2022-10-08T08:00:00\",\"2022-10-08T09:00:00\",\"2022-10-08T10:00:00\",\"2022-10-08T11:00:00\",\"2022-10-08T12:00:00\",\"2022-10-08T13:00:00\",\"2022-10-08T14:00:00\",\"2022-10-08T15:00:00\",\"2022-10-08T16:00:00\",\"2022-10-08T17:00:00\",\"2022-10-08T18:00:00\",\"2022-10-08T19:00:00\",\"2022-10-08T20:00:00\",\"2022-10-08T21:00:00\",\"2022-10-08T22:00:00\",\"2022-10-08T23:00:00\",\"2022-10-09T00:00:00\",\"2022-10-09T01:00:00\",\"2022-10-09T02:00:00\",\"2022-10-09T03:00:00\",\"2022-10-09T04:00:00\",\"2022-10-09T05:00:00\",\"2022-10-09T06:00:00\",\"2022-10-09T07:00:00\",\"2022-10-09T08:00:00\",\"2022-10-09T09:00:00\",\"2022-10-09T10:00:00\",\"2022-10-09T11:00:00\",\"2022-10-09T12:00:00\",\"2022-10-09T13:00:00\",\"2022-10-09T14:00:00\",\"2022-10-09T15:00:00\",\"2022-10-09T16:00:00\",\"2022-10-09T17:00:00\",\"2022-10-09T18:00:00\",\"2022-10-09T19:00:00\",\"2022-10-09T20:00:00\",\"2022-10-09T21:00:00\",\"2022-10-09T22:00:00\",\"2022-10-09T23:00:00\",\"2022-10-10T00:00:00\",\"2022-10-10T01:00:00\",\"2022-10-10T02:00:00\",\"2022-10-10T03:00:00\",\"2022-10-10T04:00:00\",\"2022-10-10T05:00:00\",\"2022-10-10T06:00:00\",\"2022-10-10T07:00:00\",\"2022-10-10T08:00:00\",\"2022-10-10T09:00:00\",\"2022-10-10T10:00:00\",\"2022-10-10T11:00:00\",\"2022-10-10T12:00:00\",\"2022-10-10T13:00:00\",\"2022-10-10T14:00:00\",\"2022-10-10T15:00:00\",\"2022-10-10T16:00:00\",\"2022-10-10T17:00:00\",\"2022-10-10T18:00:00\",\"2022-10-10T19:00:00\",\"2022-10-10T20:00:00\",\"2022-10-10T21:00:00\",\"2022-10-10T22:00:00\",\"2022-10-10T23:00:00\",\"2022-10-11T00:00:00\",\"2022-10-11T01:00:00\",\"2022-10-11T02:00:00\",\"2022-10-11T03:00:00\",\"2022-10-11T04:00:00\",\"2022-10-11T05:00:00\",\"2022-10-11T06:00:00\",\"2022-10-11T07:00:00\",\"2022-10-11T08:00:00\",\"2022-10-11T09:00:00\",\"2022-10-11T10:00:00\",\"2022-10-11T11:00:00\",\"2022-10-11T12:00:00\",\"2022-10-11T13:00:00\",\"2022-10-11T14:00:00\",\"2022-10-11T15:00:00\",\"2022-10-11T16:00:00\",\"2022-10-11T17:00:00\",\"2022-10-11T18:00:00\",\"2022-10-11T19:00:00\",\"2022-10-11T20:00:00\",\"2022-10-11T21:00:00\",\"2022-10-11T22:00:00\",\"2022-10-11T23:00:00\",\"2022-10-12T00:00:00\",\"2022-10-12T01:00:00\",\"2022-10-12T02:00:00\",\"2022-10-12T03:00:00\",\"2022-10-12T04:00:00\",\"2022-10-12T05:00:00\",\"2022-10-12T06:00:00\",\"2022-10-12T07:00:00\",\"2022-10-12T08:00:00\",\"2022-10-12T09:00:00\",\"2022-10-12T10:00:00\",\"2022-10-12T11:00:00\",\"2022-10-12T12:00:00\",\"2022-10-12T13:00:00\",\"2022-10-12T14:00:00\",\"2022-10-12T15:00:00\",\"2022-10-12T16:00:00\",\"2022-10-12T17:00:00\",\"2022-10-12T18:00:00\",\"2022-10-12T19:00:00\",\"2022-10-12T20:00:00\",\"2022-10-12T21:00:00\",\"2022-10-12T22:00:00\",\"2022-10-12T23:00:00\",\"2022-10-13T00:00:00\",\"2022-10-13T01:00:00\",\"2022-10-13T02:00:00\",\"2022-10-13T03:00:00\",\"2022-10-13T04:00:00\",\"2022-10-13T05:00:00\",\"2022-10-13T06:00:00\",\"2022-10-13T07:00:00\",\"2022-10-13T08:00:00\",\"2022-10-13T09:00:00\",\"2022-10-13T10:00:00\",\"2022-10-13T11:00:00\",\"2022-10-13T12:00:00\",\"2022-10-13T13:00:00\",\"2022-10-13T14:00:00\",\"2022-10-13T15:00:00\",\"2022-10-13T16:00:00\",\"2022-10-13T17:00:00\",\"2022-10-13T18:00:00\",\"2022-10-13T19:00:00\",\"2022-10-13T20:00:00\",\"2022-10-13T21:00:00\",\"2022-10-13T22:00:00\",\"2022-10-13T23:00:00\",\"2022-10-14T00:00:00\",\"2022-10-14T01:00:00\",\"2022-10-14T02:00:00\",\"2022-10-14T03:00:00\",\"2022-10-14T04:00:00\",\"2022-10-14T05:00:00\",\"2022-10-14T06:00:00\",\"2022-10-14T07:00:00\",\"2022-10-14T08:00:00\",\"2022-10-14T09:00:00\",\"2022-10-14T10:00:00\",\"2022-10-14T11:00:00\",\"2022-10-14T12:00:00\",\"2022-10-14T13:00:00\",\"2022-10-14T14:00:00\",\"2022-10-14T15:00:00\",\"2022-10-14T16:00:00\",\"2022-10-14T17:00:00\",\"2022-10-14T18:00:00\",\"2022-10-14T19:00:00\",\"2022-10-14T20:00:00\",\"2022-10-14T21:00:00\",\"2022-10-14T22:00:00\",\"2022-10-14T23:00:00\",\"2022-10-15T00:00:00\",\"2022-10-15T01:00:00\",\"2022-10-15T02:00:00\",\"2022-10-15T03:00:00\",\"2022-10-15T04:00:00\",\"2022-10-15T05:00:00\",\"2022-10-15T06:00:00\",\"2022-10-15T07:00:00\",\"2022-10-15T08:00:00\",\"2022-10-15T09:00:00\",\"2022-10-15T10:00:00\",\"2022-10-15T11:00:00\",\"2022-10-15T12:00:00\",\"2022-10-15T13:00:00\",\"2022-10-15T14:00:00\",\"2022-10-15T15:00:00\",\"2022-10-15T16:00:00\",\"2022-10-15T17:00:00\",\"2022-10-15T18:00:00\",\"2022-10-15T19:00:00\",\"2022-10-15T20:00:00\",\"2022-10-15T21:00:00\",\"2022-10-15T22:00:00\",\"2022-10-15T23:00:00\",\"2022-10-16T00:00:00\",\"2022-10-16T01:00:00\",\"2022-10-16T02:00:00\",\"2022-10-16T03:00:00\",\"2022-10-16T04:00:00\",\"2022-10-16T05:00:00\",\"2022-10-16T06:00:00\",\"2022-10-16T07:00:00\",\"2022-10-16T08:00:00\",\"2022-10-16T09:00:00\",\"2022-10-16T10:00:00\",\"2022-10-16T11:00:00\",\"2022-10-16T12:00:00\",\"2022-10-16T13:00:00\",\"2022-10-16T14:00:00\",\"2022-10-16T15:00:00\",\"2022-10-16T16:00:00\",\"2022-10-16T17:00:00\",\"2022-10-16T18:00:00\",\"2022-10-16T19:00:00\",\"2022-10-16T20:00:00\",\"2022-10-16T21:00:00\",\"2022-10-16T22:00:00\",\"2022-10-16T23:00:00\"],\"y\":[5.763892943784573,5.696189010141556,5.680654185522241,5.715359368041979,5.743696164986366,5.82434660652048,5.814666711930196,5.780891720687354,5.670909429943365,5.495473519511153,5.197061395308187,4.95083856993719,4.809850355189186,4.679112775336764,4.608923301810202,4.791384369741912,5.024013845777919,5.213814549490053,5.520422398441948,5.795259772077538,5.980136438894221,6.167796925047221,6.293215549289651,6.186040977090707,6.218061838895529,6.179320892895986,6.168464277452295,6.193243486001041,6.240138790641739,6.2330275448968955,6.263361228197819,6.2498568903122855,6.107325213626223,5.890093392198256,5.671120690268093,5.383070327976627,5.187560250418149,5.140197688657491,5.162302618575419,5.265725230841613,5.4586677341768,5.682676211112026,5.947986229945292,6.283746986282184,6.4761099959705275,6.596911259866904,6.660592353650836,6.677824179533922,6.633089039923125,6.531005330793427,6.621240320254084,6.615642115970253,6.619366856259998,6.615493070080684,6.689783963504233,6.6186152593796335,6.605873925047479,6.3635682790101615,6.091910703763943,5.767540233233067,5.614401657108842,5.561796004383768,5.562513303887325,5.662768685225097,5.87687294053443,6.117056296587502,6.329312143633215,6.634815449750663,6.814527580461945,7.029667035772951,6.976549923346656,7.074167272499205,6.922051283129382,6.937871507861101,6.822669807517668,6.853100514954154,6.859795282075871,6.875507914810402,6.913256944889189,6.829826972569082,6.763046143906218,6.406562404602837,6.1973953064193035,5.892211733566811,5.656070518712902,5.516766000421512,5.488043997785561,5.613330873970642,5.817723576403986,6.065339473190722,6.216874178406854,6.470674935147869,6.717846629255507,6.815182023324102,6.818265834503253,6.807585426438768,6.763904730799365,6.714323244801849,6.647241025913731,6.638088132987357,6.6293208554059415,6.698146573138871,6.658442145583321,6.616790543924478,6.44107733551439,6.232665951071712,5.841696969866007,5.6148759018200325,5.446569299607303,5.381070849380211,5.29427302207675,5.391954167325989,5.563101943855951,5.790839443782672,6.042139334793601,6.288382806330976,6.468519416233825,6.583687323410621,6.6147863413066705,6.561104642265534,6.5217467554006285,6.3862451214381375,6.470553119757349,6.3958479873633,6.416470826312324,6.417162611753166,6.408675097064572,6.417399060933914,6.221935528596844,5.974108994444719,5.625178378673052,5.382942307567251,5.126198116023838,5.0105530000554745,5.062255278286649,5.092830695781823,5.291066147262932,5.4919103952828525,5.754460232149128,6.027285283493164,6.259298015312777,6.269100769710104,6.348277256779393,6.394477466159884,6.284129724075358,6.200565327418566,6.189559003157166,6.120771673408626,6.179046132759435,6.19971205486173,6.198531533793444,6.094568513160035,5.995807813518842,5.761323055034887,5.4194046379314225,5.176927128362464,4.9958257357131926,4.877130408593043,4.853405374062039,4.896456478496761,5.167755819772336,5.320651641661686,5.582992453477951,5.8212592873467885,6.084208719578903,6.1935112333782945,6.220031759530653,6.260377132817622,6.154974486587277,6.103352403809215,6.120334164188386,6.1052193967010115,6.141568894525373,6.155925866583403,6.2258248673292655,6.156642911086303,5.984474097420633,5.830764731556494,5.53670944139694,5.261132740362256,5.063970550593713,4.951239887532676,4.975514018298959,5.105750248591758,5.317167862992467,5.513847153229033,5.822372506050616,6.112342056835756,6.3426910949836035,6.399386158725661,6.455475030930938,6.499603921472816,6.453060085456818,6.39942933689911,6.388879911133125,6.354444215020788,6.468053050830816,6.4977432593153654,6.525335679480111,6.462656431244878,6.318337096585421,6.077176655580229,5.782906897581576,5.554205957571209,5.315532825966005,5.347216313157383,5.341099291234162,5.388030445938393,5.555656419655627,5.805866708712589,6.119223632844428,6.443395239959647,6.6229382848095755,6.752027039289763,6.770468077076031,6.7755454421493235,6.721242758867813,6.709055328509607,6.6786980034295595,6.685051468011497,6.721037501562945,6.786037954912741,6.780234604423263,6.764208318591227,6.690171099103849,6.432215569855032,6.110244673481222,5.836839060776819,5.703885041250168,5.569063971900189,5.6048985590674185,5.716491009212813,5.872833630282781,6.158368732930259,6.428350365231264,6.701636640624739,6.93459152076402,7.055226427290612,7.127475450874889,7.05616388338135,7.086611708382491,7.009656474121153,6.978860836480275,7.025455755841629,7.015100605136309,7.107844684492506,7.060329890524305,7.018552292022853,6.931967766317847,6.655543135429379,6.446232350098943,6.206504487880886,5.990251868060885,5.898705178278127,5.844963676078981,5.999970839330181,6.193871545946544,6.425151473947321,6.767603669306165,6.997617950935413,7.172190135212818,7.325260429778201,7.413449410694488,7.350674849531587,7.31380375005667,7.327697341844449,7.263778300021067,7.321745544946188,7.3076400882264645,7.331273956466793,7.440518575809208,7.449666170987977,7.281265388200673,6.977077109112435,6.70130993128255,6.477579275464996,6.288926909537121,6.181044566283845,6.178496847486768,6.3123474093003775,6.52399078380725,6.756111305100775,7.042071843517425,7.246426380886427,7.519178974596292,7.6381530719648545,7.738193354036428,7.710002189302934,7.662377382511166,7.533582231150073,7.587030479871426,7.560042546523411,7.614833724247415,7.662436384066803,7.657911472039973,7.62290163716111,7.5958260626546235,7.2871617411812135,7.002260307666791,6.736181344216778,6.5196591251467995,6.463642681952293,6.448592491415063,6.551718470422879,6.753351840074962,7.010017567831418,7.264665378101554,7.602661606152829,7.79878633996059,7.877133320493646,7.990773967707718,7.914182818979382,7.9012248688933475,7.811543178826965,7.818137385470205,7.786466813920567,7.800366113046611,7.9096386488934565,7.865409611615604,7.858370564196987,7.738347687058066,7.51925856862831,7.204712717224167,6.945527703350286,6.7425212883247685,6.642069443420448,6.677905684172993,6.76858008042664,6.973482845729168,7.189673410796613,7.437837703649649,7.752174073881497,7.949850323677086,8.084616196743879,8.139015640336035,8.119127927330714,8.076768775451454,7.998768563363548,7.949672003018208,8.019482465743058,8.076903939172524,8.060423006083646,8.10171728918174,8.046562136049676,7.985056089215586,7.630566144449581],\"type\":\"scatter\"},{\"fill\":\"tonexty\",\"fillcolor\":\"rgba(0, 114, 178, 0.2)\",\"line\":{\"color\":\"#0072B2\",\"width\":2},\"mode\":\"lines\",\"name\":\"Predicted\",\"x\":[\"2022-10-02T14:00:00\",\"2022-10-02T15:00:00\",\"2022-10-02T16:00:00\",\"2022-10-02T17:00:00\",\"2022-10-02T18:00:00\",\"2022-10-02T19:00:00\",\"2022-10-02T20:00:00\",\"2022-10-02T21:00:00\",\"2022-10-02T22:00:00\",\"2022-10-02T23:00:00\",\"2022-10-03T00:00:00\",\"2022-10-03T01:00:00\",\"2022-10-03T02:00:00\",\"2022-10-03T03:00:00\",\"2022-10-03T04:00:00\",\"2022-10-03T05:00:00\",\"2022-10-03T06:00:00\",\"2022-10-03T07:00:00\",\"2022-10-03T08:00:00\",\"2022-10-03T09:00:00\",\"2022-10-03T10:00:00\",\"2022-10-03T11:00:00\",\"2022-10-03T12:00:00\",\"2022-10-03T13:00:00\",\"2022-10-03T14:00:00\",\"2022-10-03T15:00:00\",\"2022-10-03T16:00:00\",\"2022-10-03T17:00:00\",\"2022-10-03T18:00:00\",\"2022-10-03T19:00:00\",\"2022-10-03T20:00:00\",\"2022-10-03T21:00:00\",\"2022-10-03T22:00:00\",\"2022-10-03T23:00:00\",\"2022-10-04T00:00:00\",\"2022-10-04T01:00:00\",\"2022-10-04T02:00:00\",\"2022-10-04T03:00:00\",\"2022-10-04T04:00:00\",\"2022-10-04T05:00:00\",\"2022-10-04T06:00:00\",\"2022-10-04T07:00:00\",\"2022-10-04T08:00:00\",\"2022-10-04T09:00:00\",\"2022-10-04T10:00:00\",\"2022-10-04T11:00:00\",\"2022-10-04T12:00:00\",\"2022-10-04T13:00:00\",\"2022-10-04T14:00:00\",\"2022-10-04T15:00:00\",\"2022-10-04T16:00:00\",\"2022-10-04T17:00:00\",\"2022-10-04T18:00:00\",\"2022-10-04T19:00:00\",\"2022-10-04T20:00:00\",\"2022-10-04T21:00:00\",\"2022-10-04T22:00:00\",\"2022-10-04T23:00:00\",\"2022-10-05T00:00:00\",\"2022-10-05T01:00:00\",\"2022-10-05T02:00:00\",\"2022-10-05T03:00:00\",\"2022-10-05T04:00:00\",\"2022-10-05T05:00:00\",\"2022-10-05T06:00:00\",\"2022-10-05T07:00:00\",\"2022-10-05T08:00:00\",\"2022-10-05T09:00:00\",\"2022-10-05T10:00:00\",\"2022-10-05T11:00:00\",\"2022-10-05T12:00:00\",\"2022-10-05T13:00:00\",\"2022-10-05T14:00:00\",\"2022-10-05T15:00:00\",\"2022-10-05T16:00:00\",\"2022-10-05T17:00:00\",\"2022-10-05T18:00:00\",\"2022-10-05T19:00:00\",\"2022-10-05T20:00:00\",\"2022-10-05T21:00:00\",\"2022-10-05T22:00:00\",\"2022-10-05T23:00:00\",\"2022-10-06T00:00:00\",\"2022-10-06T01:00:00\",\"2022-10-06T02:00:00\",\"2022-10-06T03:00:00\",\"2022-10-06T04:00:00\",\"2022-10-06T05:00:00\",\"2022-10-06T06:00:00\",\"2022-10-06T07:00:00\",\"2022-10-06T08:00:00\",\"2022-10-06T09:00:00\",\"2022-10-06T10:00:00\",\"2022-10-06T11:00:00\",\"2022-10-06T12:00:00\",\"2022-10-06T13:00:00\",\"2022-10-06T14:00:00\",\"2022-10-06T15:00:00\",\"2022-10-06T16:00:00\",\"2022-10-06T17:00:00\",\"2022-10-06T18:00:00\",\"2022-10-06T19:00:00\",\"2022-10-06T20:00:00\",\"2022-10-06T21:00:00\",\"2022-10-06T22:00:00\",\"2022-10-06T23:00:00\",\"2022-10-07T00:00:00\",\"2022-10-07T01:00:00\",\"2022-10-07T02:00:00\",\"2022-10-07T03:00:00\",\"2022-10-07T04:00:00\",\"2022-10-07T05:00:00\",\"2022-10-07T06:00:00\",\"2022-10-07T07:00:00\",\"2022-10-07T08:00:00\",\"2022-10-07T09:00:00\",\"2022-10-07T10:00:00\",\"2022-10-07T11:00:00\",\"2022-10-07T12:00:00\",\"2022-10-07T13:00:00\",\"2022-10-07T14:00:00\",\"2022-10-07T15:00:00\",\"2022-10-07T16:00:00\",\"2022-10-07T17:00:00\",\"2022-10-07T18:00:00\",\"2022-10-07T19:00:00\",\"2022-10-07T20:00:00\",\"2022-10-07T21:00:00\",\"2022-10-07T22:00:00\",\"2022-10-07T23:00:00\",\"2022-10-08T00:00:00\",\"2022-10-08T01:00:00\",\"2022-10-08T02:00:00\",\"2022-10-08T03:00:00\",\"2022-10-08T04:00:00\",\"2022-10-08T05:00:00\",\"2022-10-08T06:00:00\",\"2022-10-08T07:00:00\",\"2022-10-08T08:00:00\",\"2022-10-08T09:00:00\",\"2022-10-08T10:00:00\",\"2022-10-08T11:00:00\",\"2022-10-08T12:00:00\",\"2022-10-08T13:00:00\",\"2022-10-08T14:00:00\",\"2022-10-08T15:00:00\",\"2022-10-08T16:00:00\",\"2022-10-08T17:00:00\",\"2022-10-08T18:00:00\",\"2022-10-08T19:00:00\",\"2022-10-08T20:00:00\",\"2022-10-08T21:00:00\",\"2022-10-08T22:00:00\",\"2022-10-08T23:00:00\",\"2022-10-09T00:00:00\",\"2022-10-09T01:00:00\",\"2022-10-09T02:00:00\",\"2022-10-09T03:00:00\",\"2022-10-09T04:00:00\",\"2022-10-09T05:00:00\",\"2022-10-09T06:00:00\",\"2022-10-09T07:00:00\",\"2022-10-09T08:00:00\",\"2022-10-09T09:00:00\",\"2022-10-09T10:00:00\",\"2022-10-09T11:00:00\",\"2022-10-09T12:00:00\",\"2022-10-09T13:00:00\",\"2022-10-09T14:00:00\",\"2022-10-09T15:00:00\",\"2022-10-09T16:00:00\",\"2022-10-09T17:00:00\",\"2022-10-09T18:00:00\",\"2022-10-09T19:00:00\",\"2022-10-09T20:00:00\",\"2022-10-09T21:00:00\",\"2022-10-09T22:00:00\",\"2022-10-09T23:00:00\",\"2022-10-10T00:00:00\",\"2022-10-10T01:00:00\",\"2022-10-10T02:00:00\",\"2022-10-10T03:00:00\",\"2022-10-10T04:00:00\",\"2022-10-10T05:00:00\",\"2022-10-10T06:00:00\",\"2022-10-10T07:00:00\",\"2022-10-10T08:00:00\",\"2022-10-10T09:00:00\",\"2022-10-10T10:00:00\",\"2022-10-10T11:00:00\",\"2022-10-10T12:00:00\",\"2022-10-10T13:00:00\",\"2022-10-10T14:00:00\",\"2022-10-10T15:00:00\",\"2022-10-10T16:00:00\",\"2022-10-10T17:00:00\",\"2022-10-10T18:00:00\",\"2022-10-10T19:00:00\",\"2022-10-10T20:00:00\",\"2022-10-10T21:00:00\",\"2022-10-10T22:00:00\",\"2022-10-10T23:00:00\",\"2022-10-11T00:00:00\",\"2022-10-11T01:00:00\",\"2022-10-11T02:00:00\",\"2022-10-11T03:00:00\",\"2022-10-11T04:00:00\",\"2022-10-11T05:00:00\",\"2022-10-11T06:00:00\",\"2022-10-11T07:00:00\",\"2022-10-11T08:00:00\",\"2022-10-11T09:00:00\",\"2022-10-11T10:00:00\",\"2022-10-11T11:00:00\",\"2022-10-11T12:00:00\",\"2022-10-11T13:00:00\",\"2022-10-11T14:00:00\",\"2022-10-11T15:00:00\",\"2022-10-11T16:00:00\",\"2022-10-11T17:00:00\",\"2022-10-11T18:00:00\",\"2022-10-11T19:00:00\",\"2022-10-11T20:00:00\",\"2022-10-11T21:00:00\",\"2022-10-11T22:00:00\",\"2022-10-11T23:00:00\",\"2022-10-12T00:00:00\",\"2022-10-12T01:00:00\",\"2022-10-12T02:00:00\",\"2022-10-12T03:00:00\",\"2022-10-12T04:00:00\",\"2022-10-12T05:00:00\",\"2022-10-12T06:00:00\",\"2022-10-12T07:00:00\",\"2022-10-12T08:00:00\",\"2022-10-12T09:00:00\",\"2022-10-12T10:00:00\",\"2022-10-12T11:00:00\",\"2022-10-12T12:00:00\",\"2022-10-12T13:00:00\",\"2022-10-12T14:00:00\",\"2022-10-12T15:00:00\",\"2022-10-12T16:00:00\",\"2022-10-12T17:00:00\",\"2022-10-12T18:00:00\",\"2022-10-12T19:00:00\",\"2022-10-12T20:00:00\",\"2022-10-12T21:00:00\",\"2022-10-12T22:00:00\",\"2022-10-12T23:00:00\",\"2022-10-13T00:00:00\",\"2022-10-13T01:00:00\",\"2022-10-13T02:00:00\",\"2022-10-13T03:00:00\",\"2022-10-13T04:00:00\",\"2022-10-13T05:00:00\",\"2022-10-13T06:00:00\",\"2022-10-13T07:00:00\",\"2022-10-13T08:00:00\",\"2022-10-13T09:00:00\",\"2022-10-13T10:00:00\",\"2022-10-13T11:00:00\",\"2022-10-13T12:00:00\",\"2022-10-13T13:00:00\",\"2022-10-13T14:00:00\",\"2022-10-13T15:00:00\",\"2022-10-13T16:00:00\",\"2022-10-13T17:00:00\",\"2022-10-13T18:00:00\",\"2022-10-13T19:00:00\",\"2022-10-13T20:00:00\",\"2022-10-13T21:00:00\",\"2022-10-13T22:00:00\",\"2022-10-13T23:00:00\",\"2022-10-14T00:00:00\",\"2022-10-14T01:00:00\",\"2022-10-14T02:00:00\",\"2022-10-14T03:00:00\",\"2022-10-14T04:00:00\",\"2022-10-14T05:00:00\",\"2022-10-14T06:00:00\",\"2022-10-14T07:00:00\",\"2022-10-14T08:00:00\",\"2022-10-14T09:00:00\",\"2022-10-14T10:00:00\",\"2022-10-14T11:00:00\",\"2022-10-14T12:00:00\",\"2022-10-14T13:00:00\",\"2022-10-14T14:00:00\",\"2022-10-14T15:00:00\",\"2022-10-14T16:00:00\",\"2022-10-14T17:00:00\",\"2022-10-14T18:00:00\",\"2022-10-14T19:00:00\",\"2022-10-14T20:00:00\",\"2022-10-14T21:00:00\",\"2022-10-14T22:00:00\",\"2022-10-14T23:00:00\",\"2022-10-15T00:00:00\",\"2022-10-15T01:00:00\",\"2022-10-15T02:00:00\",\"2022-10-15T03:00:00\",\"2022-10-15T04:00:00\",\"2022-10-15T05:00:00\",\"2022-10-15T06:00:00\",\"2022-10-15T07:00:00\",\"2022-10-15T08:00:00\",\"2022-10-15T09:00:00\",\"2022-10-15T10:00:00\",\"2022-10-15T11:00:00\",\"2022-10-15T12:00:00\",\"2022-10-15T13:00:00\",\"2022-10-15T14:00:00\",\"2022-10-15T15:00:00\",\"2022-10-15T16:00:00\",\"2022-10-15T17:00:00\",\"2022-10-15T18:00:00\",\"2022-10-15T19:00:00\",\"2022-10-15T20:00:00\",\"2022-10-15T21:00:00\",\"2022-10-15T22:00:00\",\"2022-10-15T23:00:00\",\"2022-10-16T00:00:00\",\"2022-10-16T01:00:00\",\"2022-10-16T02:00:00\",\"2022-10-16T03:00:00\",\"2022-10-16T04:00:00\",\"2022-10-16T05:00:00\",\"2022-10-16T06:00:00\",\"2022-10-16T07:00:00\",\"2022-10-16T08:00:00\",\"2022-10-16T09:00:00\",\"2022-10-16T10:00:00\",\"2022-10-16T11:00:00\",\"2022-10-16T12:00:00\",\"2022-10-16T13:00:00\",\"2022-10-16T14:00:00\",\"2022-10-16T15:00:00\",\"2022-10-16T16:00:00\",\"2022-10-16T17:00:00\",\"2022-10-16T18:00:00\",\"2022-10-16T19:00:00\",\"2022-10-16T20:00:00\",\"2022-10-16T21:00:00\",\"2022-10-16T22:00:00\",\"2022-10-16T23:00:00\"],\"y\":[6.450222798453651,6.415565854636836,6.400212592946689,6.41292991495329,6.453502184173159,6.507457185863026,6.541848798941371,6.513035808868061,6.388395247492903,6.16940022807337,5.898140644850904,5.640091779674689,5.454276042460872,5.371512320601499,5.393465187961878,5.507153644701682,5.698097888732809,5.950342303598115,6.237205272819466,6.517045626807874,6.743589331952103,6.8856126724516304,6.940825139619582,6.933247934071176,6.897451086232186,6.862794143034388,6.847440881961296,6.860158204585842,6.900730474422774,6.954685476729229,6.98907709042545,6.960264100969089,6.835623540209525,6.616628519625368,6.345368935239461,6.087320068901012,5.901504330524696,5.818740607503565,5.840693473702724,5.954381929281473,6.1453261721502646,6.397570585323439,6.684433552853374,6.964273905147581,7.190817608596944,7.332840947400199,7.388053412877047,7.380476205634756,7.344679356105942,7.309995426396473,7.294615178813603,7.30730551492753,7.347850798254856,7.401778814052554,7.436143441239433,7.407303465275414,7.2826359180100875,7.061743467988743,6.788586454191457,6.528640158425005,6.340926990610386,6.25626583816488,6.276321274937215,6.388112301092956,6.577159114537463,6.815508376895712,7.088476193608419,7.354421395086331,7.567069947718701,7.695198135702955,7.736515450362824,7.715043092304552,7.665351091959156,7.606692947470663,7.567338485109212,7.556054606444787,7.57262567499252,7.602579476010789,7.612969888418245,7.560155697674573,7.411513935628129,7.16404015341059,6.8643018073901985,6.577774179415946,6.3634796794026425,6.252237194744078,6.245711299305775,6.330920993247244,6.493386474479086,6.717150855868837,6.975533791632311,7.226894112129385,7.424957783798511,7.538501090824929,7.565233524517291,7.529176285494403,7.46489940417992,7.401762348337504,7.35792897462089,7.342166184600192,7.354258341793072,7.379733231455874,7.38564473250697,7.32835163040608,7.17523094795554,6.92775580565501,6.628016099551905,6.34148711149558,6.127191251402131,6.015947406663443,6.009420151144646,6.094628485005279,6.257092606059359,6.480856898116149,6.739239744528411,6.9905999757071,7.188663558041194,7.302206775727413,7.32893912008873,7.292881791731013,7.228604821225051,7.165467756374816,7.121634373651552,7.105871574625363,7.117963722812597,7.1434386034684705,7.149350095514101,7.092056984411956,6.938936302874376,6.6914611614725885,6.391721456279359,6.105192469148018,5.890896609951478,5.779652766124345,5.773125511517643,5.8583338462905346,6.020797968185967,6.244562261083953,6.5029451083381264,6.754305340355944,6.952368923528499,7.065912142054934,7.092644487255317,7.056587159737042,6.992310191990716,6.929173129900671,6.885339749939098,6.869576953672661,6.881669104619574,6.907143988036783,6.913055482842986,6.855762374498018,6.705132127782139,6.460147421218188,6.162898150849429,5.878859598526073,5.667054174164519,5.558300765157225,5.55426394536979,5.641962714969571,5.814603130480191,6.048543717001735,6.317102857895711,6.578639383538834,6.786879260327474,6.910598772486581,6.947507411310037,6.921626377417381,6.8766815325632376,6.832876593365271,6.8083753362942465,6.811944662920143,6.843368936759277,6.888175943068154,6.913419560764069,6.875458575310132,6.7447050007219,6.51959696628392,6.242224368043454,5.978062487849648,5.786133735617272,5.697256998739952,5.713096851083031,5.820672292805887,6.005503522509053,6.251634923215385,6.532384878277863,6.806112218107319,7.026542909091406,7.16245323542961,7.211552688441246,7.197862468733333,7.15595260646742,7.115182649862143,7.093716375382902,7.100320684599305,7.13477994102827,7.182621929928364,7.210900530216888,7.175974527352511,7.04521732419787,6.8201056611756785,6.542729434360087,6.278563925591797,6.086631544786867,5.99775117933701,6.013587403107185,6.1211592162567925,6.3059868166974224,6.552114588140399,6.832860913938272,7.106584624501943,7.327011686220604,7.462918383292924,7.512014207038658,7.498320358065273,7.456406866805393,7.415633281201313,7.394163377724109,7.400764057943872,7.435219685377005,7.483058045280253,7.511333016571245,7.476403384713194,7.345646181552605,7.120534518541919,6.843158291727644,6.5789927829586565,6.387060402140538,6.298180036695942,6.314016260462231,6.421588073616084,6.606415674057597,6.852543445485869,7.133289771299557,7.407013481862943,7.627440543579595,7.763347240650112,7.812443064394932,7.7987492154215765,7.756835724161233,7.7160621385572465,7.694592235080577,7.701192915301052,7.735648542733762,7.783486902636697,7.81176187392844,7.776832242068739,7.646075038906203,7.42096337589566,7.143587149080671,6.879421640311607,6.687489259504826,6.598608894052621,6.614445117820416,6.722016930967775,6.906844531406594,7.152972302848318,7.433718628645951,7.707442339210605,7.927869400931196,8.063776098008848,8.112871921753074,8.099178072780452,8.057264581518208,8.01649099591473,7.995021092438462,8.001621772658284,8.036077400091653,8.083915759994047,8.112190731284578,8.077261099424339,7.9465038962609365,7.721392233247851,7.44401600643264,7.179850497664614,6.9879181168584985,6.899037751407752,6.914873975177546,7.022445788327122,7.207273388766769,7.453401160209219,7.734147486007237,8.00787119657166,8.228298258290188,8.364204955362874,8.413300779109349,8.399606930136754,8.357693438876408,8.316919853272044,8.295449949794929,8.302050630015005,8.336506257447448,8.38434461735049,8.412619588641773,8.377689956784966,8.246932753624485,8.021821090601595,7.744444863801254,7.480279355031418,7.288346974213306,7.199466608764432,7.215302832533649,7.322874645686412,7.507702246126943,7.7538300175716675,8.034576343369578,8.308300053932658,8.528727115650312,8.664633812721611,8.713729636466681,8.700035787493057,8.658122296233383,8.617348710629528,8.595878807152454,8.602479487372241,8.636935114805341,8.684773474708484,8.713048445999185,8.678118814140568,8.54736161097922,8.322249947967837,8.044873721153225,7.7807082123844244,7.588775831577595,7.499895466123366,7.51573168989078,7.6233035030381595,7.80813110347594,8.054258874917137,8.335005200730862,8.608728911280322,8.829155973001914,8.9650626700788,9.014158493822954,9.000464644851935,8.958551153589223,8.917777567985462,8.896307664508923,8.902908344729418,8.937363972162098,8.985202332064926,9.013477303356378,8.978547671496113,8.847790468332818,8.622678805320025],\"type\":\"scatter\"},{\"fill\":\"tonexty\",\"fillcolor\":\"rgba(0, 114, 178, 0.2)\",\"hoverinfo\":\"skip\",\"line\":{\"width\":0},\"mode\":\"lines\",\"x\":[\"2022-10-02T14:00:00\",\"2022-10-02T15:00:00\",\"2022-10-02T16:00:00\",\"2022-10-02T17:00:00\",\"2022-10-02T18:00:00\",\"2022-10-02T19:00:00\",\"2022-10-02T20:00:00\",\"2022-10-02T21:00:00\",\"2022-10-02T22:00:00\",\"2022-10-02T23:00:00\",\"2022-10-03T00:00:00\",\"2022-10-03T01:00:00\",\"2022-10-03T02:00:00\",\"2022-10-03T03:00:00\",\"2022-10-03T04:00:00\",\"2022-10-03T05:00:00\",\"2022-10-03T06:00:00\",\"2022-10-03T07:00:00\",\"2022-10-03T08:00:00\",\"2022-10-03T09:00:00\",\"2022-10-03T10:00:00\",\"2022-10-03T11:00:00\",\"2022-10-03T12:00:00\",\"2022-10-03T13:00:00\",\"2022-10-03T14:00:00\",\"2022-10-03T15:00:00\",\"2022-10-03T16:00:00\",\"2022-10-03T17:00:00\",\"2022-10-03T18:00:00\",\"2022-10-03T19:00:00\",\"2022-10-03T20:00:00\",\"2022-10-03T21:00:00\",\"2022-10-03T22:00:00\",\"2022-10-03T23:00:00\",\"2022-10-04T00:00:00\",\"2022-10-04T01:00:00\",\"2022-10-04T02:00:00\",\"2022-10-04T03:00:00\",\"2022-10-04T04:00:00\",\"2022-10-04T05:00:00\",\"2022-10-04T06:00:00\",\"2022-10-04T07:00:00\",\"2022-10-04T08:00:00\",\"2022-10-04T09:00:00\",\"2022-10-04T10:00:00\",\"2022-10-04T11:00:00\",\"2022-10-04T12:00:00\",\"2022-10-04T13:00:00\",\"2022-10-04T14:00:00\",\"2022-10-04T15:00:00\",\"2022-10-04T16:00:00\",\"2022-10-04T17:00:00\",\"2022-10-04T18:00:00\",\"2022-10-04T19:00:00\",\"2022-10-04T20:00:00\",\"2022-10-04T21:00:00\",\"2022-10-04T22:00:00\",\"2022-10-04T23:00:00\",\"2022-10-05T00:00:00\",\"2022-10-05T01:00:00\",\"2022-10-05T02:00:00\",\"2022-10-05T03:00:00\",\"2022-10-05T04:00:00\",\"2022-10-05T05:00:00\",\"2022-10-05T06:00:00\",\"2022-10-05T07:00:00\",\"2022-10-05T08:00:00\",\"2022-10-05T09:00:00\",\"2022-10-05T10:00:00\",\"2022-10-05T11:00:00\",\"2022-10-05T12:00:00\",\"2022-10-05T13:00:00\",\"2022-10-05T14:00:00\",\"2022-10-05T15:00:00\",\"2022-10-05T16:00:00\",\"2022-10-05T17:00:00\",\"2022-10-05T18:00:00\",\"2022-10-05T19:00:00\",\"2022-10-05T20:00:00\",\"2022-10-05T21:00:00\",\"2022-10-05T22:00:00\",\"2022-10-05T23:00:00\",\"2022-10-06T00:00:00\",\"2022-10-06T01:00:00\",\"2022-10-06T02:00:00\",\"2022-10-06T03:00:00\",\"2022-10-06T04:00:00\",\"2022-10-06T05:00:00\",\"2022-10-06T06:00:00\",\"2022-10-06T07:00:00\",\"2022-10-06T08:00:00\",\"2022-10-06T09:00:00\",\"2022-10-06T10:00:00\",\"2022-10-06T11:00:00\",\"2022-10-06T12:00:00\",\"2022-10-06T13:00:00\",\"2022-10-06T14:00:00\",\"2022-10-06T15:00:00\",\"2022-10-06T16:00:00\",\"2022-10-06T17:00:00\",\"2022-10-06T18:00:00\",\"2022-10-06T19:00:00\",\"2022-10-06T20:00:00\",\"2022-10-06T21:00:00\",\"2022-10-06T22:00:00\",\"2022-10-06T23:00:00\",\"2022-10-07T00:00:00\",\"2022-10-07T01:00:00\",\"2022-10-07T02:00:00\",\"2022-10-07T03:00:00\",\"2022-10-07T04:00:00\",\"2022-10-07T05:00:00\",\"2022-10-07T06:00:00\",\"2022-10-07T07:00:00\",\"2022-10-07T08:00:00\",\"2022-10-07T09:00:00\",\"2022-10-07T10:00:00\",\"2022-10-07T11:00:00\",\"2022-10-07T12:00:00\",\"2022-10-07T13:00:00\",\"2022-10-07T14:00:00\",\"2022-10-07T15:00:00\",\"2022-10-07T16:00:00\",\"2022-10-07T17:00:00\",\"2022-10-07T18:00:00\",\"2022-10-07T19:00:00\",\"2022-10-07T20:00:00\",\"2022-10-07T21:00:00\",\"2022-10-07T22:00:00\",\"2022-10-07T23:00:00\",\"2022-10-08T00:00:00\",\"2022-10-08T01:00:00\",\"2022-10-08T02:00:00\",\"2022-10-08T03:00:00\",\"2022-10-08T04:00:00\",\"2022-10-08T05:00:00\",\"2022-10-08T06:00:00\",\"2022-10-08T07:00:00\",\"2022-10-08T08:00:00\",\"2022-10-08T09:00:00\",\"2022-10-08T10:00:00\",\"2022-10-08T11:00:00\",\"2022-10-08T12:00:00\",\"2022-10-08T13:00:00\",\"2022-10-08T14:00:00\",\"2022-10-08T15:00:00\",\"2022-10-08T16:00:00\",\"2022-10-08T17:00:00\",\"2022-10-08T18:00:00\",\"2022-10-08T19:00:00\",\"2022-10-08T20:00:00\",\"2022-10-08T21:00:00\",\"2022-10-08T22:00:00\",\"2022-10-08T23:00:00\",\"2022-10-09T00:00:00\",\"2022-10-09T01:00:00\",\"2022-10-09T02:00:00\",\"2022-10-09T03:00:00\",\"2022-10-09T04:00:00\",\"2022-10-09T05:00:00\",\"2022-10-09T06:00:00\",\"2022-10-09T07:00:00\",\"2022-10-09T08:00:00\",\"2022-10-09T09:00:00\",\"2022-10-09T10:00:00\",\"2022-10-09T11:00:00\",\"2022-10-09T12:00:00\",\"2022-10-09T13:00:00\",\"2022-10-09T14:00:00\",\"2022-10-09T15:00:00\",\"2022-10-09T16:00:00\",\"2022-10-09T17:00:00\",\"2022-10-09T18:00:00\",\"2022-10-09T19:00:00\",\"2022-10-09T20:00:00\",\"2022-10-09T21:00:00\",\"2022-10-09T22:00:00\",\"2022-10-09T23:00:00\",\"2022-10-10T00:00:00\",\"2022-10-10T01:00:00\",\"2022-10-10T02:00:00\",\"2022-10-10T03:00:00\",\"2022-10-10T04:00:00\",\"2022-10-10T05:00:00\",\"2022-10-10T06:00:00\",\"2022-10-10T07:00:00\",\"2022-10-10T08:00:00\",\"2022-10-10T09:00:00\",\"2022-10-10T10:00:00\",\"2022-10-10T11:00:00\",\"2022-10-10T12:00:00\",\"2022-10-10T13:00:00\",\"2022-10-10T14:00:00\",\"2022-10-10T15:00:00\",\"2022-10-10T16:00:00\",\"2022-10-10T17:00:00\",\"2022-10-10T18:00:00\",\"2022-10-10T19:00:00\",\"2022-10-10T20:00:00\",\"2022-10-10T21:00:00\",\"2022-10-10T22:00:00\",\"2022-10-10T23:00:00\",\"2022-10-11T00:00:00\",\"2022-10-11T01:00:00\",\"2022-10-11T02:00:00\",\"2022-10-11T03:00:00\",\"2022-10-11T04:00:00\",\"2022-10-11T05:00:00\",\"2022-10-11T06:00:00\",\"2022-10-11T07:00:00\",\"2022-10-11T08:00:00\",\"2022-10-11T09:00:00\",\"2022-10-11T10:00:00\",\"2022-10-11T11:00:00\",\"2022-10-11T12:00:00\",\"2022-10-11T13:00:00\",\"2022-10-11T14:00:00\",\"2022-10-11T15:00:00\",\"2022-10-11T16:00:00\",\"2022-10-11T17:00:00\",\"2022-10-11T18:00:00\",\"2022-10-11T19:00:00\",\"2022-10-11T20:00:00\",\"2022-10-11T21:00:00\",\"2022-10-11T22:00:00\",\"2022-10-11T23:00:00\",\"2022-10-12T00:00:00\",\"2022-10-12T01:00:00\",\"2022-10-12T02:00:00\",\"2022-10-12T03:00:00\",\"2022-10-12T04:00:00\",\"2022-10-12T05:00:00\",\"2022-10-12T06:00:00\",\"2022-10-12T07:00:00\",\"2022-10-12T08:00:00\",\"2022-10-12T09:00:00\",\"2022-10-12T10:00:00\",\"2022-10-12T11:00:00\",\"2022-10-12T12:00:00\",\"2022-10-12T13:00:00\",\"2022-10-12T14:00:00\",\"2022-10-12T15:00:00\",\"2022-10-12T16:00:00\",\"2022-10-12T17:00:00\",\"2022-10-12T18:00:00\",\"2022-10-12T19:00:00\",\"2022-10-12T20:00:00\",\"2022-10-12T21:00:00\",\"2022-10-12T22:00:00\",\"2022-10-12T23:00:00\",\"2022-10-13T00:00:00\",\"2022-10-13T01:00:00\",\"2022-10-13T02:00:00\",\"2022-10-13T03:00:00\",\"2022-10-13T04:00:00\",\"2022-10-13T05:00:00\",\"2022-10-13T06:00:00\",\"2022-10-13T07:00:00\",\"2022-10-13T08:00:00\",\"2022-10-13T09:00:00\",\"2022-10-13T10:00:00\",\"2022-10-13T11:00:00\",\"2022-10-13T12:00:00\",\"2022-10-13T13:00:00\",\"2022-10-13T14:00:00\",\"2022-10-13T15:00:00\",\"2022-10-13T16:00:00\",\"2022-10-13T17:00:00\",\"2022-10-13T18:00:00\",\"2022-10-13T19:00:00\",\"2022-10-13T20:00:00\",\"2022-10-13T21:00:00\",\"2022-10-13T22:00:00\",\"2022-10-13T23:00:00\",\"2022-10-14T00:00:00\",\"2022-10-14T01:00:00\",\"2022-10-14T02:00:00\",\"2022-10-14T03:00:00\",\"2022-10-14T04:00:00\",\"2022-10-14T05:00:00\",\"2022-10-14T06:00:00\",\"2022-10-14T07:00:00\",\"2022-10-14T08:00:00\",\"2022-10-14T09:00:00\",\"2022-10-14T10:00:00\",\"2022-10-14T11:00:00\",\"2022-10-14T12:00:00\",\"2022-10-14T13:00:00\",\"2022-10-14T14:00:00\",\"2022-10-14T15:00:00\",\"2022-10-14T16:00:00\",\"2022-10-14T17:00:00\",\"2022-10-14T18:00:00\",\"2022-10-14T19:00:00\",\"2022-10-14T20:00:00\",\"2022-10-14T21:00:00\",\"2022-10-14T22:00:00\",\"2022-10-14T23:00:00\",\"2022-10-15T00:00:00\",\"2022-10-15T01:00:00\",\"2022-10-15T02:00:00\",\"2022-10-15T03:00:00\",\"2022-10-15T04:00:00\",\"2022-10-15T05:00:00\",\"2022-10-15T06:00:00\",\"2022-10-15T07:00:00\",\"2022-10-15T08:00:00\",\"2022-10-15T09:00:00\",\"2022-10-15T10:00:00\",\"2022-10-15T11:00:00\",\"2022-10-15T12:00:00\",\"2022-10-15T13:00:00\",\"2022-10-15T14:00:00\",\"2022-10-15T15:00:00\",\"2022-10-15T16:00:00\",\"2022-10-15T17:00:00\",\"2022-10-15T18:00:00\",\"2022-10-15T19:00:00\",\"2022-10-15T20:00:00\",\"2022-10-15T21:00:00\",\"2022-10-15T22:00:00\",\"2022-10-15T23:00:00\",\"2022-10-16T00:00:00\",\"2022-10-16T01:00:00\",\"2022-10-16T02:00:00\",\"2022-10-16T03:00:00\",\"2022-10-16T04:00:00\",\"2022-10-16T05:00:00\",\"2022-10-16T06:00:00\",\"2022-10-16T07:00:00\",\"2022-10-16T08:00:00\",\"2022-10-16T09:00:00\",\"2022-10-16T10:00:00\",\"2022-10-16T11:00:00\",\"2022-10-16T12:00:00\",\"2022-10-16T13:00:00\",\"2022-10-16T14:00:00\",\"2022-10-16T15:00:00\",\"2022-10-16T16:00:00\",\"2022-10-16T17:00:00\",\"2022-10-16T18:00:00\",\"2022-10-16T19:00:00\",\"2022-10-16T20:00:00\",\"2022-10-16T21:00:00\",\"2022-10-16T22:00:00\",\"2022-10-16T23:00:00\"],\"y\":[7.219272740230567,7.137159056084353,7.103500666616526,7.108010869360494,7.1743190244632205,7.2475862102366,7.264868328788115,7.265129149982406,7.144254693884243,6.8579689753685065,6.573780052911786,6.397014034578959,6.211545251632311,6.096845606188866,6.085124028528459,6.167482982816018,6.448586520660614,6.685029084575873,6.957247945771859,7.249362459468862,7.480568920355007,7.564824733503539,7.653850547377482,7.627396100463771,7.594362206516872,7.585301771390157,7.6229874502302435,7.5315902256414065,7.670055858890731,7.648872897552722,7.684717243736596,7.668170439877029,7.5639622872175725,7.346466408925702,7.052072875872547,6.827394022476385,6.599234817061087,6.543671639296091,6.56625066783488,6.621500266504103,6.891958898898463,7.1274779810737945,7.44380700851118,7.7172786385479055,7.936778202052924,8.026930085680423,8.08656409200082,8.101110681737472,8.046332574913084,8.094684163815414,7.99099687155321,8.075773222755855,8.102217639922099,8.11085574698596,8.135928184221175,8.106515193365382,7.99391172959543,7.741943304392181,7.5243070226782125,7.203569171797933,6.993190270508248,6.957753585612412,7.020159726628125,7.0943599795106,7.252652517335154,7.499288862865379,7.827975802000891,8.173172557900768,8.250078601519503,8.380795328578525,8.44097255709133,8.418408448043571,8.325480840965561,8.315400268743915,8.2816577626712,8.320539586804284,8.338364540557288,8.286026662173745,8.394449608281633,8.245586518918557,8.14219180765105,7.865537527902984,7.577538817009261,7.3319684759222365,7.09097722463262,6.954724787045056,6.968927126372423,7.071310795563308,7.185134698421139,7.421679352293599,7.687792952830986,7.9378149872250185,8.17194214128792,8.288174233176091,8.29888699222244,8.267355118791926,8.226978098289404,8.104436719877292,8.09676368998775,8.029185710560384,8.104631164845086,8.120180657954114,8.085308933435668,8.096480974637046,7.887902853259656,7.623703978170559,7.323237217639927,7.0813344600209485,6.853845810327386,6.759800935610981,6.722922928268317,6.826179619659276,7.017201765253841,7.2352570133320615,7.41174363550839,7.714735984358028,7.952203736512652,8.029249949216794,8.061230651104069,8.028975869485425,7.957554915173267,7.928343442122213,7.773153957695874,7.895699098465773,7.802873437161536,7.845356685307941,7.82770428969613,7.836512673039462,7.673772374732291,7.483862462671601,7.085371529949104,6.791480468060807,6.646758305710594,6.525491003364729,6.465027751624642,6.626324638926219,6.767546728095958,6.961219243420894,7.185717964953689,7.47353214241687,7.651111910457686,7.7304023451860555,7.818550975771746,7.753502643154761,7.708403537087729,7.648966136229544,7.614116322650496,7.583865445053283,7.61045702363527,7.604279872296177,7.640933226287401,7.509152543722927,7.427637585710023,7.174067580614987,6.862888948887686,6.5982669543882,6.387112909327733,6.274006141656544,6.291418615452134,6.3678235420993525,6.567095936716435,6.75381547860983,7.030380418434776,7.263061675525217,7.541058482480463,7.583466258352046,7.63464968310873,7.668839849102616,7.595685963417762,7.546989847032561,7.523099618479209,7.533117860292139,7.536533409396752,7.5869205221465785,7.534470739109008,7.5812810461541345,7.430305897996061,7.2304899093627455,6.938829379327639,6.673077087014922,6.454367492695701,6.456050826434828,6.4370782046535275,6.559811915000417,6.732639393495712,7.008758837824832,7.293236892040415,7.538692150490297,7.7056570813710685,7.951604282570488,7.9037366098203785,7.9336501566577935,7.859662437174244,7.856908760050622,7.817910904077456,7.843316714139237,7.861235392067449,7.886933450827516,7.9427787087002075,7.873621801731081,7.7399493520212035,7.578807334433787,7.278787630622442,6.937797262043482,6.882075771576055,6.709140333073612,6.719764752307952,6.78513175777422,7.090490192199847,7.228699481912163,7.573167439891355,7.839566111671068,8.021561284544514,8.192071175527504,8.211900881902487,8.204447392025433,8.152457240090607,8.080956090590437,8.105258705453558,8.109532039885313,8.174550197193682,8.191703012822282,8.230693571013866,8.214232012601522,8.081823435205814,7.83339430299523,7.499206690844075,7.304528448692243,7.1218420594995315,6.984290205790167,7.0436102885585035,7.093723044373561,7.352685499667454,7.561943341529462,7.819311178652727,8.163799414031173,8.357258387321258,8.449158200517523,8.533320679069668,8.507386978114198,8.452345571321034,8.479650890295693,8.420679501248166,8.419396731307017,8.467953934056567,8.459522575253688,8.578282436321837,8.470147706353698,8.338689791885463,8.187355450034053,7.851959281418956,7.598808521707276,7.397865375816139,7.284467940102862,7.315209446251719,7.417487555739911,7.671979478782009,7.895430801310992,8.116500759455013,8.460624993468015,8.633675780997994,8.773415228818116,8.796628941692305,8.773944426380238,8.78383222101236,8.783313620423659,8.719008232007885,8.74669579348292,8.775679899281318,8.729842505661624,8.851526099078747,8.772240316946204,8.725548968711053,8.530400583427777,8.124800145412012,7.890980016260053,7.676966663403138,7.62607577823605,7.631764788925918,7.780881960963295,7.979289262855113,8.124430469982574,8.471138996072499,8.722932882900357,8.954157407864031,9.15244042764441,9.102351831989532,9.158977740196159,9.07667715170543,9.035762831894115,9.08307027223389,9.019274508846635,9.053505964392958,9.138570685183545,9.136299561668881,9.152576314521268,9.044203388752846,8.756326349149061,8.494294179798434,8.251073140439301,7.994571205727896,7.966925152644957,7.993448461978791,8.0841824736993,8.296332940274823,8.511903890009377,8.841246345241132,9.086185246331821,9.299010600121264,9.446065392778465,9.510565885037998,9.408400609380362,9.402748974378952,9.383343160117919,9.434224356415253,9.416318938464883,9.428274077031334,9.563990589333331,9.49583981629583,9.528085881480534,9.388526792225093,9.114416486645485,8.902564869571977,8.585559890295546,8.406540664032239,8.410035248581993,8.359912553160706,8.453156096502562,8.621552759213433,8.880312194397202,9.27858094783466,9.41215217109189,9.733802930213542,9.784634983323102,9.873720914458362,9.90414502531399,9.821252474962618,9.803331138710012,9.808554732069778,9.834419573766061,9.861750844686735,9.936206957121872,9.94143487217053,9.879824032257599,9.79327085930859,9.554022104276116],\"type\":\"scatter\"}],                        {\"height\":600,\"showlegend\":false,\"width\":900,\"xaxis\":{\"rangeselector\":{\"buttons\":[{\"count\":7,\"label\":\"1w\",\"step\":\"day\",\"stepmode\":\"backward\"},{\"count\":1,\"label\":\"1m\",\"step\":\"month\",\"stepmode\":\"backward\"},{\"count\":6,\"label\":\"6m\",\"step\":\"month\",\"stepmode\":\"backward\"},{\"count\":1,\"label\":\"1y\",\"step\":\"year\",\"stepmode\":\"backward\"},{\"step\":\"all\"}]},\"rangeslider\":{\"visible\":true},\"title\":{\"text\":\"ds\"},\"type\":\"date\"},\"yaxis\":{\"title\":{\"text\":\"y\"}},\"template\":{\"data\":{\"bar\":[{\"error_x\":{\"color\":\"#2a3f5f\"},\"error_y\":{\"color\":\"#2a3f5f\"},\"marker\":{\"line\":{\"color\":\"#E5ECF6\",\"width\":0.5},\"pattern\":{\"fillmode\":\"overlay\",\"size\":10,\"solidity\":0.2}},\"type\":\"bar\"}],\"barpolar\":[{\"marker\":{\"line\":{\"color\":\"#E5ECF6\",\"width\":0.5},\"pattern\":{\"fillmode\":\"overlay\",\"size\":10,\"solidity\":0.2}},\"type\":\"barpolar\"}],\"carpet\":[{\"aaxis\":{\"endlinecolor\":\"#2a3f5f\",\"gridcolor\":\"white\",\"linecolor\":\"white\",\"minorgridcolor\":\"white\",\"startlinecolor\":\"#2a3f5f\"},\"baxis\":{\"endlinecolor\":\"#2a3f5f\",\"gridcolor\":\"white\",\"linecolor\":\"white\",\"minorgridcolor\":\"white\",\"startlinecolor\":\"#2a3f5f\"},\"type\":\"carpet\"}],\"choropleth\":[{\"colorbar\":{\"outlinewidth\":0,\"ticks\":\"\"},\"type\":\"choropleth\"}],\"contour\":[{\"colorbar\":{\"outlinewidth\":0,\"ticks\":\"\"},\"colorscale\":[[0.0,\"#0d0887\"],[0.1111111111111111,\"#46039f\"],[0.2222222222222222,\"#7201a8\"],[0.3333333333333333,\"#9c179e\"],[0.4444444444444444,\"#bd3786\"],[0.5555555555555556,\"#d8576b\"],[0.6666666666666666,\"#ed7953\"],[0.7777777777777778,\"#fb9f3a\"],[0.8888888888888888,\"#fdca26\"],[1.0,\"#f0f921\"]],\"type\":\"contour\"}],\"contourcarpet\":[{\"colorbar\":{\"outlinewidth\":0,\"ticks\":\"\"},\"type\":\"contourcarpet\"}],\"heatmap\":[{\"colorbar\":{\"outlinewidth\":0,\"ticks\":\"\"},\"colorscale\":[[0.0,\"#0d0887\"],[0.1111111111111111,\"#46039f\"],[0.2222222222222222,\"#7201a8\"],[0.3333333333333333,\"#9c179e\"],[0.4444444444444444,\"#bd3786\"],[0.5555555555555556,\"#d8576b\"],[0.6666666666666666,\"#ed7953\"],[0.7777777777777778,\"#fb9f3a\"],[0.8888888888888888,\"#fdca26\"],[1.0,\"#f0f921\"]],\"type\":\"heatmap\"}],\"heatmapgl\":[{\"colorbar\":{\"outlinewidth\":0,\"ticks\":\"\"},\"colorscale\":[[0.0,\"#0d0887\"],[0.1111111111111111,\"#46039f\"],[0.2222222222222222,\"#7201a8\"],[0.3333333333333333,\"#9c179e\"],[0.4444444444444444,\"#bd3786\"],[0.5555555555555556,\"#d8576b\"],[0.6666666666666666,\"#ed7953\"],[0.7777777777777778,\"#fb9f3a\"],[0.8888888888888888,\"#fdca26\"],[1.0,\"#f0f921\"]],\"type\":\"heatmapgl\"}],\"histogram\":[{\"marker\":{\"pattern\":{\"fillmode\":\"overlay\",\"size\":10,\"solidity\":0.2}},\"type\":\"histogram\"}],\"histogram2d\":[{\"colorbar\":{\"outlinewidth\":0,\"ticks\":\"\"},\"colorscale\":[[0.0,\"#0d0887\"],[0.1111111111111111,\"#46039f\"],[0.2222222222222222,\"#7201a8\"],[0.3333333333333333,\"#9c179e\"],[0.4444444444444444,\"#bd3786\"],[0.5555555555555556,\"#d8576b\"],[0.6666666666666666,\"#ed7953\"],[0.7777777777777778,\"#fb9f3a\"],[0.8888888888888888,\"#fdca26\"],[1.0,\"#f0f921\"]],\"type\":\"histogram2d\"}],\"histogram2dcontour\":[{\"colorbar\":{\"outlinewidth\":0,\"ticks\":\"\"},\"colorscale\":[[0.0,\"#0d0887\"],[0.1111111111111111,\"#46039f\"],[0.2222222222222222,\"#7201a8\"],[0.3333333333333333,\"#9c179e\"],[0.4444444444444444,\"#bd3786\"],[0.5555555555555556,\"#d8576b\"],[0.6666666666666666,\"#ed7953\"],[0.7777777777777778,\"#fb9f3a\"],[0.8888888888888888,\"#fdca26\"],[1.0,\"#f0f921\"]],\"type\":\"histogram2dcontour\"}],\"mesh3d\":[{\"colorbar\":{\"outlinewidth\":0,\"ticks\":\"\"},\"type\":\"mesh3d\"}],\"parcoords\":[{\"line\":{\"colorbar\":{\"outlinewidth\":0,\"ticks\":\"\"}},\"type\":\"parcoords\"}],\"pie\":[{\"automargin\":true,\"type\":\"pie\"}],\"scatter\":[{\"marker\":{\"colorbar\":{\"outlinewidth\":0,\"ticks\":\"\"}},\"type\":\"scatter\"}],\"scatter3d\":[{\"line\":{\"colorbar\":{\"outlinewidth\":0,\"ticks\":\"\"}},\"marker\":{\"colorbar\":{\"outlinewidth\":0,\"ticks\":\"\"}},\"type\":\"scatter3d\"}],\"scattercarpet\":[{\"marker\":{\"colorbar\":{\"outlinewidth\":0,\"ticks\":\"\"}},\"type\":\"scattercarpet\"}],\"scattergeo\":[{\"marker\":{\"colorbar\":{\"outlinewidth\":0,\"ticks\":\"\"}},\"type\":\"scattergeo\"}],\"scattergl\":[{\"marker\":{\"colorbar\":{\"outlinewidth\":0,\"ticks\":\"\"}},\"type\":\"scattergl\"}],\"scattermapbox\":[{\"marker\":{\"colorbar\":{\"outlinewidth\":0,\"ticks\":\"\"}},\"type\":\"scattermapbox\"}],\"scatterpolar\":[{\"marker\":{\"colorbar\":{\"outlinewidth\":0,\"ticks\":\"\"}},\"type\":\"scatterpolar\"}],\"scatterpolargl\":[{\"marker\":{\"colorbar\":{\"outlinewidth\":0,\"ticks\":\"\"}},\"type\":\"scatterpolargl\"}],\"scatterternary\":[{\"marker\":{\"colorbar\":{\"outlinewidth\":0,\"ticks\":\"\"}},\"type\":\"scatterternary\"}],\"surface\":[{\"colorbar\":{\"outlinewidth\":0,\"ticks\":\"\"},\"colorscale\":[[0.0,\"#0d0887\"],[0.1111111111111111,\"#46039f\"],[0.2222222222222222,\"#7201a8\"],[0.3333333333333333,\"#9c179e\"],[0.4444444444444444,\"#bd3786\"],[0.5555555555555556,\"#d8576b\"],[0.6666666666666666,\"#ed7953\"],[0.7777777777777778,\"#fb9f3a\"],[0.8888888888888888,\"#fdca26\"],[1.0,\"#f0f921\"]],\"type\":\"surface\"}],\"table\":[{\"cells\":{\"fill\":{\"color\":\"#EBF0F8\"},\"line\":{\"color\":\"white\"}},\"header\":{\"fill\":{\"color\":\"#C8D4E3\"},\"line\":{\"color\":\"white\"}},\"type\":\"table\"}]},\"layout\":{\"annotationdefaults\":{\"arrowcolor\":\"#2a3f5f\",\"arrowhead\":0,\"arrowwidth\":1},\"autotypenumbers\":\"strict\",\"coloraxis\":{\"colorbar\":{\"outlinewidth\":0,\"ticks\":\"\"}},\"colorscale\":{\"diverging\":[[0,\"#8e0152\"],[0.1,\"#c51b7d\"],[0.2,\"#de77ae\"],[0.3,\"#f1b6da\"],[0.4,\"#fde0ef\"],[0.5,\"#f7f7f7\"],[0.6,\"#e6f5d0\"],[0.7,\"#b8e186\"],[0.8,\"#7fbc41\"],[0.9,\"#4d9221\"],[1,\"#276419\"]],\"sequential\":[[0.0,\"#0d0887\"],[0.1111111111111111,\"#46039f\"],[0.2222222222222222,\"#7201a8\"],[0.3333333333333333,\"#9c179e\"],[0.4444444444444444,\"#bd3786\"],[0.5555555555555556,\"#d8576b\"],[0.6666666666666666,\"#ed7953\"],[0.7777777777777778,\"#fb9f3a\"],[0.8888888888888888,\"#fdca26\"],[1.0,\"#f0f921\"]],\"sequentialminus\":[[0.0,\"#0d0887\"],[0.1111111111111111,\"#46039f\"],[0.2222222222222222,\"#7201a8\"],[0.3333333333333333,\"#9c179e\"],[0.4444444444444444,\"#bd3786\"],[0.5555555555555556,\"#d8576b\"],[0.6666666666666666,\"#ed7953\"],[0.7777777777777778,\"#fb9f3a\"],[0.8888888888888888,\"#fdca26\"],[1.0,\"#f0f921\"]]},\"colorway\":[\"#636efa\",\"#EF553B\",\"#00cc96\",\"#ab63fa\",\"#FFA15A\",\"#19d3f3\",\"#FF6692\",\"#B6E880\",\"#FF97FF\",\"#FECB52\"],\"font\":{\"color\":\"#2a3f5f\"},\"geo\":{\"bgcolor\":\"white\",\"lakecolor\":\"white\",\"landcolor\":\"#E5ECF6\",\"showlakes\":true,\"showland\":true,\"subunitcolor\":\"white\"},\"hoverlabel\":{\"align\":\"left\"},\"hovermode\":\"closest\",\"mapbox\":{\"style\":\"light\"},\"paper_bgcolor\":\"white\",\"plot_bgcolor\":\"#E5ECF6\",\"polar\":{\"angularaxis\":{\"gridcolor\":\"white\",\"linecolor\":\"white\",\"ticks\":\"\"},\"bgcolor\":\"#E5ECF6\",\"radialaxis\":{\"gridcolor\":\"white\",\"linecolor\":\"white\",\"ticks\":\"\"}},\"scene\":{\"xaxis\":{\"backgroundcolor\":\"#E5ECF6\",\"gridcolor\":\"white\",\"gridwidth\":2,\"linecolor\":\"white\",\"showbackground\":true,\"ticks\":\"\",\"zerolinecolor\":\"white\"},\"yaxis\":{\"backgroundcolor\":\"#E5ECF6\",\"gridcolor\":\"white\",\"gridwidth\":2,\"linecolor\":\"white\",\"showbackground\":true,\"ticks\":\"\",\"zerolinecolor\":\"white\"},\"zaxis\":{\"backgroundcolor\":\"#E5ECF6\",\"gridcolor\":\"white\",\"gridwidth\":2,\"linecolor\":\"white\",\"showbackground\":true,\"ticks\":\"\",\"zerolinecolor\":\"white\"}},\"shapedefaults\":{\"line\":{\"color\":\"#2a3f5f\"}},\"ternary\":{\"aaxis\":{\"gridcolor\":\"white\",\"linecolor\":\"white\",\"ticks\":\"\"},\"baxis\":{\"gridcolor\":\"white\",\"linecolor\":\"white\",\"ticks\":\"\"},\"bgcolor\":\"#E5ECF6\",\"caxis\":{\"gridcolor\":\"white\",\"linecolor\":\"white\",\"ticks\":\"\"}},\"title\":{\"x\":0.05},\"xaxis\":{\"automargin\":true,\"gridcolor\":\"white\",\"linecolor\":\"white\",\"ticks\":\"\",\"title\":{\"standoff\":15},\"zerolinecolor\":\"white\",\"zerolinewidth\":2},\"yaxis\":{\"automargin\":true,\"gridcolor\":\"white\",\"linecolor\":\"white\",\"ticks\":\"\",\"title\":{\"standoff\":15},\"zerolinecolor\":\"white\",\"zerolinewidth\":2}}}},                        {\"responsive\": true}                    ).then(function(){\n",
              "                            \n",
              "var gd = document.getElementById('e6115ca0-aa24-4c3b-b6d3-cb395266ee5e');\n",
              "var x = new MutationObserver(function (mutations, observer) {{\n",
              "        var display = window.getComputedStyle(gd).display;\n",
              "        if (!display || display === 'none') {{\n",
              "            console.log([gd, 'removed!']);\n",
              "            Plotly.purge(gd);\n",
              "            observer.disconnect();\n",
              "        }}\n",
              "}});\n",
              "\n",
              "// Listen for the removal of the full notebook cells\n",
              "var notebookContainer = gd.closest('#notebook-container');\n",
              "if (notebookContainer) {{\n",
              "    x.observe(notebookContainer, {childList: true});\n",
              "}}\n",
              "\n",
              "// Listen for the clearing of the current output cell\n",
              "var outputEl = gd.closest('.output');\n",
              "if (outputEl) {{\n",
              "    x.observe(outputEl, {childList: true});\n",
              "}}\n",
              "\n",
              "                        })                };                            </script>        </div>\n",
              "</body>\n",
              "</html>"
            ]
          },
          "metadata": {}
        }
      ]
    },
    {
      "cell_type": "code",
      "source": [
        "\n"
      ],
      "metadata": {
        "id": "YssiHltp0l87",
        "colab": {
          "base_uri": "https://localhost:8080/",
          "height": 417
        },
        "outputId": "71856c96-786e-4508-b3a7-42e3089d3439"
      },
      "execution_count": 99,
      "outputs": [
        {
          "output_type": "display_data",
          "data": {
            "text/html": [
              "<html>\n",
              "<head><meta charset=\"utf-8\" /></head>\n",
              "<body>\n",
              "    <div>            <script src=\"https://cdnjs.cloudflare.com/ajax/libs/mathjax/2.7.5/MathJax.js?config=TeX-AMS-MML_SVG\"></script><script type=\"text/javascript\">if (window.MathJax) {MathJax.Hub.Config({SVG: {font: \"STIX-Web\"}});}</script>                <script type=\"text/javascript\">window.PlotlyConfig = {MathJaxConfig: 'local'};</script>\n",
              "        <script src=\"https://cdn.plot.ly/plotly-2.8.3.min.js\"></script>                <div id=\"b99464de-3239-4847-bd8a-a4e82334b623\" class=\"plotly-graph-div\" style=\"height:400px; width:900px;\"></div>            <script type=\"text/javascript\">                                    window.PLOTLYENV=window.PLOTLYENV || {};                                    if (document.getElementById(\"b99464de-3239-4847-bd8a-a4e82334b623\")) {                    Plotly.newPlot(                        \"b99464de-3239-4847-bd8a-a4e82334b623\",                        [{\"line\":{\"color\":\"#0072B2\",\"width\":2},\"mode\":\"lines\",\"name\":\"trend\",\"x\":[\"2022-10-02T14:00:00\",\"2022-10-02T15:00:00\",\"2022-10-02T16:00:00\",\"2022-10-02T17:00:00\",\"2022-10-02T18:00:00\",\"2022-10-02T19:00:00\",\"2022-10-02T20:00:00\",\"2022-10-02T21:00:00\",\"2022-10-02T22:00:00\",\"2022-10-02T23:00:00\",\"2022-10-03T00:00:00\",\"2022-10-03T01:00:00\",\"2022-10-03T02:00:00\",\"2022-10-03T03:00:00\",\"2022-10-03T04:00:00\",\"2022-10-03T05:00:00\",\"2022-10-03T06:00:00\",\"2022-10-03T07:00:00\",\"2022-10-03T08:00:00\",\"2022-10-03T09:00:00\",\"2022-10-03T10:00:00\",\"2022-10-03T11:00:00\",\"2022-10-03T12:00:00\",\"2022-10-03T13:00:00\",\"2022-10-03T14:00:00\",\"2022-10-03T15:00:00\",\"2022-10-03T16:00:00\",\"2022-10-03T17:00:00\",\"2022-10-03T18:00:00\",\"2022-10-03T19:00:00\",\"2022-10-03T20:00:00\",\"2022-10-03T21:00:00\",\"2022-10-03T22:00:00\",\"2022-10-03T23:00:00\",\"2022-10-04T00:00:00\",\"2022-10-04T01:00:00\",\"2022-10-04T02:00:00\",\"2022-10-04T03:00:00\",\"2022-10-04T04:00:00\",\"2022-10-04T05:00:00\",\"2022-10-04T06:00:00\",\"2022-10-04T07:00:00\",\"2022-10-04T08:00:00\",\"2022-10-04T09:00:00\",\"2022-10-04T10:00:00\",\"2022-10-04T11:00:00\",\"2022-10-04T12:00:00\",\"2022-10-04T13:00:00\",\"2022-10-04T14:00:00\",\"2022-10-04T15:00:00\",\"2022-10-04T16:00:00\",\"2022-10-04T17:00:00\",\"2022-10-04T18:00:00\",\"2022-10-04T19:00:00\",\"2022-10-04T20:00:00\",\"2022-10-04T21:00:00\",\"2022-10-04T22:00:00\",\"2022-10-04T23:00:00\",\"2022-10-05T00:00:00\",\"2022-10-05T01:00:00\",\"2022-10-05T02:00:00\",\"2022-10-05T03:00:00\",\"2022-10-05T04:00:00\",\"2022-10-05T05:00:00\",\"2022-10-05T06:00:00\",\"2022-10-05T07:00:00\",\"2022-10-05T08:00:00\",\"2022-10-05T09:00:00\",\"2022-10-05T10:00:00\",\"2022-10-05T11:00:00\",\"2022-10-05T12:00:00\",\"2022-10-05T13:00:00\",\"2022-10-05T14:00:00\",\"2022-10-05T15:00:00\",\"2022-10-05T16:00:00\",\"2022-10-05T17:00:00\",\"2022-10-05T18:00:00\",\"2022-10-05T19:00:00\",\"2022-10-05T20:00:00\",\"2022-10-05T21:00:00\",\"2022-10-05T22:00:00\",\"2022-10-05T23:00:00\",\"2022-10-06T00:00:00\",\"2022-10-06T01:00:00\",\"2022-10-06T02:00:00\",\"2022-10-06T03:00:00\",\"2022-10-06T04:00:00\",\"2022-10-06T05:00:00\",\"2022-10-06T06:00:00\",\"2022-10-06T07:00:00\",\"2022-10-06T08:00:00\",\"2022-10-06T09:00:00\",\"2022-10-06T10:00:00\",\"2022-10-06T11:00:00\",\"2022-10-06T12:00:00\",\"2022-10-06T13:00:00\",\"2022-10-06T14:00:00\",\"2022-10-06T15:00:00\",\"2022-10-06T16:00:00\",\"2022-10-06T17:00:00\",\"2022-10-06T18:00:00\",\"2022-10-06T19:00:00\",\"2022-10-06T20:00:00\",\"2022-10-06T21:00:00\",\"2022-10-06T22:00:00\",\"2022-10-06T23:00:00\",\"2022-10-07T00:00:00\",\"2022-10-07T01:00:00\",\"2022-10-07T02:00:00\",\"2022-10-07T03:00:00\",\"2022-10-07T04:00:00\",\"2022-10-07T05:00:00\",\"2022-10-07T06:00:00\",\"2022-10-07T07:00:00\",\"2022-10-07T08:00:00\",\"2022-10-07T09:00:00\",\"2022-10-07T10:00:00\",\"2022-10-07T11:00:00\",\"2022-10-07T12:00:00\",\"2022-10-07T13:00:00\",\"2022-10-07T14:00:00\",\"2022-10-07T15:00:00\",\"2022-10-07T16:00:00\",\"2022-10-07T17:00:00\",\"2022-10-07T18:00:00\",\"2022-10-07T19:00:00\",\"2022-10-07T20:00:00\",\"2022-10-07T21:00:00\",\"2022-10-07T22:00:00\",\"2022-10-07T23:00:00\",\"2022-10-08T00:00:00\",\"2022-10-08T01:00:00\",\"2022-10-08T02:00:00\",\"2022-10-08T03:00:00\",\"2022-10-08T04:00:00\",\"2022-10-08T05:00:00\",\"2022-10-08T06:00:00\",\"2022-10-08T07:00:00\",\"2022-10-08T08:00:00\",\"2022-10-08T09:00:00\",\"2022-10-08T10:00:00\",\"2022-10-08T11:00:00\",\"2022-10-08T12:00:00\",\"2022-10-08T13:00:00\",\"2022-10-08T14:00:00\",\"2022-10-08T15:00:00\",\"2022-10-08T16:00:00\",\"2022-10-08T17:00:00\",\"2022-10-08T18:00:00\",\"2022-10-08T19:00:00\",\"2022-10-08T20:00:00\",\"2022-10-08T21:00:00\",\"2022-10-08T22:00:00\",\"2022-10-08T23:00:00\",\"2022-10-09T00:00:00\",\"2022-10-09T01:00:00\",\"2022-10-09T02:00:00\",\"2022-10-09T03:00:00\",\"2022-10-09T04:00:00\",\"2022-10-09T05:00:00\",\"2022-10-09T06:00:00\",\"2022-10-09T07:00:00\",\"2022-10-09T08:00:00\",\"2022-10-09T09:00:00\",\"2022-10-09T10:00:00\",\"2022-10-09T11:00:00\",\"2022-10-09T12:00:00\",\"2022-10-09T13:00:00\",\"2022-10-09T14:00:00\",\"2022-10-09T15:00:00\",\"2022-10-09T16:00:00\",\"2022-10-09T17:00:00\",\"2022-10-09T18:00:00\",\"2022-10-09T19:00:00\",\"2022-10-09T20:00:00\",\"2022-10-09T21:00:00\",\"2022-10-09T22:00:00\",\"2022-10-09T23:00:00\",\"2022-10-10T00:00:00\",\"2022-10-10T01:00:00\",\"2022-10-10T02:00:00\",\"2022-10-10T03:00:00\",\"2022-10-10T04:00:00\",\"2022-10-10T05:00:00\",\"2022-10-10T06:00:00\",\"2022-10-10T07:00:00\",\"2022-10-10T08:00:00\",\"2022-10-10T09:00:00\",\"2022-10-10T10:00:00\",\"2022-10-10T11:00:00\",\"2022-10-10T12:00:00\",\"2022-10-10T13:00:00\",\"2022-10-10T14:00:00\",\"2022-10-10T15:00:00\",\"2022-10-10T16:00:00\",\"2022-10-10T17:00:00\",\"2022-10-10T18:00:00\",\"2022-10-10T19:00:00\",\"2022-10-10T20:00:00\",\"2022-10-10T21:00:00\",\"2022-10-10T22:00:00\",\"2022-10-10T23:00:00\",\"2022-10-11T00:00:00\",\"2022-10-11T01:00:00\",\"2022-10-11T02:00:00\",\"2022-10-11T03:00:00\",\"2022-10-11T04:00:00\",\"2022-10-11T05:00:00\",\"2022-10-11T06:00:00\",\"2022-10-11T07:00:00\",\"2022-10-11T08:00:00\",\"2022-10-11T09:00:00\",\"2022-10-11T10:00:00\",\"2022-10-11T11:00:00\",\"2022-10-11T12:00:00\",\"2022-10-11T13:00:00\",\"2022-10-11T14:00:00\",\"2022-10-11T15:00:00\",\"2022-10-11T16:00:00\",\"2022-10-11T17:00:00\",\"2022-10-11T18:00:00\",\"2022-10-11T19:00:00\",\"2022-10-11T20:00:00\",\"2022-10-11T21:00:00\",\"2022-10-11T22:00:00\",\"2022-10-11T23:00:00\",\"2022-10-12T00:00:00\",\"2022-10-12T01:00:00\",\"2022-10-12T02:00:00\",\"2022-10-12T03:00:00\",\"2022-10-12T04:00:00\",\"2022-10-12T05:00:00\",\"2022-10-12T06:00:00\",\"2022-10-12T07:00:00\",\"2022-10-12T08:00:00\",\"2022-10-12T09:00:00\",\"2022-10-12T10:00:00\",\"2022-10-12T11:00:00\",\"2022-10-12T12:00:00\",\"2022-10-12T13:00:00\",\"2022-10-12T14:00:00\",\"2022-10-12T15:00:00\",\"2022-10-12T16:00:00\",\"2022-10-12T17:00:00\",\"2022-10-12T18:00:00\",\"2022-10-12T19:00:00\",\"2022-10-12T20:00:00\",\"2022-10-12T21:00:00\",\"2022-10-12T22:00:00\",\"2022-10-12T23:00:00\",\"2022-10-13T00:00:00\",\"2022-10-13T01:00:00\",\"2022-10-13T02:00:00\",\"2022-10-13T03:00:00\",\"2022-10-13T04:00:00\",\"2022-10-13T05:00:00\",\"2022-10-13T06:00:00\",\"2022-10-13T07:00:00\",\"2022-10-13T08:00:00\",\"2022-10-13T09:00:00\",\"2022-10-13T10:00:00\",\"2022-10-13T11:00:00\",\"2022-10-13T12:00:00\",\"2022-10-13T13:00:00\",\"2022-10-13T14:00:00\",\"2022-10-13T15:00:00\",\"2022-10-13T16:00:00\",\"2022-10-13T17:00:00\",\"2022-10-13T18:00:00\",\"2022-10-13T19:00:00\",\"2022-10-13T20:00:00\",\"2022-10-13T21:00:00\",\"2022-10-13T22:00:00\",\"2022-10-13T23:00:00\",\"2022-10-14T00:00:00\",\"2022-10-14T01:00:00\",\"2022-10-14T02:00:00\",\"2022-10-14T03:00:00\",\"2022-10-14T04:00:00\",\"2022-10-14T05:00:00\",\"2022-10-14T06:00:00\",\"2022-10-14T07:00:00\",\"2022-10-14T08:00:00\",\"2022-10-14T09:00:00\",\"2022-10-14T10:00:00\",\"2022-10-14T11:00:00\",\"2022-10-14T12:00:00\",\"2022-10-14T13:00:00\",\"2022-10-14T14:00:00\",\"2022-10-14T15:00:00\",\"2022-10-14T16:00:00\",\"2022-10-14T17:00:00\",\"2022-10-14T18:00:00\",\"2022-10-14T19:00:00\",\"2022-10-14T20:00:00\",\"2022-10-14T21:00:00\",\"2022-10-14T22:00:00\",\"2022-10-14T23:00:00\",\"2022-10-15T00:00:00\",\"2022-10-15T01:00:00\",\"2022-10-15T02:00:00\",\"2022-10-15T03:00:00\",\"2022-10-15T04:00:00\",\"2022-10-15T05:00:00\",\"2022-10-15T06:00:00\",\"2022-10-15T07:00:00\",\"2022-10-15T08:00:00\",\"2022-10-15T09:00:00\",\"2022-10-15T10:00:00\",\"2022-10-15T11:00:00\",\"2022-10-15T12:00:00\",\"2022-10-15T13:00:00\",\"2022-10-15T14:00:00\",\"2022-10-15T15:00:00\",\"2022-10-15T16:00:00\",\"2022-10-15T17:00:00\",\"2022-10-15T18:00:00\",\"2022-10-15T19:00:00\",\"2022-10-15T20:00:00\",\"2022-10-15T21:00:00\",\"2022-10-15T22:00:00\",\"2022-10-15T23:00:00\",\"2022-10-16T00:00:00\",\"2022-10-16T01:00:00\",\"2022-10-16T02:00:00\",\"2022-10-16T03:00:00\",\"2022-10-16T04:00:00\",\"2022-10-16T05:00:00\",\"2022-10-16T06:00:00\",\"2022-10-16T07:00:00\",\"2022-10-16T08:00:00\",\"2022-10-16T09:00:00\",\"2022-10-16T10:00:00\",\"2022-10-16T11:00:00\",\"2022-10-16T12:00:00\",\"2022-10-16T13:00:00\",\"2022-10-16T14:00:00\",\"2022-10-16T15:00:00\",\"2022-10-16T16:00:00\",\"2022-10-16T17:00:00\",\"2022-10-16T18:00:00\",\"2022-10-16T19:00:00\",\"2022-10-16T20:00:00\",\"2022-10-16T21:00:00\",\"2022-10-16T22:00:00\",\"2022-10-16T23:00:00\"],\"y\":[6.011668800000001,6.030303310843374,6.0489378216867475,6.067572332530121,6.086206843373494,6.104841354216868,6.123475865060241,6.142110375903615,6.160744886746988,6.179379399395986,6.198013912044984,6.2166484246939815,6.23528293734298,6.2539174499919765,6.272551962640975,6.291186475289972,6.30982098793897,6.328455500419071,6.347090012899169,6.36572452537927,6.38435903785937,6.402993550339469,6.421628062819569,6.440262575299668,6.458897087779769,6.477531599240683,6.496166110701599,6.514800622162512,6.533435133623426,6.552069645084342,6.570704156545255,6.589338668006169,6.607973179467083,6.626607690952864,6.645242202438643,6.663876713924425,6.682511225410204,6.701145736895985,6.719780248381764,6.738414759867545,6.757049271353324,6.775683782140567,6.794318292927809,6.81295280371505,6.8315873145022925,6.850221825289534,6.868856336076775,6.887490846864019,6.90612535765126,6.924732882602357,6.943340407553454,6.961947932504552,6.980555457455649,6.999162982406746,7.017770507357843,7.03637803230894,7.0549855572600375,7.071722639319569,7.0884597213791,7.1051968034386315,7.121933885498161,7.138670967557692,7.155408049617224,7.172145131676754,7.188882213736286,7.193621573707464,7.198360933678641,7.203100293649818,7.207839653620996,7.212579013592174,7.217318373563351,7.222057733534529,7.226797093505707,7.221430403677687,7.2160637138496675,7.210697024021648,7.205330334193629,7.199963644365611,7.19459695453759,7.189230264709571,7.183863574881553,7.174019324732249,7.164175074582944,7.1543308244336385,7.144486574284335,7.13464232413503,7.124798073985727,7.114953823836422,7.105109573687119,7.095264052692192,7.085418531697265,7.075573010702338,7.065727489707411,7.055881968712484,7.046036447717558,7.0361909267226315,7.026345405727704,7.016499804544117,7.006654203360533,6.996808602176946,6.986963000993362,6.977117399809775,6.967271798626191,6.957426197442604,6.947580587211302,6.937734976979999,6.927889366748695,6.918043756517393,6.9081981462860895,6.898352536054787,6.888506925823484,6.878661315592183,6.868815705263155,6.858970094934127,6.849124484605099,6.83927887427607,6.829433263947042,6.819587653618014,6.809742043288985,6.799896432959956,6.790050822770571,6.780205212581185,6.7703596023918,6.760513992202414,6.750668382013028,6.740822771823643,6.730977161634256,6.721131551444871,6.711285942123665,6.701440332802458,6.691594723481251,6.681749114160045,6.671903504838838,6.6620578955176315,6.652212286196425,6.64236667687522,6.632521067386661,6.6226754578981035,6.612829848409545,6.602984238920987,6.593138629432429,6.583293019943871,6.573447410455312,6.5636018009667545,6.553756193537468,6.54391058610818,6.534064978678893,6.524219371249607,6.514373763820322,6.504528156391035,6.494682548961748,6.4848369415324605,6.4774817670349005,6.470126592537341,6.462771418039781,6.4554162435422215,6.448061069044662,6.440705894547102,6.433350720049542,6.425995545551983,6.426326229688961,6.426656913825939,6.426987597962918,6.427318282099896,6.427648966236875,6.427979650373853,6.42831033451083,6.4286410186478085,6.438127534110088,6.447614049572369,6.457100565034647,6.466587080496927,6.476073595959206,6.485560111421486,6.495046626883765,6.504533142346046,6.517054639977,6.529576137607953,6.542097635238908,6.554619132869862,6.567140630500816,6.579662128131771,6.5921836257627255,6.604705123393679,6.617226621714721,6.629748120035762,6.642269618356805,6.654791116677846,6.667312614998888,6.679834113319929,6.692355611640971,6.704877109962013,6.717398608015505,6.729920106068998,6.74244160412249,6.754963102175982,6.7674846002294755,6.780006098282967,6.792527596336461,6.805049094389952,6.817566963446497,6.830084832503042,6.842602701559587,6.855120570616132,6.867638439672676,6.880156308729221,6.892674177785766,6.905192046842311,6.917709915898854,6.930227784955399,6.942745654011944,6.9552635230684885,6.967781392125033,6.980299261181578,6.992817130238123,7.005334999294667,7.017852868351212,7.030370737407757,7.0428886064643015,7.055406475520846,7.067924344577391,7.080442213633936,7.092960082690481,7.105477951747026,7.1179958208035705,7.130513689860115,7.14303155891666,7.155549427973205,7.168067297029748,7.180585166086293,7.193103035142838,7.205620904199383,7.2181387732559275,7.230656642312472,7.243174511369017,7.255692380425561,7.268210249482106,7.280728118538651,7.293245987595196,7.30576385665174,7.318281725708285,7.33079959476483,7.343317463821375,7.35583533287792,7.368353201934465,7.3808710709910095,7.3933889400475525,7.405906809104097,7.418424678160642,7.430942547217187,7.443460416273732,7.455978285330277,7.46849615438682,7.481014023443365,7.4935318924999095,7.506049761556454,7.518567630612999,7.531085499669544,7.543603368726089,7.556121237782634,7.5686391068391785,7.581156975895723,7.593674844952268,7.606192714008813,7.618710583065358,7.631228452121902,7.643746321178447,7.6562641902349915,7.668782059291536,7.681299928348081,7.693817797404624,7.706335666461169,7.718853535517714,7.731371404574259,7.743889273630804,7.756407142687348,7.768925011743893,7.781442880800438,7.793960749856983,7.806478618913528,7.818996487970073,7.8315143570266175,7.844032226083162,7.856550095139706,7.869067964196251,7.881585833252796,7.894103702309341,7.906621571365884,7.919139440422429,7.9316573094789735,7.944175178535518,7.956693047592063,7.969210916648608,7.981728785705153,7.994246654761698,8.006764523818243,8.019282392874787,8.031800261931332,8.044318130987877,8.056836000044422,8.069353869100967,8.08187173815751,8.094389607214055,8.1069074762706,8.119425345327144,8.13194321438369,8.144461083440234,8.156978952496779,8.169496821553324,8.182014690609869,8.194532559666413,8.207050428722958,8.219568297779503,8.232086166836048,8.244604035892593,8.257121904949138,8.269639774005682,8.282157643062227,8.294675512118772,8.307193381175317,8.319711250231862,8.332229119288407,8.344746988344951,8.357264857401494,8.36978272645804,8.382300595514584,8.394818464571129,8.407336333627672,8.419854202684217,8.432372071740762,8.444889940797307,8.457407809853851,8.469925678910396,8.482443547966941,8.494961417023486,8.50747928608003,8.519997155136576,8.53251502419312,8.545032893249665,8.55755076230621,8.570068631362755,8.582586500419298,8.595104369475843,8.607622238532388,8.620140107588933,8.632657976645476],\"type\":\"scatter\",\"xaxis\":\"x\",\"yaxis\":\"y\"},{\"line\":{\"color\":\"rgba(0, 114, 178, 0.2)\",\"width\":0},\"mode\":\"lines\",\"name\":\"trend_upper\",\"x\":[\"2022-10-02T14:00:00\",\"2022-10-02T15:00:00\",\"2022-10-02T16:00:00\",\"2022-10-02T17:00:00\",\"2022-10-02T18:00:00\",\"2022-10-02T19:00:00\",\"2022-10-02T20:00:00\",\"2022-10-02T21:00:00\",\"2022-10-02T22:00:00\",\"2022-10-02T23:00:00\",\"2022-10-03T00:00:00\",\"2022-10-03T01:00:00\",\"2022-10-03T02:00:00\",\"2022-10-03T03:00:00\",\"2022-10-03T04:00:00\",\"2022-10-03T05:00:00\",\"2022-10-03T06:00:00\",\"2022-10-03T07:00:00\",\"2022-10-03T08:00:00\",\"2022-10-03T09:00:00\",\"2022-10-03T10:00:00\",\"2022-10-03T11:00:00\",\"2022-10-03T12:00:00\",\"2022-10-03T13:00:00\",\"2022-10-03T14:00:00\",\"2022-10-03T15:00:00\",\"2022-10-03T16:00:00\",\"2022-10-03T17:00:00\",\"2022-10-03T18:00:00\",\"2022-10-03T19:00:00\",\"2022-10-03T20:00:00\",\"2022-10-03T21:00:00\",\"2022-10-03T22:00:00\",\"2022-10-03T23:00:00\",\"2022-10-04T00:00:00\",\"2022-10-04T01:00:00\",\"2022-10-04T02:00:00\",\"2022-10-04T03:00:00\",\"2022-10-04T04:00:00\",\"2022-10-04T05:00:00\",\"2022-10-04T06:00:00\",\"2022-10-04T07:00:00\",\"2022-10-04T08:00:00\",\"2022-10-04T09:00:00\",\"2022-10-04T10:00:00\",\"2022-10-04T11:00:00\",\"2022-10-04T12:00:00\",\"2022-10-04T13:00:00\",\"2022-10-04T14:00:00\",\"2022-10-04T15:00:00\",\"2022-10-04T16:00:00\",\"2022-10-04T17:00:00\",\"2022-10-04T18:00:00\",\"2022-10-04T19:00:00\",\"2022-10-04T20:00:00\",\"2022-10-04T21:00:00\",\"2022-10-04T22:00:00\",\"2022-10-04T23:00:00\",\"2022-10-05T00:00:00\",\"2022-10-05T01:00:00\",\"2022-10-05T02:00:00\",\"2022-10-05T03:00:00\",\"2022-10-05T04:00:00\",\"2022-10-05T05:00:00\",\"2022-10-05T06:00:00\",\"2022-10-05T07:00:00\",\"2022-10-05T08:00:00\",\"2022-10-05T09:00:00\",\"2022-10-05T10:00:00\",\"2022-10-05T11:00:00\",\"2022-10-05T12:00:00\",\"2022-10-05T13:00:00\",\"2022-10-05T14:00:00\",\"2022-10-05T15:00:00\",\"2022-10-05T16:00:00\",\"2022-10-05T17:00:00\",\"2022-10-05T18:00:00\",\"2022-10-05T19:00:00\",\"2022-10-05T20:00:00\",\"2022-10-05T21:00:00\",\"2022-10-05T22:00:00\",\"2022-10-05T23:00:00\",\"2022-10-06T00:00:00\",\"2022-10-06T01:00:00\",\"2022-10-06T02:00:00\",\"2022-10-06T03:00:00\",\"2022-10-06T04:00:00\",\"2022-10-06T05:00:00\",\"2022-10-06T06:00:00\",\"2022-10-06T07:00:00\",\"2022-10-06T08:00:00\",\"2022-10-06T09:00:00\",\"2022-10-06T10:00:00\",\"2022-10-06T11:00:00\",\"2022-10-06T12:00:00\",\"2022-10-06T13:00:00\",\"2022-10-06T14:00:00\",\"2022-10-06T15:00:00\",\"2022-10-06T16:00:00\",\"2022-10-06T17:00:00\",\"2022-10-06T18:00:00\",\"2022-10-06T19:00:00\",\"2022-10-06T20:00:00\",\"2022-10-06T21:00:00\",\"2022-10-06T22:00:00\",\"2022-10-06T23:00:00\",\"2022-10-07T00:00:00\",\"2022-10-07T01:00:00\",\"2022-10-07T02:00:00\",\"2022-10-07T03:00:00\",\"2022-10-07T04:00:00\",\"2022-10-07T05:00:00\",\"2022-10-07T06:00:00\",\"2022-10-07T07:00:00\",\"2022-10-07T08:00:00\",\"2022-10-07T09:00:00\",\"2022-10-07T10:00:00\",\"2022-10-07T11:00:00\",\"2022-10-07T12:00:00\",\"2022-10-07T13:00:00\",\"2022-10-07T14:00:00\",\"2022-10-07T15:00:00\",\"2022-10-07T16:00:00\",\"2022-10-07T17:00:00\",\"2022-10-07T18:00:00\",\"2022-10-07T19:00:00\",\"2022-10-07T20:00:00\",\"2022-10-07T21:00:00\",\"2022-10-07T22:00:00\",\"2022-10-07T23:00:00\",\"2022-10-08T00:00:00\",\"2022-10-08T01:00:00\",\"2022-10-08T02:00:00\",\"2022-10-08T03:00:00\",\"2022-10-08T04:00:00\",\"2022-10-08T05:00:00\",\"2022-10-08T06:00:00\",\"2022-10-08T07:00:00\",\"2022-10-08T08:00:00\",\"2022-10-08T09:00:00\",\"2022-10-08T10:00:00\",\"2022-10-08T11:00:00\",\"2022-10-08T12:00:00\",\"2022-10-08T13:00:00\",\"2022-10-08T14:00:00\",\"2022-10-08T15:00:00\",\"2022-10-08T16:00:00\",\"2022-10-08T17:00:00\",\"2022-10-08T18:00:00\",\"2022-10-08T19:00:00\",\"2022-10-08T20:00:00\",\"2022-10-08T21:00:00\",\"2022-10-08T22:00:00\",\"2022-10-08T23:00:00\",\"2022-10-09T00:00:00\",\"2022-10-09T01:00:00\",\"2022-10-09T02:00:00\",\"2022-10-09T03:00:00\",\"2022-10-09T04:00:00\",\"2022-10-09T05:00:00\",\"2022-10-09T06:00:00\",\"2022-10-09T07:00:00\",\"2022-10-09T08:00:00\",\"2022-10-09T09:00:00\",\"2022-10-09T10:00:00\",\"2022-10-09T11:00:00\",\"2022-10-09T12:00:00\",\"2022-10-09T13:00:00\",\"2022-10-09T14:00:00\",\"2022-10-09T15:00:00\",\"2022-10-09T16:00:00\",\"2022-10-09T17:00:00\",\"2022-10-09T18:00:00\",\"2022-10-09T19:00:00\",\"2022-10-09T20:00:00\",\"2022-10-09T21:00:00\",\"2022-10-09T22:00:00\",\"2022-10-09T23:00:00\",\"2022-10-10T00:00:00\",\"2022-10-10T01:00:00\",\"2022-10-10T02:00:00\",\"2022-10-10T03:00:00\",\"2022-10-10T04:00:00\",\"2022-10-10T05:00:00\",\"2022-10-10T06:00:00\",\"2022-10-10T07:00:00\",\"2022-10-10T08:00:00\",\"2022-10-10T09:00:00\",\"2022-10-10T10:00:00\",\"2022-10-10T11:00:00\",\"2022-10-10T12:00:00\",\"2022-10-10T13:00:00\",\"2022-10-10T14:00:00\",\"2022-10-10T15:00:00\",\"2022-10-10T16:00:00\",\"2022-10-10T17:00:00\",\"2022-10-10T18:00:00\",\"2022-10-10T19:00:00\",\"2022-10-10T20:00:00\",\"2022-10-10T21:00:00\",\"2022-10-10T22:00:00\",\"2022-10-10T23:00:00\",\"2022-10-11T00:00:00\",\"2022-10-11T01:00:00\",\"2022-10-11T02:00:00\",\"2022-10-11T03:00:00\",\"2022-10-11T04:00:00\",\"2022-10-11T05:00:00\",\"2022-10-11T06:00:00\",\"2022-10-11T07:00:00\",\"2022-10-11T08:00:00\",\"2022-10-11T09:00:00\",\"2022-10-11T10:00:00\",\"2022-10-11T11:00:00\",\"2022-10-11T12:00:00\",\"2022-10-11T13:00:00\",\"2022-10-11T14:00:00\",\"2022-10-11T15:00:00\",\"2022-10-11T16:00:00\",\"2022-10-11T17:00:00\",\"2022-10-11T18:00:00\",\"2022-10-11T19:00:00\",\"2022-10-11T20:00:00\",\"2022-10-11T21:00:00\",\"2022-10-11T22:00:00\",\"2022-10-11T23:00:00\",\"2022-10-12T00:00:00\",\"2022-10-12T01:00:00\",\"2022-10-12T02:00:00\",\"2022-10-12T03:00:00\",\"2022-10-12T04:00:00\",\"2022-10-12T05:00:00\",\"2022-10-12T06:00:00\",\"2022-10-12T07:00:00\",\"2022-10-12T08:00:00\",\"2022-10-12T09:00:00\",\"2022-10-12T10:00:00\",\"2022-10-12T11:00:00\",\"2022-10-12T12:00:00\",\"2022-10-12T13:00:00\",\"2022-10-12T14:00:00\",\"2022-10-12T15:00:00\",\"2022-10-12T16:00:00\",\"2022-10-12T17:00:00\",\"2022-10-12T18:00:00\",\"2022-10-12T19:00:00\",\"2022-10-12T20:00:00\",\"2022-10-12T21:00:00\",\"2022-10-12T22:00:00\",\"2022-10-12T23:00:00\",\"2022-10-13T00:00:00\",\"2022-10-13T01:00:00\",\"2022-10-13T02:00:00\",\"2022-10-13T03:00:00\",\"2022-10-13T04:00:00\",\"2022-10-13T05:00:00\",\"2022-10-13T06:00:00\",\"2022-10-13T07:00:00\",\"2022-10-13T08:00:00\",\"2022-10-13T09:00:00\",\"2022-10-13T10:00:00\",\"2022-10-13T11:00:00\",\"2022-10-13T12:00:00\",\"2022-10-13T13:00:00\",\"2022-10-13T14:00:00\",\"2022-10-13T15:00:00\",\"2022-10-13T16:00:00\",\"2022-10-13T17:00:00\",\"2022-10-13T18:00:00\",\"2022-10-13T19:00:00\",\"2022-10-13T20:00:00\",\"2022-10-13T21:00:00\",\"2022-10-13T22:00:00\",\"2022-10-13T23:00:00\",\"2022-10-14T00:00:00\",\"2022-10-14T01:00:00\",\"2022-10-14T02:00:00\",\"2022-10-14T03:00:00\",\"2022-10-14T04:00:00\",\"2022-10-14T05:00:00\",\"2022-10-14T06:00:00\",\"2022-10-14T07:00:00\",\"2022-10-14T08:00:00\",\"2022-10-14T09:00:00\",\"2022-10-14T10:00:00\",\"2022-10-14T11:00:00\",\"2022-10-14T12:00:00\",\"2022-10-14T13:00:00\",\"2022-10-14T14:00:00\",\"2022-10-14T15:00:00\",\"2022-10-14T16:00:00\",\"2022-10-14T17:00:00\",\"2022-10-14T18:00:00\",\"2022-10-14T19:00:00\",\"2022-10-14T20:00:00\",\"2022-10-14T21:00:00\",\"2022-10-14T22:00:00\",\"2022-10-14T23:00:00\",\"2022-10-15T00:00:00\",\"2022-10-15T01:00:00\",\"2022-10-15T02:00:00\",\"2022-10-15T03:00:00\",\"2022-10-15T04:00:00\",\"2022-10-15T05:00:00\",\"2022-10-15T06:00:00\",\"2022-10-15T07:00:00\",\"2022-10-15T08:00:00\",\"2022-10-15T09:00:00\",\"2022-10-15T10:00:00\",\"2022-10-15T11:00:00\",\"2022-10-15T12:00:00\",\"2022-10-15T13:00:00\",\"2022-10-15T14:00:00\",\"2022-10-15T15:00:00\",\"2022-10-15T16:00:00\",\"2022-10-15T17:00:00\",\"2022-10-15T18:00:00\",\"2022-10-15T19:00:00\",\"2022-10-15T20:00:00\",\"2022-10-15T21:00:00\",\"2022-10-15T22:00:00\",\"2022-10-15T23:00:00\",\"2022-10-16T00:00:00\",\"2022-10-16T01:00:00\",\"2022-10-16T02:00:00\",\"2022-10-16T03:00:00\",\"2022-10-16T04:00:00\",\"2022-10-16T05:00:00\",\"2022-10-16T06:00:00\",\"2022-10-16T07:00:00\",\"2022-10-16T08:00:00\",\"2022-10-16T09:00:00\",\"2022-10-16T10:00:00\",\"2022-10-16T11:00:00\",\"2022-10-16T12:00:00\",\"2022-10-16T13:00:00\",\"2022-10-16T14:00:00\",\"2022-10-16T15:00:00\",\"2022-10-16T16:00:00\",\"2022-10-16T17:00:00\",\"2022-10-16T18:00:00\",\"2022-10-16T19:00:00\",\"2022-10-16T20:00:00\",\"2022-10-16T21:00:00\",\"2022-10-16T22:00:00\",\"2022-10-16T23:00:00\"],\"y\":[6.011668800000001,6.030303310843374,6.0489378216867475,6.067572332530121,6.086206843373494,6.104841354216868,6.123475865060241,6.142110375903615,6.160744886746988,6.179379399395986,6.198013912044984,6.2166484246939815,6.23528293734298,6.2539174499919765,6.272551962640975,6.291186475289972,6.30982098793897,6.328455500419071,6.347090012899169,6.36572452537927,6.38435903785937,6.402993550339469,6.421628062819569,6.440262575299668,6.458897087779769,6.477531599240683,6.496166110701599,6.514800622162512,6.533435133623426,6.552069645084342,6.570704156545255,6.589338668006169,6.607973179467083,6.626607690952864,6.645242202438643,6.663876713924425,6.682511225410204,6.701145736895985,6.719780248381764,6.738414759867545,6.757049271353324,6.775683782140567,6.794318292927809,6.81295280371505,6.8315873145022925,6.850221825289534,6.868856336076775,6.887490846864019,6.90612535765126,6.924732882602357,6.943340407553454,6.961947932504552,6.980555457455649,6.999162982406746,7.017770507357843,7.03637803230894,7.0549855572600375,7.071722639319569,7.0884597213791,7.1051968034386315,7.121933885498161,7.138670967557692,7.155408049617224,7.172145131676754,7.188882213736286,7.193621573707464,7.198360933678641,7.203100293649818,7.207839653620996,7.212579013592174,7.217318373563351,7.222057733534529,7.226797093505707,7.221430403677687,7.2160637138496675,7.210697024021648,7.205330334193629,7.199963644365611,7.19459695453759,7.189230264709571,7.183863574881553,7.174019324732249,7.164175074582944,7.1543308244336385,7.144486574284335,7.13464232413503,7.124798073985727,7.114953823836422,7.105109573687119,7.095264052692192,7.085418531697265,7.075573010702338,7.065727489707411,7.055881968712484,7.046036447717558,7.0361909267226315,7.026345405727704,7.016499804544117,7.006654203360533,6.996808602176946,6.986963000993362,6.977117399809775,6.967271798626191,6.957426197442604,6.947580587211302,6.937734976979999,6.927889366748695,6.918043756517393,6.9081981462860895,6.898352536054787,6.888506925823484,6.878661315592183,6.868815705263155,6.858970094934127,6.849124484605099,6.83927887427607,6.829433263947042,6.819587653618014,6.809742043288985,6.799896432959956,6.790050822770571,6.780205212581185,6.7703596023918,6.760513992202414,6.750668382013028,6.740822771823643,6.730977161634256,6.721131551444871,6.711285942123665,6.701440332802458,6.691594723481251,6.681749114160045,6.671903504838838,6.6620578955176315,6.652212286196425,6.64236667687522,6.632521067386661,6.6226754578981035,6.612829848409545,6.602984238920987,6.593138629432429,6.583293019943871,6.573447410455312,6.5636018009667545,6.553756193537468,6.54391058610818,6.534064978678893,6.524219371249607,6.514373763820322,6.504528156391035,6.494682548961748,6.4848369415324605,6.4774817670349005,6.470126592537341,6.462771418039781,6.4554162435422215,6.448061069044662,6.440705894547102,6.433350720049542,6.425995545551983,6.426326229688961,6.426656913825939,6.426987597962918,6.427318282099896,6.427648966236875,6.427979650373853,6.42831033451083,6.4286410186478085,6.438127534110088,6.447614049572369,6.457100565034647,6.466587080496927,6.476073595959206,6.485560111421486,6.495046626883765,6.504533142346046,6.517054639977,6.529576137607953,6.542097635238908,6.554619132869862,6.567140630500816,6.579662128131771,6.5921836257627255,6.604705123393679,6.617226621714721,6.629748120035762,6.642269618356805,6.654791116677846,6.667312614998888,6.679834113319929,6.692355611640971,6.704877109962013,6.717398608015505,6.729920106068998,6.74244160412249,6.754963102175982,6.7674846002294755,6.780006098282967,6.792527596336461,6.805049094389952,6.817566963446497,6.830084832503042,6.842602701559587,6.855120570616132,6.867638439672676,6.880156308729221,6.892674177785766,6.905192046842311,6.917709915898854,6.930227784955399,6.942745654011944,6.9552635230684885,6.967781392125033,6.980299261181578,6.992817130238123,7.005334999294667,7.017852868351212,7.030370737407757,7.0428886064643015,7.055406475520846,7.067924344577391,7.080442213633936,7.092960082690481,7.105477951747026,7.1179958208035705,7.130513689860115,7.14303155891666,7.155549427973205,7.168067297029748,7.180585166086293,7.193103035142838,7.205620904199383,7.2181387732559275,7.230656642312472,7.243174511369017,7.255692380425561,7.268210249482106,7.280728118538651,7.293245987595196,7.30576385665174,7.318281725708285,7.33079959476483,7.343317463821375,7.35583533287792,7.368353201934465,7.3808710709910095,7.3933889400475525,7.405906809104097,7.418424678160642,7.430942547217187,7.443460416273732,7.455978285330277,7.469280446802825,7.483145069818931,7.497702229348578,7.5121871426795,7.527527995640697,7.542366777484893,7.557406118067147,7.572599814209114,7.588010922722675,7.6031856081441935,7.618627725084383,7.634158266711343,7.6505661835691585,7.666686771179282,7.6817224647177555,7.696983373706177,7.713394250239328,7.730821657269139,7.747532416384371,7.764579796512215,7.782156825609919,7.799179360171734,7.814679888466182,7.831236169092393,7.849087925551984,7.865347337570167,7.883537494170536,7.89980629994948,7.916623491242709,7.934405380914595,7.95285905312278,7.969428159925336,7.987074176091469,8.003356327746562,8.022710581640164,8.04067387365538,8.06175312346257,8.079644864463061,8.099394226982811,8.120242333542897,8.138804018151943,8.154889019597197,8.174113022612435,8.192657905132817,8.211523414483935,8.23053820207449,8.250783146088047,8.270916878875207,8.290908201479558,8.31305669376833,8.330905013073904,8.350023558753122,8.370147471839301,8.389704024213529,8.405402957299868,8.423180548053757,8.445244364109259,8.468142217786227,8.48964865814748,8.51094671013041,8.532753542759716,8.553755469164589,8.574128439845422,8.591889287009874,8.611973918907161,8.634168011233037,8.654753260642329,8.676925302876656,8.693001561119383,8.71671200780342,8.739602627131308,8.758340085080025,8.775762002128346,8.795281649370411,8.81655801759703,8.842171562783845,8.866145890835154,8.884160212969142,8.900966919622947,8.91972181990422,8.938651918189459,8.960967625678629,8.980742832506873,9.005599040656971,9.027914748146141,9.045789610767413,9.068313375031023,9.093770346993987,9.116991984723393,9.136984501756595,9.159495477758487,9.179879028115975,9.199520297795955,9.220371643602538],\"type\":\"scatter\",\"xaxis\":\"x\",\"yaxis\":\"y\"},{\"fill\":\"tonexty\",\"fillcolor\":\"rgba(0, 114, 178, 0.2)\",\"line\":{\"color\":\"rgba(0, 114, 178, 0.2)\",\"width\":0},\"mode\":\"lines\",\"name\":\"trend_lower\",\"x\":[\"2022-10-02T14:00:00\",\"2022-10-02T15:00:00\",\"2022-10-02T16:00:00\",\"2022-10-02T17:00:00\",\"2022-10-02T18:00:00\",\"2022-10-02T19:00:00\",\"2022-10-02T20:00:00\",\"2022-10-02T21:00:00\",\"2022-10-02T22:00:00\",\"2022-10-02T23:00:00\",\"2022-10-03T00:00:00\",\"2022-10-03T01:00:00\",\"2022-10-03T02:00:00\",\"2022-10-03T03:00:00\",\"2022-10-03T04:00:00\",\"2022-10-03T05:00:00\",\"2022-10-03T06:00:00\",\"2022-10-03T07:00:00\",\"2022-10-03T08:00:00\",\"2022-10-03T09:00:00\",\"2022-10-03T10:00:00\",\"2022-10-03T11:00:00\",\"2022-10-03T12:00:00\",\"2022-10-03T13:00:00\",\"2022-10-03T14:00:00\",\"2022-10-03T15:00:00\",\"2022-10-03T16:00:00\",\"2022-10-03T17:00:00\",\"2022-10-03T18:00:00\",\"2022-10-03T19:00:00\",\"2022-10-03T20:00:00\",\"2022-10-03T21:00:00\",\"2022-10-03T22:00:00\",\"2022-10-03T23:00:00\",\"2022-10-04T00:00:00\",\"2022-10-04T01:00:00\",\"2022-10-04T02:00:00\",\"2022-10-04T03:00:00\",\"2022-10-04T04:00:00\",\"2022-10-04T05:00:00\",\"2022-10-04T06:00:00\",\"2022-10-04T07:00:00\",\"2022-10-04T08:00:00\",\"2022-10-04T09:00:00\",\"2022-10-04T10:00:00\",\"2022-10-04T11:00:00\",\"2022-10-04T12:00:00\",\"2022-10-04T13:00:00\",\"2022-10-04T14:00:00\",\"2022-10-04T15:00:00\",\"2022-10-04T16:00:00\",\"2022-10-04T17:00:00\",\"2022-10-04T18:00:00\",\"2022-10-04T19:00:00\",\"2022-10-04T20:00:00\",\"2022-10-04T21:00:00\",\"2022-10-04T22:00:00\",\"2022-10-04T23:00:00\",\"2022-10-05T00:00:00\",\"2022-10-05T01:00:00\",\"2022-10-05T02:00:00\",\"2022-10-05T03:00:00\",\"2022-10-05T04:00:00\",\"2022-10-05T05:00:00\",\"2022-10-05T06:00:00\",\"2022-10-05T07:00:00\",\"2022-10-05T08:00:00\",\"2022-10-05T09:00:00\",\"2022-10-05T10:00:00\",\"2022-10-05T11:00:00\",\"2022-10-05T12:00:00\",\"2022-10-05T13:00:00\",\"2022-10-05T14:00:00\",\"2022-10-05T15:00:00\",\"2022-10-05T16:00:00\",\"2022-10-05T17:00:00\",\"2022-10-05T18:00:00\",\"2022-10-05T19:00:00\",\"2022-10-05T20:00:00\",\"2022-10-05T21:00:00\",\"2022-10-05T22:00:00\",\"2022-10-05T23:00:00\",\"2022-10-06T00:00:00\",\"2022-10-06T01:00:00\",\"2022-10-06T02:00:00\",\"2022-10-06T03:00:00\",\"2022-10-06T04:00:00\",\"2022-10-06T05:00:00\",\"2022-10-06T06:00:00\",\"2022-10-06T07:00:00\",\"2022-10-06T08:00:00\",\"2022-10-06T09:00:00\",\"2022-10-06T10:00:00\",\"2022-10-06T11:00:00\",\"2022-10-06T12:00:00\",\"2022-10-06T13:00:00\",\"2022-10-06T14:00:00\",\"2022-10-06T15:00:00\",\"2022-10-06T16:00:00\",\"2022-10-06T17:00:00\",\"2022-10-06T18:00:00\",\"2022-10-06T19:00:00\",\"2022-10-06T20:00:00\",\"2022-10-06T21:00:00\",\"2022-10-06T22:00:00\",\"2022-10-06T23:00:00\",\"2022-10-07T00:00:00\",\"2022-10-07T01:00:00\",\"2022-10-07T02:00:00\",\"2022-10-07T03:00:00\",\"2022-10-07T04:00:00\",\"2022-10-07T05:00:00\",\"2022-10-07T06:00:00\",\"2022-10-07T07:00:00\",\"2022-10-07T08:00:00\",\"2022-10-07T09:00:00\",\"2022-10-07T10:00:00\",\"2022-10-07T11:00:00\",\"2022-10-07T12:00:00\",\"2022-10-07T13:00:00\",\"2022-10-07T14:00:00\",\"2022-10-07T15:00:00\",\"2022-10-07T16:00:00\",\"2022-10-07T17:00:00\",\"2022-10-07T18:00:00\",\"2022-10-07T19:00:00\",\"2022-10-07T20:00:00\",\"2022-10-07T21:00:00\",\"2022-10-07T22:00:00\",\"2022-10-07T23:00:00\",\"2022-10-08T00:00:00\",\"2022-10-08T01:00:00\",\"2022-10-08T02:00:00\",\"2022-10-08T03:00:00\",\"2022-10-08T04:00:00\",\"2022-10-08T05:00:00\",\"2022-10-08T06:00:00\",\"2022-10-08T07:00:00\",\"2022-10-08T08:00:00\",\"2022-10-08T09:00:00\",\"2022-10-08T10:00:00\",\"2022-10-08T11:00:00\",\"2022-10-08T12:00:00\",\"2022-10-08T13:00:00\",\"2022-10-08T14:00:00\",\"2022-10-08T15:00:00\",\"2022-10-08T16:00:00\",\"2022-10-08T17:00:00\",\"2022-10-08T18:00:00\",\"2022-10-08T19:00:00\",\"2022-10-08T20:00:00\",\"2022-10-08T21:00:00\",\"2022-10-08T22:00:00\",\"2022-10-08T23:00:00\",\"2022-10-09T00:00:00\",\"2022-10-09T01:00:00\",\"2022-10-09T02:00:00\",\"2022-10-09T03:00:00\",\"2022-10-09T04:00:00\",\"2022-10-09T05:00:00\",\"2022-10-09T06:00:00\",\"2022-10-09T07:00:00\",\"2022-10-09T08:00:00\",\"2022-10-09T09:00:00\",\"2022-10-09T10:00:00\",\"2022-10-09T11:00:00\",\"2022-10-09T12:00:00\",\"2022-10-09T13:00:00\",\"2022-10-09T14:00:00\",\"2022-10-09T15:00:00\",\"2022-10-09T16:00:00\",\"2022-10-09T17:00:00\",\"2022-10-09T18:00:00\",\"2022-10-09T19:00:00\",\"2022-10-09T20:00:00\",\"2022-10-09T21:00:00\",\"2022-10-09T22:00:00\",\"2022-10-09T23:00:00\",\"2022-10-10T00:00:00\",\"2022-10-10T01:00:00\",\"2022-10-10T02:00:00\",\"2022-10-10T03:00:00\",\"2022-10-10T04:00:00\",\"2022-10-10T05:00:00\",\"2022-10-10T06:00:00\",\"2022-10-10T07:00:00\",\"2022-10-10T08:00:00\",\"2022-10-10T09:00:00\",\"2022-10-10T10:00:00\",\"2022-10-10T11:00:00\",\"2022-10-10T12:00:00\",\"2022-10-10T13:00:00\",\"2022-10-10T14:00:00\",\"2022-10-10T15:00:00\",\"2022-10-10T16:00:00\",\"2022-10-10T17:00:00\",\"2022-10-10T18:00:00\",\"2022-10-10T19:00:00\",\"2022-10-10T20:00:00\",\"2022-10-10T21:00:00\",\"2022-10-10T22:00:00\",\"2022-10-10T23:00:00\",\"2022-10-11T00:00:00\",\"2022-10-11T01:00:00\",\"2022-10-11T02:00:00\",\"2022-10-11T03:00:00\",\"2022-10-11T04:00:00\",\"2022-10-11T05:00:00\",\"2022-10-11T06:00:00\",\"2022-10-11T07:00:00\",\"2022-10-11T08:00:00\",\"2022-10-11T09:00:00\",\"2022-10-11T10:00:00\",\"2022-10-11T11:00:00\",\"2022-10-11T12:00:00\",\"2022-10-11T13:00:00\",\"2022-10-11T14:00:00\",\"2022-10-11T15:00:00\",\"2022-10-11T16:00:00\",\"2022-10-11T17:00:00\",\"2022-10-11T18:00:00\",\"2022-10-11T19:00:00\",\"2022-10-11T20:00:00\",\"2022-10-11T21:00:00\",\"2022-10-11T22:00:00\",\"2022-10-11T23:00:00\",\"2022-10-12T00:00:00\",\"2022-10-12T01:00:00\",\"2022-10-12T02:00:00\",\"2022-10-12T03:00:00\",\"2022-10-12T04:00:00\",\"2022-10-12T05:00:00\",\"2022-10-12T06:00:00\",\"2022-10-12T07:00:00\",\"2022-10-12T08:00:00\",\"2022-10-12T09:00:00\",\"2022-10-12T10:00:00\",\"2022-10-12T11:00:00\",\"2022-10-12T12:00:00\",\"2022-10-12T13:00:00\",\"2022-10-12T14:00:00\",\"2022-10-12T15:00:00\",\"2022-10-12T16:00:00\",\"2022-10-12T17:00:00\",\"2022-10-12T18:00:00\",\"2022-10-12T19:00:00\",\"2022-10-12T20:00:00\",\"2022-10-12T21:00:00\",\"2022-10-12T22:00:00\",\"2022-10-12T23:00:00\",\"2022-10-13T00:00:00\",\"2022-10-13T01:00:00\",\"2022-10-13T02:00:00\",\"2022-10-13T03:00:00\",\"2022-10-13T04:00:00\",\"2022-10-13T05:00:00\",\"2022-10-13T06:00:00\",\"2022-10-13T07:00:00\",\"2022-10-13T08:00:00\",\"2022-10-13T09:00:00\",\"2022-10-13T10:00:00\",\"2022-10-13T11:00:00\",\"2022-10-13T12:00:00\",\"2022-10-13T13:00:00\",\"2022-10-13T14:00:00\",\"2022-10-13T15:00:00\",\"2022-10-13T16:00:00\",\"2022-10-13T17:00:00\",\"2022-10-13T18:00:00\",\"2022-10-13T19:00:00\",\"2022-10-13T20:00:00\",\"2022-10-13T21:00:00\",\"2022-10-13T22:00:00\",\"2022-10-13T23:00:00\",\"2022-10-14T00:00:00\",\"2022-10-14T01:00:00\",\"2022-10-14T02:00:00\",\"2022-10-14T03:00:00\",\"2022-10-14T04:00:00\",\"2022-10-14T05:00:00\",\"2022-10-14T06:00:00\",\"2022-10-14T07:00:00\",\"2022-10-14T08:00:00\",\"2022-10-14T09:00:00\",\"2022-10-14T10:00:00\",\"2022-10-14T11:00:00\",\"2022-10-14T12:00:00\",\"2022-10-14T13:00:00\",\"2022-10-14T14:00:00\",\"2022-10-14T15:00:00\",\"2022-10-14T16:00:00\",\"2022-10-14T17:00:00\",\"2022-10-14T18:00:00\",\"2022-10-14T19:00:00\",\"2022-10-14T20:00:00\",\"2022-10-14T21:00:00\",\"2022-10-14T22:00:00\",\"2022-10-14T23:00:00\",\"2022-10-15T00:00:00\",\"2022-10-15T01:00:00\",\"2022-10-15T02:00:00\",\"2022-10-15T03:00:00\",\"2022-10-15T04:00:00\",\"2022-10-15T05:00:00\",\"2022-10-15T06:00:00\",\"2022-10-15T07:00:00\",\"2022-10-15T08:00:00\",\"2022-10-15T09:00:00\",\"2022-10-15T10:00:00\",\"2022-10-15T11:00:00\",\"2022-10-15T12:00:00\",\"2022-10-15T13:00:00\",\"2022-10-15T14:00:00\",\"2022-10-15T15:00:00\",\"2022-10-15T16:00:00\",\"2022-10-15T17:00:00\",\"2022-10-15T18:00:00\",\"2022-10-15T19:00:00\",\"2022-10-15T20:00:00\",\"2022-10-15T21:00:00\",\"2022-10-15T22:00:00\",\"2022-10-15T23:00:00\",\"2022-10-16T00:00:00\",\"2022-10-16T01:00:00\",\"2022-10-16T02:00:00\",\"2022-10-16T03:00:00\",\"2022-10-16T04:00:00\",\"2022-10-16T05:00:00\",\"2022-10-16T06:00:00\",\"2022-10-16T07:00:00\",\"2022-10-16T08:00:00\",\"2022-10-16T09:00:00\",\"2022-10-16T10:00:00\",\"2022-10-16T11:00:00\",\"2022-10-16T12:00:00\",\"2022-10-16T13:00:00\",\"2022-10-16T14:00:00\",\"2022-10-16T15:00:00\",\"2022-10-16T16:00:00\",\"2022-10-16T17:00:00\",\"2022-10-16T18:00:00\",\"2022-10-16T19:00:00\",\"2022-10-16T20:00:00\",\"2022-10-16T21:00:00\",\"2022-10-16T22:00:00\",\"2022-10-16T23:00:00\"],\"y\":[6.011668800000001,6.030303310843374,6.0489378216867475,6.067572332530121,6.086206843373494,6.104841354216868,6.123475865060241,6.142110375903615,6.160744886746988,6.179379399395986,6.198013912044984,6.2166484246939815,6.23528293734298,6.2539174499919765,6.272551962640975,6.291186475289972,6.30982098793897,6.328455500419071,6.347090012899169,6.36572452537927,6.38435903785937,6.402993550339469,6.421628062819569,6.440262575299668,6.458897087779769,6.477531599240683,6.496166110701599,6.514800622162512,6.533435133623426,6.552069645084342,6.570704156545255,6.589338668006169,6.607973179467083,6.626607690952864,6.645242202438643,6.663876713924425,6.682511225410204,6.701145736895985,6.719780248381764,6.738414759867545,6.757049271353324,6.775683782140567,6.794318292927809,6.81295280371505,6.8315873145022925,6.850221825289534,6.868856336076775,6.887490846864019,6.90612535765126,6.924732882602357,6.943340407553454,6.961947932504552,6.980555457455649,6.999162982406746,7.017770507357843,7.03637803230894,7.0549855572600375,7.071722639319569,7.0884597213791,7.1051968034386315,7.121933885498161,7.138670967557692,7.155408049617224,7.172145131676754,7.188882213736286,7.193621573707464,7.198360933678641,7.203100293649818,7.207839653620996,7.212579013592174,7.217318373563351,7.222057733534529,7.226797093505707,7.221430403677687,7.2160637138496675,7.210697024021648,7.205330334193629,7.199963644365611,7.19459695453759,7.189230264709571,7.183863574881553,7.174019324732249,7.164175074582944,7.1543308244336385,7.144486574284335,7.13464232413503,7.124798073985727,7.114953823836422,7.105109573687119,7.095264052692192,7.085418531697265,7.075573010702338,7.065727489707411,7.055881968712484,7.046036447717558,7.0361909267226315,7.026345405727704,7.016499804544117,7.006654203360533,6.996808602176946,6.986963000993362,6.977117399809775,6.967271798626191,6.957426197442604,6.947580587211302,6.937734976979999,6.927889366748695,6.918043756517393,6.9081981462860895,6.898352536054787,6.888506925823484,6.878661315592183,6.868815705263155,6.858970094934127,6.849124484605099,6.83927887427607,6.829433263947042,6.819587653618014,6.809742043288985,6.799896432959956,6.790050822770571,6.780205212581185,6.7703596023918,6.760513992202414,6.750668382013028,6.740822771823643,6.730977161634256,6.721131551444871,6.711285942123665,6.701440332802458,6.691594723481251,6.681749114160045,6.671903504838838,6.6620578955176315,6.652212286196425,6.64236667687522,6.632521067386661,6.6226754578981035,6.612829848409545,6.602984238920987,6.593138629432429,6.583293019943871,6.573447410455312,6.5636018009667545,6.553756193537468,6.54391058610818,6.534064978678893,6.524219371249607,6.514373763820322,6.504528156391035,6.494682548961748,6.4848369415324605,6.4774817670349005,6.470126592537341,6.462771418039781,6.4554162435422215,6.448061069044662,6.440705894547102,6.433350720049542,6.425995545551983,6.426326229688961,6.426656913825939,6.426987597962918,6.427318282099896,6.427648966236875,6.427979650373853,6.42831033451083,6.4286410186478085,6.438127534110088,6.447614049572369,6.457100565034647,6.466587080496927,6.476073595959206,6.485560111421486,6.495046626883765,6.504533142346046,6.517054639977,6.529576137607953,6.542097635238908,6.554619132869862,6.567140630500816,6.579662128131771,6.5921836257627255,6.604705123393679,6.617226621714721,6.629748120035762,6.642269618356805,6.654791116677846,6.667312614998888,6.679834113319929,6.692355611640971,6.704877109962013,6.717398608015505,6.729920106068998,6.74244160412249,6.754963102175982,6.7674846002294755,6.780006098282967,6.792527596336461,6.805049094389952,6.817566963446497,6.830084832503042,6.842602701559587,6.855120570616132,6.867638439672676,6.880156308729221,6.892674177785766,6.905192046842311,6.917709915898854,6.930227784955399,6.942745654011944,6.9552635230684885,6.967781392125033,6.980299261181578,6.992817130238123,7.005334999294667,7.017852868351212,7.030370737407757,7.0428886064643015,7.055406475520846,7.067924344577391,7.080442213633936,7.092960082690481,7.105477951747026,7.1179958208035705,7.130513689860115,7.14303155891666,7.155549427973205,7.168067297029748,7.180585166086293,7.193103035142838,7.205620904199383,7.2181387732559275,7.230656642312472,7.243174511369017,7.255692380425561,7.268210249482106,7.280728118538651,7.293245987595196,7.30576385665174,7.318281725708285,7.33079959476483,7.343317463821375,7.35583533287792,7.368353201934465,7.3808710709910095,7.3933889400475525,7.405906809104097,7.418424678160642,7.430942547217187,7.443460416273732,7.455978285330277,7.467898192306292,7.479040653167988,7.490303512197326,7.5013171270105286,7.510816250584528,7.521028884784394,7.530927802523091,7.540110021847502,7.549813307556907,7.559328590963355,7.568523079685375,7.57743801061199,7.586862962496829,7.595475760474333,7.60397511399442,7.612664494713552,7.621885006686871,7.630506417184917,7.639266508155103,7.647551600335532,7.656219917667034,7.665436651798899,7.673919241181428,7.681730984742804,7.689480761725201,7.697485490474037,7.705618903592994,7.713738719428638,7.721526563918105,7.7288415007720035,7.735029041337449,7.740360648989288,7.74935986597928,7.757181079510404,7.7624899687006765,7.769043776467445,7.775644357186712,7.783155898306932,7.789220387623949,7.79482002695225,7.801073774421091,7.809909391107518,7.817258203742613,7.824283715801209,7.831262881860877,7.837676781066141,7.842250617821112,7.8482050110529,7.852353061957803,7.857233192396714,7.860432245775998,7.863234658116948,7.86843887071661,7.870393190797649,7.872112409258235,7.876707872625826,7.881797709202105,7.888282855950751,7.893790594962856,7.897287283788194,7.901713453273626,7.904734539937907,7.90869721923707,7.913561810773294,7.919504649396543,7.924751476003246,7.929796915098684,7.932406840325864,7.934283729970797,7.936401255597384,7.94061912918636,7.942360566001769,7.948516043836711,7.950522549456148,7.953647322294148,7.958135810806303,7.962236890934155,7.96978873338668,7.97236656523722,7.975455682819393,7.976727099813247,7.983382654319853,7.986749124054254,7.990194314665297,7.992604646898558,7.995014979131821,7.99650930221525,7.998496391708089,8.002245975831608,8.005040686798674,8.011383987867612,8.01589103801188,8.019776294849013,8.025211826471027],\"type\":\"scatter\",\"xaxis\":\"x\",\"yaxis\":\"y\"},{\"line\":{\"color\":\"#0072B2\",\"width\":2},\"mode\":\"lines\",\"name\":\"daily\",\"x\":[\"2017-01-01T00:00:00\",\"2017-01-01T01:00:00\",\"2017-01-01T02:00:00\",\"2017-01-01T03:00:00\",\"2017-01-01T04:00:00\",\"2017-01-01T05:00:00\",\"2017-01-01T06:00:00\",\"2017-01-01T07:00:00\",\"2017-01-01T08:00:00\",\"2017-01-01T09:00:00\",\"2017-01-01T10:00:00\",\"2017-01-01T11:00:00\",\"2017-01-01T12:00:00\",\"2017-01-01T13:00:00\",\"2017-01-01T14:00:00\",\"2017-01-01T15:00:00\",\"2017-01-01T16:00:00\",\"2017-01-01T17:00:00\",\"2017-01-01T18:00:00\",\"2017-01-01T19:00:00\",\"2017-01-01T20:00:00\",\"2017-01-01T21:00:00\",\"2017-01-01T22:00:00\",\"2017-01-01T23:00:00\"],\"y\":[-0.29987326720028185,-0.5765566450245209,-0.7810068948865109,-0.8824051293930273,-0.8790867746790649,-0.7840328305854286,-0.6117230992018216,-0.3781131968155537,-0.10988474007396602,0.1513211014336351,0.3592302940951482,0.48261912211063784,0.5191970768000062,0.4929853587705386,0.43855399845356374,0.38526254379274133,0.3512747712592606,0.34535758242300585,0.3672953407990743,0.4026158316455702,0.4183729338812853,0.3709254329660615,0.22765036074830033,-0.009979171331704862],\"type\":\"scatter\",\"xaxis\":\"x2\",\"yaxis\":\"y2\"}],                        {\"template\":{\"data\":{\"bar\":[{\"error_x\":{\"color\":\"#2a3f5f\"},\"error_y\":{\"color\":\"#2a3f5f\"},\"marker\":{\"line\":{\"color\":\"#E5ECF6\",\"width\":0.5},\"pattern\":{\"fillmode\":\"overlay\",\"size\":10,\"solidity\":0.2}},\"type\":\"bar\"}],\"barpolar\":[{\"marker\":{\"line\":{\"color\":\"#E5ECF6\",\"width\":0.5},\"pattern\":{\"fillmode\":\"overlay\",\"size\":10,\"solidity\":0.2}},\"type\":\"barpolar\"}],\"carpet\":[{\"aaxis\":{\"endlinecolor\":\"#2a3f5f\",\"gridcolor\":\"white\",\"linecolor\":\"white\",\"minorgridcolor\":\"white\",\"startlinecolor\":\"#2a3f5f\"},\"baxis\":{\"endlinecolor\":\"#2a3f5f\",\"gridcolor\":\"white\",\"linecolor\":\"white\",\"minorgridcolor\":\"white\",\"startlinecolor\":\"#2a3f5f\"},\"type\":\"carpet\"}],\"choropleth\":[{\"colorbar\":{\"outlinewidth\":0,\"ticks\":\"\"},\"type\":\"choropleth\"}],\"contour\":[{\"colorbar\":{\"outlinewidth\":0,\"ticks\":\"\"},\"colorscale\":[[0.0,\"#0d0887\"],[0.1111111111111111,\"#46039f\"],[0.2222222222222222,\"#7201a8\"],[0.3333333333333333,\"#9c179e\"],[0.4444444444444444,\"#bd3786\"],[0.5555555555555556,\"#d8576b\"],[0.6666666666666666,\"#ed7953\"],[0.7777777777777778,\"#fb9f3a\"],[0.8888888888888888,\"#fdca26\"],[1.0,\"#f0f921\"]],\"type\":\"contour\"}],\"contourcarpet\":[{\"colorbar\":{\"outlinewidth\":0,\"ticks\":\"\"},\"type\":\"contourcarpet\"}],\"heatmap\":[{\"colorbar\":{\"outlinewidth\":0,\"ticks\":\"\"},\"colorscale\":[[0.0,\"#0d0887\"],[0.1111111111111111,\"#46039f\"],[0.2222222222222222,\"#7201a8\"],[0.3333333333333333,\"#9c179e\"],[0.4444444444444444,\"#bd3786\"],[0.5555555555555556,\"#d8576b\"],[0.6666666666666666,\"#ed7953\"],[0.7777777777777778,\"#fb9f3a\"],[0.8888888888888888,\"#fdca26\"],[1.0,\"#f0f921\"]],\"type\":\"heatmap\"}],\"heatmapgl\":[{\"colorbar\":{\"outlinewidth\":0,\"ticks\":\"\"},\"colorscale\":[[0.0,\"#0d0887\"],[0.1111111111111111,\"#46039f\"],[0.2222222222222222,\"#7201a8\"],[0.3333333333333333,\"#9c179e\"],[0.4444444444444444,\"#bd3786\"],[0.5555555555555556,\"#d8576b\"],[0.6666666666666666,\"#ed7953\"],[0.7777777777777778,\"#fb9f3a\"],[0.8888888888888888,\"#fdca26\"],[1.0,\"#f0f921\"]],\"type\":\"heatmapgl\"}],\"histogram\":[{\"marker\":{\"pattern\":{\"fillmode\":\"overlay\",\"size\":10,\"solidity\":0.2}},\"type\":\"histogram\"}],\"histogram2d\":[{\"colorbar\":{\"outlinewidth\":0,\"ticks\":\"\"},\"colorscale\":[[0.0,\"#0d0887\"],[0.1111111111111111,\"#46039f\"],[0.2222222222222222,\"#7201a8\"],[0.3333333333333333,\"#9c179e\"],[0.4444444444444444,\"#bd3786\"],[0.5555555555555556,\"#d8576b\"],[0.6666666666666666,\"#ed7953\"],[0.7777777777777778,\"#fb9f3a\"],[0.8888888888888888,\"#fdca26\"],[1.0,\"#f0f921\"]],\"type\":\"histogram2d\"}],\"histogram2dcontour\":[{\"colorbar\":{\"outlinewidth\":0,\"ticks\":\"\"},\"colorscale\":[[0.0,\"#0d0887\"],[0.1111111111111111,\"#46039f\"],[0.2222222222222222,\"#7201a8\"],[0.3333333333333333,\"#9c179e\"],[0.4444444444444444,\"#bd3786\"],[0.5555555555555556,\"#d8576b\"],[0.6666666666666666,\"#ed7953\"],[0.7777777777777778,\"#fb9f3a\"],[0.8888888888888888,\"#fdca26\"],[1.0,\"#f0f921\"]],\"type\":\"histogram2dcontour\"}],\"mesh3d\":[{\"colorbar\":{\"outlinewidth\":0,\"ticks\":\"\"},\"type\":\"mesh3d\"}],\"parcoords\":[{\"line\":{\"colorbar\":{\"outlinewidth\":0,\"ticks\":\"\"}},\"type\":\"parcoords\"}],\"pie\":[{\"automargin\":true,\"type\":\"pie\"}],\"scatter\":[{\"marker\":{\"colorbar\":{\"outlinewidth\":0,\"ticks\":\"\"}},\"type\":\"scatter\"}],\"scatter3d\":[{\"line\":{\"colorbar\":{\"outlinewidth\":0,\"ticks\":\"\"}},\"marker\":{\"colorbar\":{\"outlinewidth\":0,\"ticks\":\"\"}},\"type\":\"scatter3d\"}],\"scattercarpet\":[{\"marker\":{\"colorbar\":{\"outlinewidth\":0,\"ticks\":\"\"}},\"type\":\"scattercarpet\"}],\"scattergeo\":[{\"marker\":{\"colorbar\":{\"outlinewidth\":0,\"ticks\":\"\"}},\"type\":\"scattergeo\"}],\"scattergl\":[{\"marker\":{\"colorbar\":{\"outlinewidth\":0,\"ticks\":\"\"}},\"type\":\"scattergl\"}],\"scattermapbox\":[{\"marker\":{\"colorbar\":{\"outlinewidth\":0,\"ticks\":\"\"}},\"type\":\"scattermapbox\"}],\"scatterpolar\":[{\"marker\":{\"colorbar\":{\"outlinewidth\":0,\"ticks\":\"\"}},\"type\":\"scatterpolar\"}],\"scatterpolargl\":[{\"marker\":{\"colorbar\":{\"outlinewidth\":0,\"ticks\":\"\"}},\"type\":\"scatterpolargl\"}],\"scatterternary\":[{\"marker\":{\"colorbar\":{\"outlinewidth\":0,\"ticks\":\"\"}},\"type\":\"scatterternary\"}],\"surface\":[{\"colorbar\":{\"outlinewidth\":0,\"ticks\":\"\"},\"colorscale\":[[0.0,\"#0d0887\"],[0.1111111111111111,\"#46039f\"],[0.2222222222222222,\"#7201a8\"],[0.3333333333333333,\"#9c179e\"],[0.4444444444444444,\"#bd3786\"],[0.5555555555555556,\"#d8576b\"],[0.6666666666666666,\"#ed7953\"],[0.7777777777777778,\"#fb9f3a\"],[0.8888888888888888,\"#fdca26\"],[1.0,\"#f0f921\"]],\"type\":\"surface\"}],\"table\":[{\"cells\":{\"fill\":{\"color\":\"#EBF0F8\"},\"line\":{\"color\":\"white\"}},\"header\":{\"fill\":{\"color\":\"#C8D4E3\"},\"line\":{\"color\":\"white\"}},\"type\":\"table\"}]},\"layout\":{\"annotationdefaults\":{\"arrowcolor\":\"#2a3f5f\",\"arrowhead\":0,\"arrowwidth\":1},\"autotypenumbers\":\"strict\",\"coloraxis\":{\"colorbar\":{\"outlinewidth\":0,\"ticks\":\"\"}},\"colorscale\":{\"diverging\":[[0,\"#8e0152\"],[0.1,\"#c51b7d\"],[0.2,\"#de77ae\"],[0.3,\"#f1b6da\"],[0.4,\"#fde0ef\"],[0.5,\"#f7f7f7\"],[0.6,\"#e6f5d0\"],[0.7,\"#b8e186\"],[0.8,\"#7fbc41\"],[0.9,\"#4d9221\"],[1,\"#276419\"]],\"sequential\":[[0.0,\"#0d0887\"],[0.1111111111111111,\"#46039f\"],[0.2222222222222222,\"#7201a8\"],[0.3333333333333333,\"#9c179e\"],[0.4444444444444444,\"#bd3786\"],[0.5555555555555556,\"#d8576b\"],[0.6666666666666666,\"#ed7953\"],[0.7777777777777778,\"#fb9f3a\"],[0.8888888888888888,\"#fdca26\"],[1.0,\"#f0f921\"]],\"sequentialminus\":[[0.0,\"#0d0887\"],[0.1111111111111111,\"#46039f\"],[0.2222222222222222,\"#7201a8\"],[0.3333333333333333,\"#9c179e\"],[0.4444444444444444,\"#bd3786\"],[0.5555555555555556,\"#d8576b\"],[0.6666666666666666,\"#ed7953\"],[0.7777777777777778,\"#fb9f3a\"],[0.8888888888888888,\"#fdca26\"],[1.0,\"#f0f921\"]]},\"colorway\":[\"#636efa\",\"#EF553B\",\"#00cc96\",\"#ab63fa\",\"#FFA15A\",\"#19d3f3\",\"#FF6692\",\"#B6E880\",\"#FF97FF\",\"#FECB52\"],\"font\":{\"color\":\"#2a3f5f\"},\"geo\":{\"bgcolor\":\"white\",\"lakecolor\":\"white\",\"landcolor\":\"#E5ECF6\",\"showlakes\":true,\"showland\":true,\"subunitcolor\":\"white\"},\"hoverlabel\":{\"align\":\"left\"},\"hovermode\":\"closest\",\"mapbox\":{\"style\":\"light\"},\"paper_bgcolor\":\"white\",\"plot_bgcolor\":\"#E5ECF6\",\"polar\":{\"angularaxis\":{\"gridcolor\":\"white\",\"linecolor\":\"white\",\"ticks\":\"\"},\"bgcolor\":\"#E5ECF6\",\"radialaxis\":{\"gridcolor\":\"white\",\"linecolor\":\"white\",\"ticks\":\"\"}},\"scene\":{\"xaxis\":{\"backgroundcolor\":\"#E5ECF6\",\"gridcolor\":\"white\",\"gridwidth\":2,\"linecolor\":\"white\",\"showbackground\":true,\"ticks\":\"\",\"zerolinecolor\":\"white\"},\"yaxis\":{\"backgroundcolor\":\"#E5ECF6\",\"gridcolor\":\"white\",\"gridwidth\":2,\"linecolor\":\"white\",\"showbackground\":true,\"ticks\":\"\",\"zerolinecolor\":\"white\"},\"zaxis\":{\"backgroundcolor\":\"#E5ECF6\",\"gridcolor\":\"white\",\"gridwidth\":2,\"linecolor\":\"white\",\"showbackground\":true,\"ticks\":\"\",\"zerolinecolor\":\"white\"}},\"shapedefaults\":{\"line\":{\"color\":\"#2a3f5f\"}},\"ternary\":{\"aaxis\":{\"gridcolor\":\"white\",\"linecolor\":\"white\",\"ticks\":\"\"},\"baxis\":{\"gridcolor\":\"white\",\"linecolor\":\"white\",\"ticks\":\"\"},\"bgcolor\":\"#E5ECF6\",\"caxis\":{\"gridcolor\":\"white\",\"linecolor\":\"white\",\"ticks\":\"\"}},\"title\":{\"x\":0.05},\"xaxis\":{\"automargin\":true,\"gridcolor\":\"white\",\"linecolor\":\"white\",\"ticks\":\"\",\"title\":{\"standoff\":15},\"zerolinecolor\":\"white\",\"zerolinewidth\":2},\"yaxis\":{\"automargin\":true,\"gridcolor\":\"white\",\"linecolor\":\"white\",\"ticks\":\"\",\"title\":{\"standoff\":15},\"zerolinecolor\":\"white\",\"zerolinewidth\":2}}},\"xaxis\":{\"anchor\":\"y\",\"domain\":[0.0,1.0],\"range\":[\"2022-10-01T20:45:00\",\"2022-10-17T16:15:00\"],\"type\":\"date\"},\"yaxis\":{\"anchor\":\"x\",\"domain\":[0.575,1.0],\"title\":{\"text\":\"trend\"},\"rangemode\":\"normal\",\"zerolinecolor\":\"#AAA\"},\"xaxis2\":{\"anchor\":\"y2\",\"domain\":[0.0,1.0],\"range\":[\"2016-12-31T22:51:00\",\"2017-01-02T00:09:00\"],\"tickformat\":\"%H:%M\",\"type\":\"date\"},\"yaxis2\":{\"anchor\":\"x2\",\"domain\":[0.0,0.425],\"title\":{\"text\":\"daily\"},\"zerolinecolor\":\"#AAA\"},\"height\":400,\"showlegend\":false,\"width\":900},                        {\"responsive\": true}                    ).then(function(){\n",
              "                            \n",
              "var gd = document.getElementById('b99464de-3239-4847-bd8a-a4e82334b623');\n",
              "var x = new MutationObserver(function (mutations, observer) {{\n",
              "        var display = window.getComputedStyle(gd).display;\n",
              "        if (!display || display === 'none') {{\n",
              "            console.log([gd, 'removed!']);\n",
              "            Plotly.purge(gd);\n",
              "            observer.disconnect();\n",
              "        }}\n",
              "}});\n",
              "\n",
              "// Listen for the removal of the full notebook cells\n",
              "var notebookContainer = gd.closest('#notebook-container');\n",
              "if (notebookContainer) {{\n",
              "    x.observe(notebookContainer, {childList: true});\n",
              "}}\n",
              "\n",
              "// Listen for the clearing of the current output cell\n",
              "var outputEl = gd.closest('.output');\n",
              "if (outputEl) {{\n",
              "    x.observe(outputEl, {childList: true});\n",
              "}}\n",
              "\n",
              "                        })                };                            </script>        </div>\n",
              "</body>\n",
              "</html>"
            ]
          },
          "metadata": {}
        }
      ]
    },
    {
      "cell_type": "code",
      "source": [
        "# from prophet.diagnostics import performance_metrics\n",
        "# df_p = performance_metrics(df_cpu)\n",
        "# df_p.head()"
      ],
      "metadata": {
        "id": "aPBhj4by0mGe",
        "colab": {
          "base_uri": "https://localhost:8080/",
          "height": 502
        },
        "outputId": "33ca9b66-16e5-472c-d981-bae4599dd684"
      },
      "execution_count": 100,
      "outputs": [
        {
          "output_type": "error",
          "ename": "KeyError",
          "evalue": "ignored",
          "traceback": [
            "\u001b[0;31m---------------------------------------------------------------------------\u001b[0m",
            "\u001b[0;31mKeyError\u001b[0m                                  Traceback (most recent call last)",
            "\u001b[0;32m/usr/local/lib/python3.7/dist-packages/pandas/core/indexes/base.py\u001b[0m in \u001b[0;36mget_loc\u001b[0;34m(self, key, method, tolerance)\u001b[0m\n\u001b[1;32m   3360\u001b[0m             \u001b[0;32mtry\u001b[0m\u001b[0;34m:\u001b[0m\u001b[0;34m\u001b[0m\u001b[0;34m\u001b[0m\u001b[0m\n\u001b[0;32m-> 3361\u001b[0;31m                 \u001b[0;32mreturn\u001b[0m \u001b[0mself\u001b[0m\u001b[0;34m.\u001b[0m\u001b[0m_engine\u001b[0m\u001b[0;34m.\u001b[0m\u001b[0mget_loc\u001b[0m\u001b[0;34m(\u001b[0m\u001b[0mcasted_key\u001b[0m\u001b[0;34m)\u001b[0m\u001b[0;34m\u001b[0m\u001b[0;34m\u001b[0m\u001b[0m\n\u001b[0m\u001b[1;32m   3362\u001b[0m             \u001b[0;32mexcept\u001b[0m \u001b[0mKeyError\u001b[0m \u001b[0;32mas\u001b[0m \u001b[0merr\u001b[0m\u001b[0;34m:\u001b[0m\u001b[0;34m\u001b[0m\u001b[0;34m\u001b[0m\u001b[0m\n",
            "\u001b[0;32m/usr/local/lib/python3.7/dist-packages/pandas/_libs/index.pyx\u001b[0m in \u001b[0;36mpandas._libs.index.IndexEngine.get_loc\u001b[0;34m()\u001b[0m\n",
            "\u001b[0;32m/usr/local/lib/python3.7/dist-packages/pandas/_libs/index.pyx\u001b[0m in \u001b[0;36mpandas._libs.index.IndexEngine.get_loc\u001b[0;34m()\u001b[0m\n",
            "\u001b[0;32mpandas/_libs/hashtable_class_helper.pxi\u001b[0m in \u001b[0;36mpandas._libs.hashtable.PyObjectHashTable.get_item\u001b[0;34m()\u001b[0m\n",
            "\u001b[0;32mpandas/_libs/hashtable_class_helper.pxi\u001b[0m in \u001b[0;36mpandas._libs.hashtable.PyObjectHashTable.get_item\u001b[0;34m()\u001b[0m\n",
            "\u001b[0;31mKeyError\u001b[0m: 'cutoff'",
            "\nThe above exception was the direct cause of the following exception:\n",
            "\u001b[0;31mKeyError\u001b[0m                                  Traceback (most recent call last)",
            "\u001b[0;32m<ipython-input-100-6936fc409f2b>\u001b[0m in \u001b[0;36m<module>\u001b[0;34m\u001b[0m\n\u001b[1;32m      1\u001b[0m \u001b[0;32mfrom\u001b[0m \u001b[0mprophet\u001b[0m\u001b[0;34m.\u001b[0m\u001b[0mdiagnostics\u001b[0m \u001b[0;32mimport\u001b[0m \u001b[0mperformance_metrics\u001b[0m\u001b[0;34m\u001b[0m\u001b[0;34m\u001b[0m\u001b[0m\n\u001b[0;32m----> 2\u001b[0;31m \u001b[0mdf_p\u001b[0m \u001b[0;34m=\u001b[0m \u001b[0mperformance_metrics\u001b[0m\u001b[0;34m(\u001b[0m\u001b[0mdf_cpu\u001b[0m\u001b[0;34m)\u001b[0m\u001b[0;34m\u001b[0m\u001b[0;34m\u001b[0m\u001b[0m\n\u001b[0m\u001b[1;32m      3\u001b[0m \u001b[0mdf_p\u001b[0m\u001b[0;34m.\u001b[0m\u001b[0mhead\u001b[0m\u001b[0;34m(\u001b[0m\u001b[0;34m)\u001b[0m\u001b[0;34m\u001b[0m\u001b[0;34m\u001b[0m\u001b[0m\n",
            "\u001b[0;32m/usr/local/lib/python3.7/dist-packages/prophet/diagnostics.py\u001b[0m in \u001b[0;36mperformance_metrics\u001b[0;34m(df, metrics, rolling_window, monthly)\u001b[0m\n\u001b[1;32m    378\u001b[0m         \u001b[0mdf_m\u001b[0m\u001b[0;34m[\u001b[0m\u001b[0;34m'horizon'\u001b[0m\u001b[0;34m]\u001b[0m \u001b[0;34m=\u001b[0m \u001b[0mdf_m\u001b[0m\u001b[0;34m[\u001b[0m\u001b[0;34m'ds'\u001b[0m\u001b[0;34m]\u001b[0m\u001b[0;34m.\u001b[0m\u001b[0mdt\u001b[0m\u001b[0;34m.\u001b[0m\u001b[0mto_period\u001b[0m\u001b[0;34m(\u001b[0m\u001b[0;34m'M'\u001b[0m\u001b[0;34m)\u001b[0m\u001b[0;34m.\u001b[0m\u001b[0mastype\u001b[0m\u001b[0;34m(\u001b[0m\u001b[0mint\u001b[0m\u001b[0;34m)\u001b[0m \u001b[0;34m-\u001b[0m \u001b[0mdf_m\u001b[0m\u001b[0;34m[\u001b[0m\u001b[0;34m'cutoff'\u001b[0m\u001b[0;34m]\u001b[0m\u001b[0;34m.\u001b[0m\u001b[0mdt\u001b[0m\u001b[0;34m.\u001b[0m\u001b[0mto_period\u001b[0m\u001b[0;34m(\u001b[0m\u001b[0;34m'M'\u001b[0m\u001b[0;34m)\u001b[0m\u001b[0;34m.\u001b[0m\u001b[0mastype\u001b[0m\u001b[0;34m(\u001b[0m\u001b[0mint\u001b[0m\u001b[0;34m)\u001b[0m\u001b[0;34m\u001b[0m\u001b[0;34m\u001b[0m\u001b[0m\n\u001b[1;32m    379\u001b[0m     \u001b[0;32melse\u001b[0m\u001b[0;34m:\u001b[0m\u001b[0;34m\u001b[0m\u001b[0;34m\u001b[0m\u001b[0m\n\u001b[0;32m--> 380\u001b[0;31m         \u001b[0mdf_m\u001b[0m\u001b[0;34m[\u001b[0m\u001b[0;34m'horizon'\u001b[0m\u001b[0;34m]\u001b[0m \u001b[0;34m=\u001b[0m \u001b[0mdf_m\u001b[0m\u001b[0;34m[\u001b[0m\u001b[0;34m'ds'\u001b[0m\u001b[0;34m]\u001b[0m \u001b[0;34m-\u001b[0m \u001b[0mdf_m\u001b[0m\u001b[0;34m[\u001b[0m\u001b[0;34m'cutoff'\u001b[0m\u001b[0;34m]\u001b[0m\u001b[0;34m\u001b[0m\u001b[0;34m\u001b[0m\u001b[0m\n\u001b[0m\u001b[1;32m    381\u001b[0m     \u001b[0mdf_m\u001b[0m\u001b[0;34m.\u001b[0m\u001b[0msort_values\u001b[0m\u001b[0;34m(\u001b[0m\u001b[0;34m'horizon'\u001b[0m\u001b[0;34m,\u001b[0m \u001b[0minplace\u001b[0m\u001b[0;34m=\u001b[0m\u001b[0;32mTrue\u001b[0m\u001b[0;34m)\u001b[0m\u001b[0;34m\u001b[0m\u001b[0;34m\u001b[0m\u001b[0m\n\u001b[1;32m    382\u001b[0m     \u001b[0;32mif\u001b[0m \u001b[0;34m'mape'\u001b[0m \u001b[0;32min\u001b[0m \u001b[0mmetrics\u001b[0m \u001b[0;32mand\u001b[0m \u001b[0mdf_m\u001b[0m\u001b[0;34m[\u001b[0m\u001b[0;34m'y'\u001b[0m\u001b[0;34m]\u001b[0m\u001b[0;34m.\u001b[0m\u001b[0mabs\u001b[0m\u001b[0;34m(\u001b[0m\u001b[0;34m)\u001b[0m\u001b[0;34m.\u001b[0m\u001b[0mmin\u001b[0m\u001b[0;34m(\u001b[0m\u001b[0;34m)\u001b[0m \u001b[0;34m<\u001b[0m \u001b[0;36m1e-8\u001b[0m\u001b[0;34m:\u001b[0m\u001b[0;34m\u001b[0m\u001b[0;34m\u001b[0m\u001b[0m\n",
            "\u001b[0;32m/usr/local/lib/python3.7/dist-packages/pandas/core/frame.py\u001b[0m in \u001b[0;36m__getitem__\u001b[0;34m(self, key)\u001b[0m\n\u001b[1;32m   3456\u001b[0m             \u001b[0;32mif\u001b[0m \u001b[0mself\u001b[0m\u001b[0;34m.\u001b[0m\u001b[0mcolumns\u001b[0m\u001b[0;34m.\u001b[0m\u001b[0mnlevels\u001b[0m \u001b[0;34m>\u001b[0m \u001b[0;36m1\u001b[0m\u001b[0;34m:\u001b[0m\u001b[0;34m\u001b[0m\u001b[0;34m\u001b[0m\u001b[0m\n\u001b[1;32m   3457\u001b[0m                 \u001b[0;32mreturn\u001b[0m \u001b[0mself\u001b[0m\u001b[0;34m.\u001b[0m\u001b[0m_getitem_multilevel\u001b[0m\u001b[0;34m(\u001b[0m\u001b[0mkey\u001b[0m\u001b[0;34m)\u001b[0m\u001b[0;34m\u001b[0m\u001b[0;34m\u001b[0m\u001b[0m\n\u001b[0;32m-> 3458\u001b[0;31m             \u001b[0mindexer\u001b[0m \u001b[0;34m=\u001b[0m \u001b[0mself\u001b[0m\u001b[0;34m.\u001b[0m\u001b[0mcolumns\u001b[0m\u001b[0;34m.\u001b[0m\u001b[0mget_loc\u001b[0m\u001b[0;34m(\u001b[0m\u001b[0mkey\u001b[0m\u001b[0;34m)\u001b[0m\u001b[0;34m\u001b[0m\u001b[0;34m\u001b[0m\u001b[0m\n\u001b[0m\u001b[1;32m   3459\u001b[0m             \u001b[0;32mif\u001b[0m \u001b[0mis_integer\u001b[0m\u001b[0;34m(\u001b[0m\u001b[0mindexer\u001b[0m\u001b[0;34m)\u001b[0m\u001b[0;34m:\u001b[0m\u001b[0;34m\u001b[0m\u001b[0;34m\u001b[0m\u001b[0m\n\u001b[1;32m   3460\u001b[0m                 \u001b[0mindexer\u001b[0m \u001b[0;34m=\u001b[0m \u001b[0;34m[\u001b[0m\u001b[0mindexer\u001b[0m\u001b[0;34m]\u001b[0m\u001b[0;34m\u001b[0m\u001b[0;34m\u001b[0m\u001b[0m\n",
            "\u001b[0;32m/usr/local/lib/python3.7/dist-packages/pandas/core/indexes/base.py\u001b[0m in \u001b[0;36mget_loc\u001b[0;34m(self, key, method, tolerance)\u001b[0m\n\u001b[1;32m   3361\u001b[0m                 \u001b[0;32mreturn\u001b[0m \u001b[0mself\u001b[0m\u001b[0;34m.\u001b[0m\u001b[0m_engine\u001b[0m\u001b[0;34m.\u001b[0m\u001b[0mget_loc\u001b[0m\u001b[0;34m(\u001b[0m\u001b[0mcasted_key\u001b[0m\u001b[0;34m)\u001b[0m\u001b[0;34m\u001b[0m\u001b[0;34m\u001b[0m\u001b[0m\n\u001b[1;32m   3362\u001b[0m             \u001b[0;32mexcept\u001b[0m \u001b[0mKeyError\u001b[0m \u001b[0;32mas\u001b[0m \u001b[0merr\u001b[0m\u001b[0;34m:\u001b[0m\u001b[0;34m\u001b[0m\u001b[0;34m\u001b[0m\u001b[0m\n\u001b[0;32m-> 3363\u001b[0;31m                 \u001b[0;32mraise\u001b[0m \u001b[0mKeyError\u001b[0m\u001b[0;34m(\u001b[0m\u001b[0mkey\u001b[0m\u001b[0;34m)\u001b[0m \u001b[0;32mfrom\u001b[0m \u001b[0merr\u001b[0m\u001b[0;34m\u001b[0m\u001b[0;34m\u001b[0m\u001b[0m\n\u001b[0m\u001b[1;32m   3364\u001b[0m \u001b[0;34m\u001b[0m\u001b[0m\n\u001b[1;32m   3365\u001b[0m         \u001b[0;32mif\u001b[0m \u001b[0mis_scalar\u001b[0m\u001b[0;34m(\u001b[0m\u001b[0mkey\u001b[0m\u001b[0;34m)\u001b[0m \u001b[0;32mand\u001b[0m \u001b[0misna\u001b[0m\u001b[0;34m(\u001b[0m\u001b[0mkey\u001b[0m\u001b[0;34m)\u001b[0m \u001b[0;32mand\u001b[0m \u001b[0;32mnot\u001b[0m \u001b[0mself\u001b[0m\u001b[0;34m.\u001b[0m\u001b[0mhasnans\u001b[0m\u001b[0;34m:\u001b[0m\u001b[0;34m\u001b[0m\u001b[0;34m\u001b[0m\u001b[0m\n",
            "\u001b[0;31mKeyError\u001b[0m: 'cutoff'"
          ]
        }
      ]
    },
    {
      "cell_type": "code",
      "source": [],
      "metadata": {
        "id": "zaGCZTlS0mKh"
      },
      "execution_count": null,
      "outputs": []
    },
    {
      "cell_type": "code",
      "source": [],
      "metadata": {
        "id": "pfrb3l0J0mOq"
      },
      "execution_count": null,
      "outputs": []
    },
    {
      "cell_type": "code",
      "source": [],
      "metadata": {
        "id": "mT-ICUGO0mR3"
      },
      "execution_count": null,
      "outputs": []
    },
    {
      "cell_type": "code",
      "source": [],
      "metadata": {
        "id": "p1pZkHf20mVK"
      },
      "execution_count": null,
      "outputs": []
    },
    {
      "cell_type": "code",
      "source": [],
      "metadata": {
        "id": "uLfA6snJ0mYD"
      },
      "execution_count": null,
      "outputs": []
    },
    {
      "cell_type": "code",
      "source": [],
      "metadata": {
        "id": "Jbc6weZH0mcz"
      },
      "execution_count": null,
      "outputs": []
    },
    {
      "cell_type": "code",
      "source": [],
      "metadata": {
        "id": "FjwVxr8T0mfH"
      },
      "execution_count": null,
      "outputs": []
    },
    {
      "cell_type": "code",
      "source": [],
      "metadata": {
        "id": "BiM8zjOl0mhV"
      },
      "execution_count": null,
      "outputs": []
    },
    {
      "cell_type": "code",
      "source": [],
      "metadata": {
        "id": "vncTeh690mjz"
      },
      "execution_count": null,
      "outputs": []
    },
    {
      "cell_type": "markdown",
      "source": [
        "**PREPARAÇÃO DOS DADOS**"
      ],
      "metadata": {
        "id": "Ol8gFZUVAoZ3"
      }
    },
    {
      "cell_type": "markdown",
      "source": [
        "##Fazer resample do dataset_pa e ver se fica bom ou pior :(\n",
        "\n",
        "##Entender o decompose"
      ],
      "metadata": {
        "id": "uz7KrNB_Avia"
      }
    },
    {
      "cell_type": "code",
      "source": [
        "#Ler dados\n",
        "df_teste =pd.read_csv(\"dataset_estudo.csv\", delimiter=\";\")"
      ],
      "metadata": {
        "id": "zLf_SSwqdRzt"
      },
      "execution_count": null,
      "outputs": []
    },
    {
      "cell_type": "code",
      "source": [
        "df_teste.shape\n",
        "\n",
        "df_teste.head()"
      ],
      "metadata": {
        "colab": {
          "base_uri": "https://localhost:8080/",
          "height": 206
        },
        "id": "coaPJCDieUo6",
        "outputId": "7ac4eda8-9037-4f8d-c1ac-eb9880f6e30c"
      },
      "execution_count": null,
      "outputs": [
        {
          "output_type": "execute_result",
          "data": {
            "text/plain": [
              "                    datetime       cpu       mem               networkio\n",
              "0  2022-07-25T03:48:30-03:00  0.000840  52142080  22.937.234.682.757.800\n",
              "1  2022-07-25T03:48:45-03:00  0.000772  52432896  16.626.793.578.206.900\n",
              "2  2022-07-25T03:49:00-03:00  0.000854  52162560   1.761.552.926.755.880\n",
              "3  2022-07-25T03:49:15-03:00  0.000854  52162560  19.774.713.787.037.200\n",
              "4  2022-07-25T03:49:30-03:00  0.000854  52162560  19.774.713.787.037.200"
            ],
            "text/html": [
              "\n",
              "  <div id=\"df-3e0cd5fe-e670-4641-8eaf-47d17ef97922\">\n",
              "    <div class=\"colab-df-container\">\n",
              "      <div>\n",
              "<style scoped>\n",
              "    .dataframe tbody tr th:only-of-type {\n",
              "        vertical-align: middle;\n",
              "    }\n",
              "\n",
              "    .dataframe tbody tr th {\n",
              "        vertical-align: top;\n",
              "    }\n",
              "\n",
              "    .dataframe thead th {\n",
              "        text-align: right;\n",
              "    }\n",
              "</style>\n",
              "<table border=\"1\" class=\"dataframe\">\n",
              "  <thead>\n",
              "    <tr style=\"text-align: right;\">\n",
              "      <th></th>\n",
              "      <th>datetime</th>\n",
              "      <th>cpu</th>\n",
              "      <th>mem</th>\n",
              "      <th>networkio</th>\n",
              "    </tr>\n",
              "  </thead>\n",
              "  <tbody>\n",
              "    <tr>\n",
              "      <th>0</th>\n",
              "      <td>2022-07-25T03:48:30-03:00</td>\n",
              "      <td>0.000840</td>\n",
              "      <td>52142080</td>\n",
              "      <td>22.937.234.682.757.800</td>\n",
              "    </tr>\n",
              "    <tr>\n",
              "      <th>1</th>\n",
              "      <td>2022-07-25T03:48:45-03:00</td>\n",
              "      <td>0.000772</td>\n",
              "      <td>52432896</td>\n",
              "      <td>16.626.793.578.206.900</td>\n",
              "    </tr>\n",
              "    <tr>\n",
              "      <th>2</th>\n",
              "      <td>2022-07-25T03:49:00-03:00</td>\n",
              "      <td>0.000854</td>\n",
              "      <td>52162560</td>\n",
              "      <td>1.761.552.926.755.880</td>\n",
              "    </tr>\n",
              "    <tr>\n",
              "      <th>3</th>\n",
              "      <td>2022-07-25T03:49:15-03:00</td>\n",
              "      <td>0.000854</td>\n",
              "      <td>52162560</td>\n",
              "      <td>19.774.713.787.037.200</td>\n",
              "    </tr>\n",
              "    <tr>\n",
              "      <th>4</th>\n",
              "      <td>2022-07-25T03:49:30-03:00</td>\n",
              "      <td>0.000854</td>\n",
              "      <td>52162560</td>\n",
              "      <td>19.774.713.787.037.200</td>\n",
              "    </tr>\n",
              "  </tbody>\n",
              "</table>\n",
              "</div>\n",
              "      <button class=\"colab-df-convert\" onclick=\"convertToInteractive('df-3e0cd5fe-e670-4641-8eaf-47d17ef97922')\"\n",
              "              title=\"Convert this dataframe to an interactive table.\"\n",
              "              style=\"display:none;\">\n",
              "        \n",
              "  <svg xmlns=\"http://www.w3.org/2000/svg\" height=\"24px\"viewBox=\"0 0 24 24\"\n",
              "       width=\"24px\">\n",
              "    <path d=\"M0 0h24v24H0V0z\" fill=\"none\"/>\n",
              "    <path d=\"M18.56 5.44l.94 2.06.94-2.06 2.06-.94-2.06-.94-.94-2.06-.94 2.06-2.06.94zm-11 1L8.5 8.5l.94-2.06 2.06-.94-2.06-.94L8.5 2.5l-.94 2.06-2.06.94zm10 10l.94 2.06.94-2.06 2.06-.94-2.06-.94-.94-2.06-.94 2.06-2.06.94z\"/><path d=\"M17.41 7.96l-1.37-1.37c-.4-.4-.92-.59-1.43-.59-.52 0-1.04.2-1.43.59L10.3 9.45l-7.72 7.72c-.78.78-.78 2.05 0 2.83L4 21.41c.39.39.9.59 1.41.59.51 0 1.02-.2 1.41-.59l7.78-7.78 2.81-2.81c.8-.78.8-2.07 0-2.86zM5.41 20L4 18.59l7.72-7.72 1.47 1.35L5.41 20z\"/>\n",
              "  </svg>\n",
              "      </button>\n",
              "      \n",
              "  <style>\n",
              "    .colab-df-container {\n",
              "      display:flex;\n",
              "      flex-wrap:wrap;\n",
              "      gap: 12px;\n",
              "    }\n",
              "\n",
              "    .colab-df-convert {\n",
              "      background-color: #E8F0FE;\n",
              "      border: none;\n",
              "      border-radius: 50%;\n",
              "      cursor: pointer;\n",
              "      display: none;\n",
              "      fill: #1967D2;\n",
              "      height: 32px;\n",
              "      padding: 0 0 0 0;\n",
              "      width: 32px;\n",
              "    }\n",
              "\n",
              "    .colab-df-convert:hover {\n",
              "      background-color: #E2EBFA;\n",
              "      box-shadow: 0px 1px 2px rgba(60, 64, 67, 0.3), 0px 1px 3px 1px rgba(60, 64, 67, 0.15);\n",
              "      fill: #174EA6;\n",
              "    }\n",
              "\n",
              "    [theme=dark] .colab-df-convert {\n",
              "      background-color: #3B4455;\n",
              "      fill: #D2E3FC;\n",
              "    }\n",
              "\n",
              "    [theme=dark] .colab-df-convert:hover {\n",
              "      background-color: #434B5C;\n",
              "      box-shadow: 0px 1px 3px 1px rgba(0, 0, 0, 0.15);\n",
              "      filter: drop-shadow(0px 1px 2px rgba(0, 0, 0, 0.3));\n",
              "      fill: #FFFFFF;\n",
              "    }\n",
              "  </style>\n",
              "\n",
              "      <script>\n",
              "        const buttonEl =\n",
              "          document.querySelector('#df-3e0cd5fe-e670-4641-8eaf-47d17ef97922 button.colab-df-convert');\n",
              "        buttonEl.style.display =\n",
              "          google.colab.kernel.accessAllowed ? 'block' : 'none';\n",
              "\n",
              "        async function convertToInteractive(key) {\n",
              "          const element = document.querySelector('#df-3e0cd5fe-e670-4641-8eaf-47d17ef97922');\n",
              "          const dataTable =\n",
              "            await google.colab.kernel.invokeFunction('convertToInteractive',\n",
              "                                                     [key], {});\n",
              "          if (!dataTable) return;\n",
              "\n",
              "          const docLinkHtml = 'Like what you see? Visit the ' +\n",
              "            '<a target=\"_blank\" href=https://colab.research.google.com/notebooks/data_table.ipynb>data table notebook</a>'\n",
              "            + ' to learn more about interactive tables.';\n",
              "          element.innerHTML = '';\n",
              "          dataTable['output_type'] = 'display_data';\n",
              "          await google.colab.output.renderOutput(dataTable, element);\n",
              "          const docLink = document.createElement('div');\n",
              "          docLink.innerHTML = docLinkHtml;\n",
              "          element.appendChild(docLink);\n",
              "        }\n",
              "      </script>\n",
              "    </div>\n",
              "  </div>\n",
              "  "
            ]
          },
          "metadata": {},
          "execution_count": 11
        }
      ]
    },
    {
      "cell_type": "code",
      "source": [
        "df_teste.info()"
      ],
      "metadata": {
        "colab": {
          "base_uri": "https://localhost:8080/"
        },
        "id": "YJKg8D-GeyTc",
        "outputId": "03a18817-d205-41aa-c8b7-a9a2c0b6d3fc"
      },
      "execution_count": null,
      "outputs": [
        {
          "output_type": "stream",
          "name": "stdout",
          "text": [
            "<class 'pandas.core.frame.DataFrame'>\n",
            "RangeIndex: 57598 entries, 0 to 57597\n",
            "Data columns (total 4 columns):\n",
            " #   Column     Non-Null Count  Dtype  \n",
            "---  ------     --------------  -----  \n",
            " 0   datetime   57598 non-null  object \n",
            " 1   cpu        57598 non-null  float64\n",
            " 2   mem        57598 non-null  object \n",
            " 3   networkio  57598 non-null  object \n",
            "dtypes: float64(1), object(3)\n",
            "memory usage: 1.8+ MB\n"
          ]
        }
      ]
    },
    {
      "cell_type": "code",
      "source": [
        "df_teste.drop(['networkio'],axis=1)"
      ],
      "metadata": {
        "colab": {
          "base_uri": "https://localhost:8080/",
          "height": 424
        },
        "id": "8AWOgIN9e8y7",
        "outputId": "e139f7a2-c356-4012-ba71-9454184f6811"
      },
      "execution_count": null,
      "outputs": [
        {
          "output_type": "execute_result",
          "data": {
            "text/plain": [
              "                       datetime       cpu       mem\n",
              "0     2022-07-25 03:48:30-03:00  0.000840  52142080\n",
              "1     2022-07-25 03:48:45-03:00  0.000772  52432896\n",
              "2     2022-07-25 03:49:00-03:00  0.000854  52162560\n",
              "3     2022-07-25 03:49:15-03:00  0.000854  52162560\n",
              "4     2022-07-25 03:49:30-03:00  0.000854  52162560\n",
              "...                         ...       ...       ...\n",
              "57593 2022-07-25 15:42:00-03:00  0.000885  52207616\n",
              "57594 2022-07-25 15:42:15-03:00  0.000898  52207616\n",
              "57595 2022-07-25 15:42:30-03:00  0.000888  52207616\n",
              "57596 2022-07-25 15:42:45-03:00  0.000882  52207616\n",
              "57597 2022-07-25 15:43:00-03:00  0.000856  52146176\n",
              "\n",
              "[57598 rows x 3 columns]"
            ],
            "text/html": [
              "\n",
              "  <div id=\"df-6464ecd9-00e4-44fc-b9bc-4311d4c13a23\">\n",
              "    <div class=\"colab-df-container\">\n",
              "      <div>\n",
              "<style scoped>\n",
              "    .dataframe tbody tr th:only-of-type {\n",
              "        vertical-align: middle;\n",
              "    }\n",
              "\n",
              "    .dataframe tbody tr th {\n",
              "        vertical-align: top;\n",
              "    }\n",
              "\n",
              "    .dataframe thead th {\n",
              "        text-align: right;\n",
              "    }\n",
              "</style>\n",
              "<table border=\"1\" class=\"dataframe\">\n",
              "  <thead>\n",
              "    <tr style=\"text-align: right;\">\n",
              "      <th></th>\n",
              "      <th>datetime</th>\n",
              "      <th>cpu</th>\n",
              "      <th>mem</th>\n",
              "    </tr>\n",
              "  </thead>\n",
              "  <tbody>\n",
              "    <tr>\n",
              "      <th>0</th>\n",
              "      <td>2022-07-25 03:48:30-03:00</td>\n",
              "      <td>0.000840</td>\n",
              "      <td>52142080</td>\n",
              "    </tr>\n",
              "    <tr>\n",
              "      <th>1</th>\n",
              "      <td>2022-07-25 03:48:45-03:00</td>\n",
              "      <td>0.000772</td>\n",
              "      <td>52432896</td>\n",
              "    </tr>\n",
              "    <tr>\n",
              "      <th>2</th>\n",
              "      <td>2022-07-25 03:49:00-03:00</td>\n",
              "      <td>0.000854</td>\n",
              "      <td>52162560</td>\n",
              "    </tr>\n",
              "    <tr>\n",
              "      <th>3</th>\n",
              "      <td>2022-07-25 03:49:15-03:00</td>\n",
              "      <td>0.000854</td>\n",
              "      <td>52162560</td>\n",
              "    </tr>\n",
              "    <tr>\n",
              "      <th>4</th>\n",
              "      <td>2022-07-25 03:49:30-03:00</td>\n",
              "      <td>0.000854</td>\n",
              "      <td>52162560</td>\n",
              "    </tr>\n",
              "    <tr>\n",
              "      <th>...</th>\n",
              "      <td>...</td>\n",
              "      <td>...</td>\n",
              "      <td>...</td>\n",
              "    </tr>\n",
              "    <tr>\n",
              "      <th>57593</th>\n",
              "      <td>2022-07-25 15:42:00-03:00</td>\n",
              "      <td>0.000885</td>\n",
              "      <td>52207616</td>\n",
              "    </tr>\n",
              "    <tr>\n",
              "      <th>57594</th>\n",
              "      <td>2022-07-25 15:42:15-03:00</td>\n",
              "      <td>0.000898</td>\n",
              "      <td>52207616</td>\n",
              "    </tr>\n",
              "    <tr>\n",
              "      <th>57595</th>\n",
              "      <td>2022-07-25 15:42:30-03:00</td>\n",
              "      <td>0.000888</td>\n",
              "      <td>52207616</td>\n",
              "    </tr>\n",
              "    <tr>\n",
              "      <th>57596</th>\n",
              "      <td>2022-07-25 15:42:45-03:00</td>\n",
              "      <td>0.000882</td>\n",
              "      <td>52207616</td>\n",
              "    </tr>\n",
              "    <tr>\n",
              "      <th>57597</th>\n",
              "      <td>2022-07-25 15:43:00-03:00</td>\n",
              "      <td>0.000856</td>\n",
              "      <td>52146176</td>\n",
              "    </tr>\n",
              "  </tbody>\n",
              "</table>\n",
              "<p>57598 rows × 3 columns</p>\n",
              "</div>\n",
              "      <button class=\"colab-df-convert\" onclick=\"convertToInteractive('df-6464ecd9-00e4-44fc-b9bc-4311d4c13a23')\"\n",
              "              title=\"Convert this dataframe to an interactive table.\"\n",
              "              style=\"display:none;\">\n",
              "        \n",
              "  <svg xmlns=\"http://www.w3.org/2000/svg\" height=\"24px\"viewBox=\"0 0 24 24\"\n",
              "       width=\"24px\">\n",
              "    <path d=\"M0 0h24v24H0V0z\" fill=\"none\"/>\n",
              "    <path d=\"M18.56 5.44l.94 2.06.94-2.06 2.06-.94-2.06-.94-.94-2.06-.94 2.06-2.06.94zm-11 1L8.5 8.5l.94-2.06 2.06-.94-2.06-.94L8.5 2.5l-.94 2.06-2.06.94zm10 10l.94 2.06.94-2.06 2.06-.94-2.06-.94-.94-2.06-.94 2.06-2.06.94z\"/><path d=\"M17.41 7.96l-1.37-1.37c-.4-.4-.92-.59-1.43-.59-.52 0-1.04.2-1.43.59L10.3 9.45l-7.72 7.72c-.78.78-.78 2.05 0 2.83L4 21.41c.39.39.9.59 1.41.59.51 0 1.02-.2 1.41-.59l7.78-7.78 2.81-2.81c.8-.78.8-2.07 0-2.86zM5.41 20L4 18.59l7.72-7.72 1.47 1.35L5.41 20z\"/>\n",
              "  </svg>\n",
              "      </button>\n",
              "      \n",
              "  <style>\n",
              "    .colab-df-container {\n",
              "      display:flex;\n",
              "      flex-wrap:wrap;\n",
              "      gap: 12px;\n",
              "    }\n",
              "\n",
              "    .colab-df-convert {\n",
              "      background-color: #E8F0FE;\n",
              "      border: none;\n",
              "      border-radius: 50%;\n",
              "      cursor: pointer;\n",
              "      display: none;\n",
              "      fill: #1967D2;\n",
              "      height: 32px;\n",
              "      padding: 0 0 0 0;\n",
              "      width: 32px;\n",
              "    }\n",
              "\n",
              "    .colab-df-convert:hover {\n",
              "      background-color: #E2EBFA;\n",
              "      box-shadow: 0px 1px 2px rgba(60, 64, 67, 0.3), 0px 1px 3px 1px rgba(60, 64, 67, 0.15);\n",
              "      fill: #174EA6;\n",
              "    }\n",
              "\n",
              "    [theme=dark] .colab-df-convert {\n",
              "      background-color: #3B4455;\n",
              "      fill: #D2E3FC;\n",
              "    }\n",
              "\n",
              "    [theme=dark] .colab-df-convert:hover {\n",
              "      background-color: #434B5C;\n",
              "      box-shadow: 0px 1px 3px 1px rgba(0, 0, 0, 0.15);\n",
              "      filter: drop-shadow(0px 1px 2px rgba(0, 0, 0, 0.3));\n",
              "      fill: #FFFFFF;\n",
              "    }\n",
              "  </style>\n",
              "\n",
              "      <script>\n",
              "        const buttonEl =\n",
              "          document.querySelector('#df-6464ecd9-00e4-44fc-b9bc-4311d4c13a23 button.colab-df-convert');\n",
              "        buttonEl.style.display =\n",
              "          google.colab.kernel.accessAllowed ? 'block' : 'none';\n",
              "\n",
              "        async function convertToInteractive(key) {\n",
              "          const element = document.querySelector('#df-6464ecd9-00e4-44fc-b9bc-4311d4c13a23');\n",
              "          const dataTable =\n",
              "            await google.colab.kernel.invokeFunction('convertToInteractive',\n",
              "                                                     [key], {});\n",
              "          if (!dataTable) return;\n",
              "\n",
              "          const docLinkHtml = 'Like what you see? Visit the ' +\n",
              "            '<a target=\"_blank\" href=https://colab.research.google.com/notebooks/data_table.ipynb>data table notebook</a>'\n",
              "            + ' to learn more about interactive tables.';\n",
              "          element.innerHTML = '';\n",
              "          dataTable['output_type'] = 'display_data';\n",
              "          await google.colab.output.renderOutput(dataTable, element);\n",
              "          const docLink = document.createElement('div');\n",
              "          docLink.innerHTML = docLinkHtml;\n",
              "          element.appendChild(docLink);\n",
              "        }\n",
              "      </script>\n",
              "    </div>\n",
              "  </div>\n",
              "  "
            ]
          },
          "metadata": {},
          "execution_count": 26
        }
      ]
    },
    {
      "cell_type": "code",
      "source": [
        "df_teste[\"datetime\"] = pd.to_datetime,(df_teste[\"datetime\"])\n",
        "\n",
        "#"
      ],
      "metadata": {
        "colab": {
          "base_uri": "https://localhost:8080/",
          "height": 345
        },
        "id": "BTzMsCNkfxKH",
        "outputId": "ac317476-7216-4e39-e601-5201a6ca26eb"
      },
      "execution_count": null,
      "outputs": [
        {
          "output_type": "error",
          "ename": "ValueError",
          "evalue": "ignored",
          "traceback": [
            "\u001b[0;31m---------------------------------------------------------------------------\u001b[0m",
            "\u001b[0;31mValueError\u001b[0m                                Traceback (most recent call last)",
            "\u001b[0;32m<ipython-input-30-73686d718ea6>\u001b[0m in \u001b[0;36m<module>\u001b[0;34m\u001b[0m\n\u001b[0;32m----> 1\u001b[0;31m \u001b[0mdf_teste\u001b[0m\u001b[0;34m[\u001b[0m\u001b[0;34m\"datetime\"\u001b[0m\u001b[0;34m]\u001b[0m \u001b[0;34m=\u001b[0m \u001b[0mpd\u001b[0m\u001b[0;34m.\u001b[0m\u001b[0mto_datetime\u001b[0m\u001b[0;34m,\u001b[0m\u001b[0;34m(\u001b[0m\u001b[0mdf_teste\u001b[0m\u001b[0;34m[\u001b[0m\u001b[0;34m\"datetime\"\u001b[0m\u001b[0;34m]\u001b[0m\u001b[0;34m)\u001b[0m\u001b[0;34m\u001b[0m\u001b[0;34m\u001b[0m\u001b[0m\n\u001b[0m\u001b[1;32m      2\u001b[0m \u001b[0;34m\u001b[0m\u001b[0m\n\u001b[1;32m      3\u001b[0m \u001b[0;31m#\u001b[0m\u001b[0;34m\u001b[0m\u001b[0;34m\u001b[0m\u001b[0;34m\u001b[0m\u001b[0m\n",
            "\u001b[0;32m/usr/local/lib/python3.7/dist-packages/pandas/core/frame.py\u001b[0m in \u001b[0;36m__setitem__\u001b[0;34m(self, key, value)\u001b[0m\n\u001b[1;32m   3610\u001b[0m         \u001b[0;32melse\u001b[0m\u001b[0;34m:\u001b[0m\u001b[0;34m\u001b[0m\u001b[0;34m\u001b[0m\u001b[0m\n\u001b[1;32m   3611\u001b[0m             \u001b[0;31m# set column\u001b[0m\u001b[0;34m\u001b[0m\u001b[0;34m\u001b[0m\u001b[0;34m\u001b[0m\u001b[0m\n\u001b[0;32m-> 3612\u001b[0;31m             \u001b[0mself\u001b[0m\u001b[0;34m.\u001b[0m\u001b[0m_set_item\u001b[0m\u001b[0;34m(\u001b[0m\u001b[0mkey\u001b[0m\u001b[0;34m,\u001b[0m \u001b[0mvalue\u001b[0m\u001b[0;34m)\u001b[0m\u001b[0;34m\u001b[0m\u001b[0;34m\u001b[0m\u001b[0m\n\u001b[0m\u001b[1;32m   3613\u001b[0m \u001b[0;34m\u001b[0m\u001b[0m\n\u001b[1;32m   3614\u001b[0m     \u001b[0;32mdef\u001b[0m \u001b[0m_setitem_slice\u001b[0m\u001b[0;34m(\u001b[0m\u001b[0mself\u001b[0m\u001b[0;34m,\u001b[0m \u001b[0mkey\u001b[0m\u001b[0;34m:\u001b[0m \u001b[0mslice\u001b[0m\u001b[0;34m,\u001b[0m \u001b[0mvalue\u001b[0m\u001b[0;34m)\u001b[0m\u001b[0;34m:\u001b[0m\u001b[0;34m\u001b[0m\u001b[0;34m\u001b[0m\u001b[0m\n",
            "\u001b[0;32m/usr/local/lib/python3.7/dist-packages/pandas/core/frame.py\u001b[0m in \u001b[0;36m_set_item\u001b[0;34m(self, key, value)\u001b[0m\n\u001b[1;32m   3782\u001b[0m         \u001b[0mensure\u001b[0m \u001b[0mhomogeneity\u001b[0m\u001b[0;34m.\u001b[0m\u001b[0;34m\u001b[0m\u001b[0;34m\u001b[0m\u001b[0m\n\u001b[1;32m   3783\u001b[0m         \"\"\"\n\u001b[0;32m-> 3784\u001b[0;31m         \u001b[0mvalue\u001b[0m \u001b[0;34m=\u001b[0m \u001b[0mself\u001b[0m\u001b[0;34m.\u001b[0m\u001b[0m_sanitize_column\u001b[0m\u001b[0;34m(\u001b[0m\u001b[0mvalue\u001b[0m\u001b[0;34m)\u001b[0m\u001b[0;34m\u001b[0m\u001b[0;34m\u001b[0m\u001b[0m\n\u001b[0m\u001b[1;32m   3785\u001b[0m \u001b[0;34m\u001b[0m\u001b[0m\n\u001b[1;32m   3786\u001b[0m         if (\n",
            "\u001b[0;32m/usr/local/lib/python3.7/dist-packages/pandas/core/frame.py\u001b[0m in \u001b[0;36m_sanitize_column\u001b[0;34m(self, value)\u001b[0m\n\u001b[1;32m   4507\u001b[0m \u001b[0;34m\u001b[0m\u001b[0m\n\u001b[1;32m   4508\u001b[0m         \u001b[0;32mif\u001b[0m \u001b[0mis_list_like\u001b[0m\u001b[0;34m(\u001b[0m\u001b[0mvalue\u001b[0m\u001b[0;34m)\u001b[0m\u001b[0;34m:\u001b[0m\u001b[0;34m\u001b[0m\u001b[0;34m\u001b[0m\u001b[0m\n\u001b[0;32m-> 4509\u001b[0;31m             \u001b[0mcom\u001b[0m\u001b[0;34m.\u001b[0m\u001b[0mrequire_length_match\u001b[0m\u001b[0;34m(\u001b[0m\u001b[0mvalue\u001b[0m\u001b[0;34m,\u001b[0m \u001b[0mself\u001b[0m\u001b[0;34m.\u001b[0m\u001b[0mindex\u001b[0m\u001b[0;34m)\u001b[0m\u001b[0;34m\u001b[0m\u001b[0;34m\u001b[0m\u001b[0m\n\u001b[0m\u001b[1;32m   4510\u001b[0m         \u001b[0;32mreturn\u001b[0m \u001b[0msanitize_array\u001b[0m\u001b[0;34m(\u001b[0m\u001b[0mvalue\u001b[0m\u001b[0;34m,\u001b[0m \u001b[0mself\u001b[0m\u001b[0;34m.\u001b[0m\u001b[0mindex\u001b[0m\u001b[0;34m,\u001b[0m \u001b[0mcopy\u001b[0m\u001b[0;34m=\u001b[0m\u001b[0;32mTrue\u001b[0m\u001b[0;34m,\u001b[0m \u001b[0mallow_2d\u001b[0m\u001b[0;34m=\u001b[0m\u001b[0;32mTrue\u001b[0m\u001b[0;34m)\u001b[0m\u001b[0;34m\u001b[0m\u001b[0;34m\u001b[0m\u001b[0m\n\u001b[1;32m   4511\u001b[0m \u001b[0;34m\u001b[0m\u001b[0m\n",
            "\u001b[0;32m/usr/local/lib/python3.7/dist-packages/pandas/core/common.py\u001b[0m in \u001b[0;36mrequire_length_match\u001b[0;34m(data, index)\u001b[0m\n\u001b[1;32m    530\u001b[0m     \u001b[0;32mif\u001b[0m \u001b[0mlen\u001b[0m\u001b[0;34m(\u001b[0m\u001b[0mdata\u001b[0m\u001b[0;34m)\u001b[0m \u001b[0;34m!=\u001b[0m \u001b[0mlen\u001b[0m\u001b[0;34m(\u001b[0m\u001b[0mindex\u001b[0m\u001b[0;34m)\u001b[0m\u001b[0;34m:\u001b[0m\u001b[0;34m\u001b[0m\u001b[0;34m\u001b[0m\u001b[0m\n\u001b[1;32m    531\u001b[0m         raise ValueError(\n\u001b[0;32m--> 532\u001b[0;31m             \u001b[0;34m\"Length of values \"\u001b[0m\u001b[0;34m\u001b[0m\u001b[0;34m\u001b[0m\u001b[0m\n\u001b[0m\u001b[1;32m    533\u001b[0m             \u001b[0;34mf\"({len(data)}) \"\u001b[0m\u001b[0;34m\u001b[0m\u001b[0;34m\u001b[0m\u001b[0m\n\u001b[1;32m    534\u001b[0m             \u001b[0;34m\"does not match length of index \"\u001b[0m\u001b[0;34m\u001b[0m\u001b[0;34m\u001b[0m\u001b[0m\n",
            "\u001b[0;31mValueError\u001b[0m: Length of values (2) does not match length of index (57598)"
          ]
        }
      ]
    },
    {
      "cell_type": "code",
      "source": [
        "df_teste.info()"
      ],
      "metadata": {
        "colab": {
          "base_uri": "https://localhost:8080/"
        },
        "id": "sHskAnFqgGIi",
        "outputId": "4fc8d7c8-82e8-4c74-dc2b-98da2760b9a6"
      },
      "execution_count": null,
      "outputs": [
        {
          "output_type": "stream",
          "name": "stdout",
          "text": [
            "<class 'pandas.core.frame.DataFrame'>\n",
            "RangeIndex: 57598 entries, 0 to 57597\n",
            "Data columns (total 4 columns):\n",
            " #   Column     Non-Null Count  Dtype                                 \n",
            "---  ------     --------------  -----                                 \n",
            " 0   datetime   57598 non-null  datetime64[ns, pytz.FixedOffset(-180)]\n",
            " 1   cpu        57598 non-null  float64                               \n",
            " 2   mem        57598 non-null  object                                \n",
            " 3   networkio  57598 non-null  object                                \n",
            "dtypes: datetime64[ns, pytz.FixedOffset(-180)](1), float64(1), object(2)\n",
            "memory usage: 1.8+ MB\n"
          ]
        }
      ]
    },
    {
      "cell_type": "code",
      "source": [
        "df_teste_ajustado = df_teste.resample('H').mean()\n",
        "\n",
        "\n",
        "df['date'] = pd.to_datetime(df['date'])\n",
        "weekly_summary = df.story_point.resample('W', on='date').sum()"
      ],
      "metadata": {
        "colab": {
          "base_uri": "https://localhost:8080/",
          "height": 311
        },
        "id": "yl7fbk0IeiDc",
        "outputId": "7c9b4375-90b9-484f-c891-5ab6a7957999"
      },
      "execution_count": null,
      "outputs": [
        {
          "output_type": "error",
          "ename": "TypeError",
          "evalue": "ignored",
          "traceback": [
            "\u001b[0;31m---------------------------------------------------------------------------\u001b[0m",
            "\u001b[0;31mTypeError\u001b[0m                                 Traceback (most recent call last)",
            "\u001b[0;32m<ipython-input-27-a3c3553755fe>\u001b[0m in \u001b[0;36m<module>\u001b[0;34m\u001b[0m\n\u001b[0;32m----> 1\u001b[0;31m \u001b[0mdf_teste_ajustado\u001b[0m \u001b[0;34m=\u001b[0m \u001b[0mdf_teste\u001b[0m\u001b[0;34m.\u001b[0m\u001b[0mresample\u001b[0m\u001b[0;34m(\u001b[0m\u001b[0;34m'H'\u001b[0m\u001b[0;34m)\u001b[0m\u001b[0;34m.\u001b[0m\u001b[0mmean\u001b[0m\u001b[0;34m(\u001b[0m\u001b[0;34m)\u001b[0m\u001b[0;34m\u001b[0m\u001b[0;34m\u001b[0m\u001b[0m\n\u001b[0m",
            "\u001b[0;32m/usr/local/lib/python3.7/dist-packages/pandas/core/frame.py\u001b[0m in \u001b[0;36mresample\u001b[0;34m(self, rule, axis, closed, label, convention, kind, loffset, base, on, level, origin, offset)\u001b[0m\n\u001b[1;32m  10360\u001b[0m             \u001b[0mlevel\u001b[0m\u001b[0;34m=\u001b[0m\u001b[0mlevel\u001b[0m\u001b[0;34m,\u001b[0m\u001b[0;34m\u001b[0m\u001b[0;34m\u001b[0m\u001b[0m\n\u001b[1;32m  10361\u001b[0m             \u001b[0morigin\u001b[0m\u001b[0;34m=\u001b[0m\u001b[0morigin\u001b[0m\u001b[0;34m,\u001b[0m\u001b[0;34m\u001b[0m\u001b[0;34m\u001b[0m\u001b[0m\n\u001b[0;32m> 10362\u001b[0;31m             \u001b[0moffset\u001b[0m\u001b[0;34m=\u001b[0m\u001b[0moffset\u001b[0m\u001b[0;34m,\u001b[0m\u001b[0;34m\u001b[0m\u001b[0;34m\u001b[0m\u001b[0m\n\u001b[0m\u001b[1;32m  10363\u001b[0m         )\n\u001b[1;32m  10364\u001b[0m \u001b[0;34m\u001b[0m\u001b[0m\n",
            "\u001b[0;32m/usr/local/lib/python3.7/dist-packages/pandas/core/generic.py\u001b[0m in \u001b[0;36mresample\u001b[0;34m(self, rule, axis, closed, label, convention, kind, loffset, base, on, level, origin, offset)\u001b[0m\n\u001b[1;32m   8137\u001b[0m             \u001b[0mlevel\u001b[0m\u001b[0;34m=\u001b[0m\u001b[0mlevel\u001b[0m\u001b[0;34m,\u001b[0m\u001b[0;34m\u001b[0m\u001b[0;34m\u001b[0m\u001b[0m\n\u001b[1;32m   8138\u001b[0m             \u001b[0morigin\u001b[0m\u001b[0;34m=\u001b[0m\u001b[0morigin\u001b[0m\u001b[0;34m,\u001b[0m\u001b[0;34m\u001b[0m\u001b[0;34m\u001b[0m\u001b[0m\n\u001b[0;32m-> 8139\u001b[0;31m             \u001b[0moffset\u001b[0m\u001b[0;34m=\u001b[0m\u001b[0moffset\u001b[0m\u001b[0;34m,\u001b[0m\u001b[0;34m\u001b[0m\u001b[0;34m\u001b[0m\u001b[0m\n\u001b[0m\u001b[1;32m   8140\u001b[0m         )\n\u001b[1;32m   8141\u001b[0m \u001b[0;34m\u001b[0m\u001b[0m\n",
            "\u001b[0;32m/usr/local/lib/python3.7/dist-packages/pandas/core/resample.py\u001b[0m in \u001b[0;36mget_resampler\u001b[0;34m(obj, kind, **kwds)\u001b[0m\n\u001b[1;32m   1380\u001b[0m     \"\"\"\n\u001b[1;32m   1381\u001b[0m     \u001b[0mtg\u001b[0m \u001b[0;34m=\u001b[0m \u001b[0mTimeGrouper\u001b[0m\u001b[0;34m(\u001b[0m\u001b[0;34m**\u001b[0m\u001b[0mkwds\u001b[0m\u001b[0;34m)\u001b[0m\u001b[0;34m\u001b[0m\u001b[0;34m\u001b[0m\u001b[0m\n\u001b[0;32m-> 1382\u001b[0;31m     \u001b[0;32mreturn\u001b[0m \u001b[0mtg\u001b[0m\u001b[0;34m.\u001b[0m\u001b[0m_get_resampler\u001b[0m\u001b[0;34m(\u001b[0m\u001b[0mobj\u001b[0m\u001b[0;34m,\u001b[0m \u001b[0mkind\u001b[0m\u001b[0;34m=\u001b[0m\u001b[0mkind\u001b[0m\u001b[0;34m)\u001b[0m\u001b[0;34m\u001b[0m\u001b[0;34m\u001b[0m\u001b[0m\n\u001b[0m\u001b[1;32m   1383\u001b[0m \u001b[0;34m\u001b[0m\u001b[0m\n\u001b[1;32m   1384\u001b[0m \u001b[0;34m\u001b[0m\u001b[0m\n",
            "\u001b[0;32m/usr/local/lib/python3.7/dist-packages/pandas/core/resample.py\u001b[0m in \u001b[0;36m_get_resampler\u001b[0;34m(self, obj, kind)\u001b[0m\n\u001b[1;32m   1557\u001b[0m \u001b[0;34m\u001b[0m\u001b[0m\n\u001b[1;32m   1558\u001b[0m         raise TypeError(\n\u001b[0;32m-> 1559\u001b[0;31m             \u001b[0;34m\"Only valid with DatetimeIndex, \"\u001b[0m\u001b[0;34m\u001b[0m\u001b[0;34m\u001b[0m\u001b[0m\n\u001b[0m\u001b[1;32m   1560\u001b[0m             \u001b[0;34m\"TimedeltaIndex or PeriodIndex, \"\u001b[0m\u001b[0;34m\u001b[0m\u001b[0;34m\u001b[0m\u001b[0m\n\u001b[1;32m   1561\u001b[0m             \u001b[0;34mf\"but got an instance of '{type(ax).__name__}'\"\u001b[0m\u001b[0;34m\u001b[0m\u001b[0;34m\u001b[0m\u001b[0m\n",
            "\u001b[0;31mTypeError\u001b[0m: Only valid with DatetimeIndex, TimedeltaIndex or PeriodIndex, but got an instance of 'RangeIndex'"
          ]
        }
      ]
    }
  ]
}